{
 "cells": [
  {
   "cell_type": "markdown",
   "metadata": {},
   "source": [
    "### SGD Linear Regression"
   ]
  },
  {
   "cell_type": "code",
   "execution_count": 1,
   "metadata": {},
   "outputs": [],
   "source": [
    "import numpy as np\n",
    "import pandas as pd\n",
    "import seaborn as sns\n",
    "import matplotlib.pyplot as plt\n",
    "import string\n",
    "from sklearn import metrics\n",
    "from sklearn.metrics import confusion_matrix\n",
    "from sklearn.metrics import roc_curve,auc\n",
    "import warnings\n",
    "warnings.filterwarnings(\"ignore\")"
   ]
  },
  {
   "cell_type": "code",
   "execution_count": 2,
   "metadata": {},
   "outputs": [],
   "source": [
    "from sklearn.datasets import load_boston\n",
    "boston = load_boston()"
   ]
  },
  {
   "cell_type": "code",
   "execution_count": 3,
   "metadata": {},
   "outputs": [
    {
     "name": "stdout",
     "output_type": "stream",
     "text": [
      "(506, 13)\n"
     ]
    }
   ],
   "source": [
    "print(boston.data.shape)"
   ]
  },
  {
   "cell_type": "code",
   "execution_count": 4,
   "metadata": {},
   "outputs": [
    {
     "name": "stdout",
     "output_type": "stream",
     "text": [
      "      CRIM    ZN INDUS CHAS    NOX     RM   AGE     DIS  RAD    TAX PTRATIO  \\\n",
      "0  0.00632  18.0  2.31  0.0  0.538  6.575  65.2  4.0900  1.0  296.0    15.3   \n",
      "1  0.02731   0.0  7.07  0.0  0.469  6.421  78.9  4.9671  2.0  242.0    17.8   \n",
      "2  0.02729   0.0  7.07  0.0  0.469  7.185  61.1  4.9671  2.0  242.0    17.8   \n",
      "3  0.03237   0.0  2.18  0.0  0.458  6.998  45.8  6.0622  3.0  222.0    18.7   \n",
      "4  0.06905   0.0  2.18  0.0  0.458  7.147  54.2  6.0622  3.0  222.0    18.7   \n",
      "\n",
      "        B LSTAT  \n",
      "0  396.90  4.98  \n",
      "1  396.90  9.14  \n",
      "2  392.83  4.03  \n",
      "3  394.63  2.94  \n",
      "4  396.90  5.33  \n"
     ]
    }
   ],
   "source": [
    "bos = pd.DataFrame(boston.data,columns = [boston.feature_names])\n",
    "print(bos.head())"
   ]
  },
  {
   "cell_type": "code",
   "execution_count": 5,
   "metadata": {},
   "outputs": [],
   "source": [
    "bos['PRICE'] = boston.target\n",
    "x = bos.drop('PRICE', axis = 1)\n",
    "y = bos['PRICE']"
   ]
  },
  {
   "cell_type": "code",
   "execution_count": 6,
   "metadata": {},
   "outputs": [],
   "source": [
    "from sklearn.model_selection import train_test_split\n",
    "x_train, x_test, y_train, y_test = train_test_split(x, y, test_size = 0.33,random_state = 5)"
   ]
  },
  {
   "cell_type": "markdown",
   "metadata": {},
   "source": [
    "### Data Standardization"
   ]
  },
  {
   "cell_type": "code",
   "execution_count": 7,
   "metadata": {},
   "outputs": [],
   "source": [
    "from sklearn.preprocessing import StandardScaler\n",
    "std_scaler = StandardScaler()\n",
    "std_data_x_train = std_scaler.fit_transform(x_train.values)\n",
    "std_data_x_test = std_scaler.transform(x_test.values)"
   ]
  },
  {
   "cell_type": "code",
   "execution_count": 8,
   "metadata": {},
   "outputs": [],
   "source": [
    "x_train = pd.DataFrame(std_data_x_train)\n",
    "x_test = pd.DataFrame(std_data_x_test)"
   ]
  },
  {
   "cell_type": "code",
   "execution_count": 9,
   "metadata": {},
   "outputs": [],
   "source": [
    "mean_value = y_train['PRICE'].mean()\n",
    "y_train['PRICE'] = y_train['PRICE'].fillna(mean_value)"
   ]
  },
  {
   "cell_type": "code",
   "execution_count": 10,
   "metadata": {},
   "outputs": [
    {
     "data": {
      "text/plain": [
       "PRICE    0\n",
       "dtype: int64"
      ]
     },
     "execution_count": 10,
     "metadata": {},
     "output_type": "execute_result"
    }
   ],
   "source": [
    "y_train['PRICE'].isnull().sum()"
   ]
  },
  {
   "cell_type": "markdown",
   "metadata": {},
   "source": [
    "### SGD Model "
   ]
  },
  {
   "cell_type": "code",
   "execution_count": 25,
   "metadata": {},
   "outputs": [],
   "source": [
    "def gradient_descent(iterations,step_size,batch_size,x_train,y_train,lr_rate_type):\n",
    "\n",
    "    w_init =  np.zeros((1,13))\n",
    "    b_init = 0\n",
    "    lr_rate = step_size\n",
    "    t = 1\n",
    "    power_t = 0.25\n",
    "    \n",
    "    optimal_w = []\n",
    "    optimal_b = []\n",
    "    k = 1\n",
    "    for i in range(iterations):\n",
    "        \n",
    "        ind = np.random.choice(x_train.shape[0],batch_size,replace=False)\n",
    "        x_i = x_train.iloc[ind].values\n",
    "        y_i = y_train.iloc[ind].values\n",
    "        \n",
    "        w_init1 = np.zeros((1,13))\n",
    "        b_init1 = 0\n",
    "        \n",
    "        for j in range(batch_size):\n",
    "            error = y_i[j] - np.dot(w_init, x_i[j]) + b_init\n",
    "            w_init1 += (np.multiply(x_i[j],error))\n",
    "            b_init1 += (error)\n",
    "        \n",
    "        w_init1 *= (-2/(x_train.shape[0]))\n",
    "        b_init1 *= (-2/(x_train.shape[0]))\n",
    "\n",
    "        \n",
    "        w_new = w_init - (lr_rate * w_init1)\n",
    "        b_new = b_init - (lr_rate * b_init1)\n",
    "        \n",
    "        if lr_rate_type == 'invscaling':\n",
    "            lr_rate = step_size / pow(t, power_t)\n",
    "        \n",
    "        ## LR_RATE_TYPE from Sklearn SGDRegressor\n",
    "            \n",
    "        w_init = w_new\n",
    "        b_init = b_new\n",
    "        k = k+1\n",
    "\n",
    "    return w_new,b_new,k"
   ]
  },
  {
   "cell_type": "code",
   "execution_count": 26,
   "metadata": {},
   "outputs": [],
   "source": [
    "opt_w,opt_b,loops = gradient_descent(1200,0.01,10,x_train,y_train,lr_rate_type='invscaling')"
   ]
  },
  {
   "cell_type": "markdown",
   "metadata": {},
   "source": [
    "### Optimal W, Optimal B of SGD Model"
   ]
  },
  {
   "cell_type": "code",
   "execution_count": 27,
   "metadata": {},
   "outputs": [
    {
     "name": "stdout",
     "output_type": "stream",
     "text": [
      "Optimal W [[-0.74141952]\n",
      " [ 0.2213824 ]\n",
      " [-0.57364349]\n",
      " [ 0.54644303]\n",
      " [-0.38856084]\n",
      " [ 2.12151689]\n",
      " [-0.27486788]\n",
      " [-0.61939407]\n",
      " [-0.32761194]\n",
      " [-0.67078526]\n",
      " [-1.25433825]\n",
      " [ 0.62125606]\n",
      " [-2.01574218]]\n",
      "Optimal B 23.234001233703694\n",
      "Total no. of loops 1201\n"
     ]
    }
   ],
   "source": [
    "print('Optimal W',opt_w.T)\n",
    "print('Optimal B',opt_b[0])\n",
    "print('Total no. of loops',loops)"
   ]
  },
  {
   "cell_type": "markdown",
   "metadata": {},
   "source": [
    "### Prediction"
   ]
  },
  {
   "cell_type": "code",
   "execution_count": 28,
   "metadata": {},
   "outputs": [
    {
     "name": "stdout",
     "output_type": "stream",
     "text": [
      "[[33.09138813]\n",
      " [29.05059469]\n",
      " [27.26277586]\n",
      " [ 8.89034354]\n",
      " [33.42891215]]\n",
      "    PRICE\n",
      "226  37.6\n",
      "292  27.9\n",
      "90   22.6\n",
      "373  13.8\n",
      "273  35.2\n",
      "         0         1         2         3         4         5         6   \\\n",
      "0 -0.372923 -0.502419 -0.711561 -0.256978 -0.421814  2.509379  0.675707   \n",
      "1 -0.414165  3.075732 -0.898942 -0.256978 -1.231765  0.487468 -1.560575   \n",
      "2 -0.412891 -0.502419 -1.129795 -0.256978 -0.552451  0.182031 -0.047275   \n",
      "3  0.905605 -0.502419  1.072305 -0.256978  1.006488 -1.984712  1.154151   \n",
      "4 -0.392026  0.392119 -0.597633  3.891382 -0.770180  2.008920 -0.554071   \n",
      "\n",
      "         7         8         9         10        11        12  \n",
      "0 -0.284956 -0.182270 -0.582684 -0.489550  0.318974 -1.331126  \n",
      "1  0.653383 -0.641670 -0.951366  0.344640  0.427436 -1.108619  \n",
      "2 -0.345867 -0.871371 -0.802704 -0.304174  0.373661 -0.526132  \n",
      "3 -1.292647  1.655334  1.552100  0.808078  0.427436  3.153033  \n",
      "4  0.283082 -0.756521 -1.082188  0.066577  0.357596 -0.842177  \n"
     ]
    }
   ],
   "source": [
    "final_y = ((x_test.values).dot((opt_w).T) + opt_b[0])\n",
    "print(final_y[:5])\n",
    "print(y_test.head())\n",
    "print(x_test.head())"
   ]
  },
  {
   "cell_type": "markdown",
   "metadata": {},
   "source": [
    "### Mean Squared Error of SGD Model"
   ]
  },
  {
   "cell_type": "code",
   "execution_count": 29,
   "metadata": {},
   "outputs": [
    {
     "data": {
      "text/plain": [
       "36.60437522665921"
      ]
     },
     "execution_count": 29,
     "metadata": {},
     "output_type": "execute_result"
    }
   ],
   "source": [
    "from sklearn.metrics import mean_squared_error\n",
    "mse = mean_squared_error(y_test.values,final_y)\n",
    "mse"
   ]
  },
  {
   "cell_type": "code",
   "execution_count": 30,
   "metadata": {},
   "outputs": [
    {
     "data": {
      "text/plain": [
       "6.050154975424944"
      ]
     },
     "execution_count": 30,
     "metadata": {},
     "output_type": "execute_result"
    }
   ],
   "source": [
    "np.sqrt(mse)"
   ]
  },
  {
   "cell_type": "markdown",
   "metadata": {},
   "source": [
    "### Plot of Actual Y vs Predicted Y of Model"
   ]
  },
  {
   "cell_type": "code",
   "execution_count": 31,
   "metadata": {},
   "outputs": [
    {
     "data": {
      "text/plain": [
       "<matplotlib.collections.PathCollection at 0x1a1e253908>"
      ]
     },
     "execution_count": 31,
     "metadata": {},
     "output_type": "execute_result"
    },
    {
     "data": {
      "image/png": "[encoded data removed]",
      "text/plain": [
       "<Figure size 432x288 with 1 Axes>"
      ]
     },
     "metadata": {},
     "output_type": "display_data"
    }
   ],
   "source": [
    "plt.scatter(y_test.values,final_y)"
   ]
  },
  {
   "cell_type": "markdown",
   "metadata": {},
   "source": [
    "### R2 Score of SGD Model"
   ]
  },
  {
   "cell_type": "code",
   "execution_count": 32,
   "metadata": {},
   "outputs": [
    {
     "data": {
      "text/plain": [
       "0.6095277469021806"
      ]
     },
     "execution_count": 32,
     "metadata": {},
     "output_type": "execute_result"
    }
   ],
   "source": [
    "from sklearn.metrics import r2_score\n",
    "score = r2_score(np.array(y_test), final_y)\n",
    "score"
   ]
  },
  {
   "cell_type": "markdown",
   "metadata": {},
   "source": [
    "### SGD Model of Scikit Learn"
   ]
  },
  {
   "cell_type": "code",
   "execution_count": 33,
   "metadata": {},
   "outputs": [
    {
     "data": {
      "text/plain": [
       "SGDRegressor(alpha=0.01, average=False, epsilon=0.1, eta0=0.01,\n",
       "       fit_intercept=True, l1_ratio=0.15, learning_rate='invscaling',\n",
       "       loss='squared_loss', max_iter=None, n_iter=1200, penalty=None,\n",
       "       power_t=0.25, random_state=None, shuffle=True, tol=None, verbose=0,\n",
       "       warm_start=False)"
      ]
     },
     "execution_count": 33,
     "metadata": {},
     "output_type": "execute_result"
    }
   ],
   "source": [
    "from sklearn.linear_model import SGDRegressor\n",
    "sgd_reg = SGDRegressor(n_iter=1200, penalty=None, eta0=0.01,learning_rate = 'invscaling',alpha=0.01)\n",
    "sgd_reg.fit(x_train, y_train)"
   ]
  },
  {
   "cell_type": "code",
   "execution_count": 34,
   "metadata": {},
   "outputs": [],
   "source": [
    "pred1 = sgd_reg.predict(x_test)"
   ]
  },
  {
   "cell_type": "markdown",
   "metadata": {},
   "source": [
    "### R2 Score of Scikit Learn Model"
   ]
  },
  {
   "cell_type": "code",
   "execution_count": 35,
   "metadata": {},
   "outputs": [
    {
     "data": {
      "text/plain": [
       "0.6962292779651129"
      ]
     },
     "execution_count": 35,
     "metadata": {},
     "output_type": "execute_result"
    }
   ],
   "source": [
    "score = r2_score(y_test.values, pred1)\n",
    "score"
   ]
  },
  {
   "cell_type": "markdown",
   "metadata": {},
   "source": [
    "### Mean Squared Error of Scikit Learn Model"
   ]
  },
  {
   "cell_type": "code",
   "execution_count": 36,
   "metadata": {},
   "outputs": [
    {
     "data": {
      "text/plain": [
       "5.3363507436556405"
      ]
     },
     "execution_count": 36,
     "metadata": {},
     "output_type": "execute_result"
    }
   ],
   "source": [
    "mse = mean_squared_error(np.array(y_test),pred1)\n",
    "np.sqrt(mse)"
   ]
  },
  {
   "cell_type": "markdown",
   "metadata": {},
   "source": [
    "### Plot of Actual Y vs Predicted Y of Scikitlearn SGD model"
   ]
  },
  {
   "cell_type": "code",
   "execution_count": 37,
   "metadata": {},
   "outputs": [
    {
     "data": {
      "image/png": "[encoded data removed]",
      "text/plain": [
       "<Figure size 432x288 with 1 Axes>"
      ]
     },
     "metadata": {},
     "output_type": "display_data"
    }
   ],
   "source": [
    "plt.scatter(y_test.values,pred1)\n",
    "plt.xlabel('Actual Y')\n",
    "plt.ylabel('Predicted Y of Scikit learn SGD model')\n",
    "plt.show()"
   ]
  },
  {
   "cell_type": "markdown",
   "metadata": {},
   "source": [
    "### Optimal W of Scikit learn SGD Model"
   ]
  },
  {
   "cell_type": "code",
   "execution_count": 38,
   "metadata": {},
   "outputs": [
    {
     "data": {
      "text/plain": [
       "array([-1.30893904,  0.85957709, -0.16135096,  0.19539711, -1.48401279,\n",
       "        2.78773606, -0.32203063, -2.77722646,  2.98195394, -2.26852175,\n",
       "       -2.12969884,  1.06049332, -3.33444132])"
      ]
     },
     "execution_count": 38,
     "metadata": {},
     "output_type": "execute_result"
    }
   ],
   "source": [
    "sgd_reg.coef_"
   ]
  },
  {
   "cell_type": "markdown",
   "metadata": {},
   "source": [
    "### Optimal B of Scikit learn SGD Model"
   ]
  },
  {
   "cell_type": "code",
   "execution_count": 39,
   "metadata": {},
   "outputs": [
    {
     "data": {
      "text/plain": [
       "array([22.53739341])"
      ]
     },
     "execution_count": 39,
     "metadata": {},
     "output_type": "execute_result"
    }
   ],
   "source": [
    "sgd_reg.intercept_"
   ]
  },
  {
   "cell_type": "markdown",
   "metadata": {},
   "source": [
    "### Plot of Predicted Y of SGD Model vs Predicted Y of Scikitlearn SGD model"
   ]
  },
  {
   "cell_type": "code",
   "execution_count": 40,
   "metadata": {},
   "outputs": [
    {
     "data": {
      "image/png": "[encoded data removed]",
      "text/plain": [
       "<Figure size 432x288 with 1 Axes>"
      ]
     },
     "metadata": {},
     "output_type": "display_data"
    }
   ],
   "source": [
    "plt.scatter(final_y,pred1)\n",
    "plt.xlabel('Predicted Y of Model_1')\n",
    "plt.ylabel('Predicted Y of Scikit learn SGD model')\n",
    "plt.show()"
   ]
  }
 ],
 "metadata": {
  "kernelspec": {
   "display_name": "Python 3",
   "language": "python",
   "name": "python3"
  },
  "language_info": {
   "codemirror_mode": {
    "name": "ipython",
    "version": 3
   },
   "file_extension": ".py",
   "mimetype": "text/x-python",
   "name": "python",
   "nbconvert_exporter": "python",
   "pygments_lexer": "ipython3",
   "version": "3.6.5"
  }
 },
 "nbformat": 4,
 "nbformat_minor": 2
}
