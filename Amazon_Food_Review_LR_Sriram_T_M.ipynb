{
 "cells": [
  {
   "cell_type": "markdown",
   "metadata": {},
   "source": [
    "## Amazon Food Reviews - Logistic Regression"
   ]
  },
  {
   "cell_type": "code",
   "execution_count": 2,
   "metadata": {},
   "outputs": [],
   "source": [
    "import numpy as np\n",
    "import pandas as pd\n",
    "import seaborn as sns\n",
    "import matplotlib.pyplot as plt\n",
    "import sqlite3\n",
    "import nltk\n",
    "import string\n",
    "from sklearn.feature_extraction.text import TfidfTransformer\n",
    "from sklearn.feature_extraction.text import TfidfVectorizer\n",
    "\n",
    "from sklearn.feature_extraction.text import CountVectorizer\n",
    "from sklearn import metrics\n",
    "from sklearn.metrics import confusion_matrix\n",
    "from sklearn.metrics import roc_curve,auc\n",
    "from nltk.stem.porter import PorterStemmer\n",
    "\n",
    "import re\n",
    "import string\n",
    "from nltk.corpus import stopwords\n",
    "from nltk.stem import PorterStemmer\n",
    "from nltk.stem.wordnet import WordNetLemmatizer\n",
    "\n",
    "from gensim.models import Word2Vec\n",
    "from gensim.models import KeyedVectors\n",
    "import pickle\n",
    "\n",
    "from sklearn.model_selection import train_test_split\n",
    "from collections import Counter\n",
    "from sklearn.metrics import precision_score\n",
    "from sklearn.metrics import recall_score\n",
    "from sklearn.metrics import f1_score\n",
    "from sklearn import cross_validation\n",
    "from sklearn.preprocessing import normalize\n",
    "from scipy.sparse import find\n",
    "from scipy.sparse import csr_matrix\n",
    "from prettytable import PrettyTable\n",
    "import warnings\n",
    "warnings.filterwarnings(\"ignore\") "
   ]
  },
  {
   "cell_type": "code",
   "execution_count": 3,
   "metadata": {},
   "outputs": [
    {
     "data": {
      "text/html": [
       "<div>\n",
       "<style scoped>\n",
       "    .dataframe tbody tr th:only-of-type {\n",
       "        vertical-align: middle;\n",
       "    }\n",
       "\n",
       "    .dataframe tbody tr th {\n",
       "        vertical-align: top;\n",
       "    }\n",
       "\n",
       "    .dataframe thead th {\n",
       "        text-align: right;\n",
       "    }\n",
       "</style>\n",
       "<table border=\"1\" class=\"dataframe\">\n",
       "  <thead>\n",
       "    <tr style=\"text-align: right;\">\n",
       "      <th></th>\n",
       "      <th>Id</th>\n",
       "      <th>ProductId</th>\n",
       "      <th>UserId</th>\n",
       "      <th>ProfileName</th>\n",
       "      <th>HelpfulnessNumerator</th>\n",
       "      <th>HelpfulnessDenominator</th>\n",
       "      <th>Score</th>\n",
       "      <th>Time</th>\n",
       "      <th>Summary</th>\n",
       "      <th>Text</th>\n",
       "    </tr>\n",
       "  </thead>\n",
       "  <tbody>\n",
       "    <tr>\n",
       "      <th>0</th>\n",
       "      <td>1</td>\n",
       "      <td>B001E4KFG0</td>\n",
       "      <td>A3SGXH7AUHU8GW</td>\n",
       "      <td>delmartian</td>\n",
       "      <td>1</td>\n",
       "      <td>1</td>\n",
       "      <td>5</td>\n",
       "      <td>1303862400</td>\n",
       "      <td>Good Quality Dog Food</td>\n",
       "      <td>I have bought several of the Vitality canned d...</td>\n",
       "    </tr>\n",
       "    <tr>\n",
       "      <th>1</th>\n",
       "      <td>2</td>\n",
       "      <td>B00813GRG4</td>\n",
       "      <td>A1D87F6ZCVE5NK</td>\n",
       "      <td>dll pa</td>\n",
       "      <td>0</td>\n",
       "      <td>0</td>\n",
       "      <td>1</td>\n",
       "      <td>1346976000</td>\n",
       "      <td>Not as Advertised</td>\n",
       "      <td>Product arrived labeled as Jumbo Salted Peanut...</td>\n",
       "    </tr>\n",
       "    <tr>\n",
       "      <th>2</th>\n",
       "      <td>3</td>\n",
       "      <td>B000LQOCH0</td>\n",
       "      <td>ABXLMWJIXXAIN</td>\n",
       "      <td>Natalia Corres \"Natalia Corres\"</td>\n",
       "      <td>1</td>\n",
       "      <td>1</td>\n",
       "      <td>4</td>\n",
       "      <td>1219017600</td>\n",
       "      <td>\"Delight\" says it all</td>\n",
       "      <td>This is a confection that has been around a fe...</td>\n",
       "    </tr>\n",
       "    <tr>\n",
       "      <th>3</th>\n",
       "      <td>4</td>\n",
       "      <td>B000UA0QIQ</td>\n",
       "      <td>A395BORC6FGVXV</td>\n",
       "      <td>Karl</td>\n",
       "      <td>3</td>\n",
       "      <td>3</td>\n",
       "      <td>2</td>\n",
       "      <td>1307923200</td>\n",
       "      <td>Cough Medicine</td>\n",
       "      <td>If you are looking for the secret ingredient i...</td>\n",
       "    </tr>\n",
       "    <tr>\n",
       "      <th>4</th>\n",
       "      <td>5</td>\n",
       "      <td>B006K2ZZ7K</td>\n",
       "      <td>A1UQRSCLF8GW1T</td>\n",
       "      <td>Michael D. Bigham \"M. Wassir\"</td>\n",
       "      <td>0</td>\n",
       "      <td>0</td>\n",
       "      <td>5</td>\n",
       "      <td>1350777600</td>\n",
       "      <td>Great taffy</td>\n",
       "      <td>Great taffy at a great price.  There was a wid...</td>\n",
       "    </tr>\n",
       "  </tbody>\n",
       "</table>\n",
       "</div>"
      ],
      "text/plain": [
       "   Id   ProductId          UserId                      ProfileName  \\\n",
       "0   1  B001E4KFG0  A3SGXH7AUHU8GW                       delmartian   \n",
       "1   2  B00813GRG4  A1D87F6ZCVE5NK                           dll pa   \n",
       "2   3  B000LQOCH0   ABXLMWJIXXAIN  Natalia Corres \"Natalia Corres\"   \n",
       "3   4  B000UA0QIQ  A395BORC6FGVXV                             Karl   \n",
       "4   5  B006K2ZZ7K  A1UQRSCLF8GW1T    Michael D. Bigham \"M. Wassir\"   \n",
       "\n",
       "   HelpfulnessNumerator  HelpfulnessDenominator  Score        Time  \\\n",
       "0                     1                       1      5  1303862400   \n",
       "1                     0                       0      1  1346976000   \n",
       "2                     1                       1      4  1219017600   \n",
       "3                     3                       3      2  1307923200   \n",
       "4                     0                       0      5  1350777600   \n",
       "\n",
       "                 Summary                                               Text  \n",
       "0  Good Quality Dog Food  I have bought several of the Vitality canned d...  \n",
       "1      Not as Advertised  Product arrived labeled as Jumbo Salted Peanut...  \n",
       "2  \"Delight\" says it all  This is a confection that has been around a fe...  \n",
       "3         Cough Medicine  If you are looking for the secret ingredient i...  \n",
       "4            Great taffy  Great taffy at a great price.  There was a wid...  "
      ]
     },
     "execution_count": 3,
     "metadata": {},
     "output_type": "execute_result"
    }
   ],
   "source": [
    "df= pd.read_csv(\"../../../../Desktop/Prep/ML_Repo/amazon-fine-food-reviews/Reviews.csv\")\n",
    "df.head()"
   ]
  },
  {
   "cell_type": "code",
   "execution_count": 4,
   "metadata": {},
   "outputs": [
    {
     "data": {
      "text/plain": [
       "(568454, 10)"
      ]
     },
     "execution_count": 4,
     "metadata": {},
     "output_type": "execute_result"
    }
   ],
   "source": [
    "df.shape"
   ]
  },
  {
   "cell_type": "code",
   "execution_count": 5,
   "metadata": {},
   "outputs": [],
   "source": [
    "import pickle\n",
    "\n",
    "def save_data(data,file):\n",
    "    pickle.dump(data,open(file+\".pkl\",\"wb\"))\n",
    "    \n",
    "def load_data(file):\n",
    "    data = pickle.load(open(file+\".pkl\",\"rb\"))\n",
    "    return data"
   ]
  },
  {
   "cell_type": "code",
   "execution_count": 6,
   "metadata": {},
   "outputs": [
    {
     "data": {
      "text/html": [
       "<div>\n",
       "<style scoped>\n",
       "    .dataframe tbody tr th:only-of-type {\n",
       "        vertical-align: middle;\n",
       "    }\n",
       "\n",
       "    .dataframe tbody tr th {\n",
       "        vertical-align: top;\n",
       "    }\n",
       "\n",
       "    .dataframe thead th {\n",
       "        text-align: right;\n",
       "    }\n",
       "</style>\n",
       "<table border=\"1\" class=\"dataframe\">\n",
       "  <thead>\n",
       "    <tr style=\"text-align: right;\">\n",
       "      <th></th>\n",
       "      <th>Id</th>\n",
       "      <th>ProductId</th>\n",
       "      <th>UserId</th>\n",
       "      <th>ProfileName</th>\n",
       "      <th>HelpfulnessNumerator</th>\n",
       "      <th>HelpfulnessDenominator</th>\n",
       "      <th>Score</th>\n",
       "      <th>Time</th>\n",
       "      <th>Summary</th>\n",
       "      <th>Text</th>\n",
       "      <th>Cleaned_Text</th>\n",
       "    </tr>\n",
       "  </thead>\n",
       "  <tbody>\n",
       "    <tr>\n",
       "      <th>417839</th>\n",
       "      <td>451856</td>\n",
       "      <td>B00004CXX9</td>\n",
       "      <td>AIUWLEQ1ADEG5</td>\n",
       "      <td>Elizabeth Medina</td>\n",
       "      <td>0</td>\n",
       "      <td>0</td>\n",
       "      <td>1</td>\n",
       "      <td>944092800</td>\n",
       "      <td>Entertainingl Funny!</td>\n",
       "      <td>Beetlejuice is a well written movie ..... ever...</td>\n",
       "      <td>beetlejuic well written movi everyth excel act...</td>\n",
       "    </tr>\n",
       "    <tr>\n",
       "      <th>346055</th>\n",
       "      <td>374359</td>\n",
       "      <td>B00004CI84</td>\n",
       "      <td>A344SMIA5JECGM</td>\n",
       "      <td>Vincent P. Ross</td>\n",
       "      <td>1</td>\n",
       "      <td>2</td>\n",
       "      <td>1</td>\n",
       "      <td>944438400</td>\n",
       "      <td>A modern day fairy tale</td>\n",
       "      <td>A twist of rumplestiskin captured on film, sta...</td>\n",
       "      <td>twist rumplestiskin captur film star michael k...</td>\n",
       "    </tr>\n",
       "    <tr>\n",
       "      <th>417838</th>\n",
       "      <td>451855</td>\n",
       "      <td>B00004CXX9</td>\n",
       "      <td>AJH6LUC1UT1ON</td>\n",
       "      <td>The Phantom of the Opera</td>\n",
       "      <td>0</td>\n",
       "      <td>0</td>\n",
       "      <td>1</td>\n",
       "      <td>946857600</td>\n",
       "      <td>FANTASTIC!</td>\n",
       "      <td>Beetlejuice is an excellent and funny movie. K...</td>\n",
       "      <td>beetlejuic excel funni movi keaton hilari wack...</td>\n",
       "    </tr>\n",
       "    <tr>\n",
       "      <th>346116</th>\n",
       "      <td>374422</td>\n",
       "      <td>B00004CI84</td>\n",
       "      <td>A1048CYU0OV4O8</td>\n",
       "      <td>Judy L. Eans</td>\n",
       "      <td>2</td>\n",
       "      <td>2</td>\n",
       "      <td>1</td>\n",
       "      <td>947376000</td>\n",
       "      <td>GREAT</td>\n",
       "      <td>THIS IS ONE MOVIE THAT SHOULD BE IN YOUR MOVIE...</td>\n",
       "      <td>one movi movi collect fill comedi action whate...</td>\n",
       "    </tr>\n",
       "    <tr>\n",
       "      <th>346041</th>\n",
       "      <td>374343</td>\n",
       "      <td>B00004CI84</td>\n",
       "      <td>A1B2IZU1JLZA6</td>\n",
       "      <td>Wes</td>\n",
       "      <td>19</td>\n",
       "      <td>23</td>\n",
       "      <td>0</td>\n",
       "      <td>948240000</td>\n",
       "      <td>WARNING: CLAMSHELL EDITION IS EDITED TV VERSION</td>\n",
       "      <td>I, myself always enjoyed this movie, it's very...</td>\n",
       "      <td>alway enjoy movi funni entertain didnt hesit p...</td>\n",
       "    </tr>\n",
       "  </tbody>\n",
       "</table>\n",
       "</div>"
      ],
      "text/plain": [
       "            Id   ProductId          UserId               ProfileName  \\\n",
       "417839  451856  B00004CXX9   AIUWLEQ1ADEG5          Elizabeth Medina   \n",
       "346055  374359  B00004CI84  A344SMIA5JECGM           Vincent P. Ross   \n",
       "417838  451855  B00004CXX9   AJH6LUC1UT1ON  The Phantom of the Opera   \n",
       "346116  374422  B00004CI84  A1048CYU0OV4O8              Judy L. Eans   \n",
       "346041  374343  B00004CI84   A1B2IZU1JLZA6                       Wes   \n",
       "\n",
       "        HelpfulnessNumerator  HelpfulnessDenominator  Score       Time  \\\n",
       "417839                     0                       0      1  944092800   \n",
       "346055                     1                       2      1  944438400   \n",
       "417838                     0                       0      1  946857600   \n",
       "346116                     2                       2      1  947376000   \n",
       "346041                    19                      23      0  948240000   \n",
       "\n",
       "                                                Summary  \\\n",
       "417839                             Entertainingl Funny!   \n",
       "346055                          A modern day fairy tale   \n",
       "417838                                       FANTASTIC!   \n",
       "346116                                            GREAT   \n",
       "346041  WARNING: CLAMSHELL EDITION IS EDITED TV VERSION   \n",
       "\n",
       "                                                     Text  \\\n",
       "417839  Beetlejuice is a well written movie ..... ever...   \n",
       "346055  A twist of rumplestiskin captured on film, sta...   \n",
       "417838  Beetlejuice is an excellent and funny movie. K...   \n",
       "346116  THIS IS ONE MOVIE THAT SHOULD BE IN YOUR MOVIE...   \n",
       "346041  I, myself always enjoyed this movie, it's very...   \n",
       "\n",
       "                                             Cleaned_Text  \n",
       "417839  beetlejuic well written movi everyth excel act...  \n",
       "346055  twist rumplestiskin captur film star michael k...  \n",
       "417838  beetlejuic excel funni movi keaton hilari wack...  \n",
       "346116  one movi movi collect fill comedi action whate...  \n",
       "346041  alway enjoy movi funni entertain didnt hesit p...  "
      ]
     },
     "execution_count": 6,
     "metadata": {},
     "output_type": "execute_result"
    }
   ],
   "source": [
    "lr_data = load_data('../Amazon_Food_Review_KNN/150k_nb')\n",
    "lr_data.head()"
   ]
  },
  {
   "cell_type": "code",
   "execution_count": 7,
   "metadata": {},
   "outputs": [],
   "source": [
    "def confusion_matrix_plot(y_test,pred):\n",
    "    df_bow = pd.DataFrame(confusion_matrix(y_test, pred))  \n",
    "    sns.heatmap(df_bow, annot=True)\n",
    "    tn, fp, fn, tp = confusion_matrix(y_test,pred).ravel()\n",
    "    print('True Positive',tp)\n",
    "    print('True Negative',tn)\n",
    "    print('False Positive',fp)\n",
    "    print('False Negative',fn)"
   ]
  },
  {
   "cell_type": "code",
   "execution_count": 8,
   "metadata": {},
   "outputs": [],
   "source": [
    "def metric_scores(y_test,pred):\n",
    "    acc_scores = [[accuracy_score(y_test, pred)*100,precision_score(y_test,pred),recall_score(y_test,pred),f1_score(y_test,pred)]]\n",
    "    acc_scores = pd.DataFrame(acc_scores,columns=['Accuracy','Precision score','Recall score','F1 score'])\n",
    "    return acc_scores"
   ]
  },
  {
   "cell_type": "code",
   "execution_count": 9,
   "metadata": {},
   "outputs": [],
   "source": [
    "def l1_vs_l2_accuracy_plot(a1):\n",
    "    list1 = []\n",
    "    for i in range(len(a1.cv_results_['params'])):\n",
    "        list1.append(a1.cv_results_['params'][i]['C'])\n",
    "        \n",
    "    l1_arr = []\n",
    "    l2_arr = []\n",
    "    l1_acc = []\n",
    "    l2_acc = []\n",
    "    for i in range(len(list1)):\n",
    "        if a1.cv_results_['params'][i]['penalty'] == 'l1':\n",
    "            l1_arr.append(a1.cv_results_['params'][i])\n",
    "            l1_acc.append(a1.cv_results_['mean_test_score'][i]*100)\n",
    "        else:\n",
    "            l2_arr.append(a1.cv_results_['params'][i]) \n",
    "            l2_acc.append(a1.cv_results_['mean_test_score'][i]*100)\n",
    "    \n",
    "    sns.set_style(\"whitegrid\")\n",
    "    plt.plot([i['C'] for i in l1_arr],l1_acc, label = 'L1')\n",
    "    plt.plot([i['C'] for i in l2_arr],l2_acc, label = 'L2')\n",
    "    plt.xlabel(\"L1 & L2 C Values\")\n",
    "    plt.ylabel(\"Accuracy\")\n",
    "    plt.title(\"Accuracy vs L1 & L2 C Values\")\n",
    "    plt.legend()\n",
    "    plt.show()   "
   ]
  },
  {
   "cell_type": "code",
   "execution_count": 10,
   "metadata": {},
   "outputs": [],
   "source": [
    "def sparsity_analysis(x_train,y_train):\n",
    "    \n",
    "    # List of C Values to be trained on\n",
    "    c_list = [0.005,0.01,0.5,0.1,1,10,50,100,500,1000]\n",
    "    c_max = 0\n",
    "    c_min = 0\n",
    "    for i in c_list:\n",
    "        lr_optimal = LogisticRegression(C = i ,penalty = 'l1')\n",
    "        lr_optimal.fit(x_train, y_train)\n",
    "        \n",
    "        # Calculating the no. of zero elements for each C value\n",
    "        print('No. of zero elements for C = %0.3f is %d' %(i,lr_optimal.coef_[0].size - np.count_nonzero(lr_optimal.coef_[0])))\n",
    "        \n",
    "        # Calculating the no. of zero elements corresponding to min. and max. C value.\n",
    "        if i == 0.005:\n",
    "            c_min = lr_optimal.coef_[0].size - np.count_nonzero(lr_optimal.coef_[0])\n",
    "        elif i == 1000:\n",
    "            c_max = lr_optimal.coef_[0].size - np.count_nonzero(lr_optimal.coef_[0])\n",
    "    \n",
    "    #print('Percentage increase in Sparsity is %0.2f% %'%(((c_min-c_max)/c_max)*100))\n",
    "    \n",
    "    try:\n",
    "        print('Percentage increase in Sparsity is %0.2f% %'%(((c_min-c_max)/c_max)*100))\n",
    "    except ZeroDivisionError:\n",
    "        print('Percentage increase in Sparsity is %0.2f% %'%(((c_min-c_max)/c_min)*100))"
   ]
  },
  {
   "cell_type": "code",
   "execution_count": 11,
   "metadata": {},
   "outputs": [],
   "source": [
    "def multicollinearity_check(x_train,y_train,x_test,y_test,best_c,best_penalty):\n",
    "    \n",
    "    # To avoid changes in shape of old x_train and new_x_train due to sparsity\n",
    "    if best_penalty == 'l1':\n",
    "        best_penalty = 'l2'\n",
    "    \n",
    "    # Training the model with x_train and y_train\n",
    "        \n",
    "    lr_optimal_old = LogisticRegression(C = best_c ,penalty = best_penalty)\n",
    "    lr_optimal_old.fit(x_train, y_train)\n",
    "    pred_old = lr_optimal_old.predict(x_test)\n",
    "    acc_old = accuracy_score(y_test, pred_old) * 100\n",
    "    \n",
    "    print('Accuracy before adding noise is ',acc_old)\n",
    "    \n",
    "    # Obtaining the weight coefficients of the trained model\n",
    "    old_weights = find(lr_optimal_old.coef_[0])[2]\n",
    "    \n",
    "    # Generating random noise\n",
    "    mu, sigma = 0, 10**-2 \n",
    "    noise = np.random.normal(mu, sigma, size = x_train.size)\n",
    "    \n",
    "    # Finding out the indices of the non-zero pts. in x_train\n",
    "    row,column,values = find(x_train)\n",
    "    new_x_train = x_train\n",
    "    \n",
    "    # Adding noise to the new x_train at indices of non-zero pts.\n",
    "    new_x_train[row,column] = noise + new_x_train[row,column]\n",
    "    \n",
    "    # Training the model with new x_train and y_train\n",
    "    lr_optimal_new = LogisticRegression(C = best_c ,penalty = best_penalty)\n",
    "    lr_optimal_new.fit(new_x_train, y_train)\n",
    "    pred_new = lr_optimal_new.predict(x_test)\n",
    "    acc_new = accuracy_score(y_test, pred_new) * 100\n",
    "    \n",
    "    print('Accuracy after adding noise is ',acc_new)\n",
    "\n",
    "    # Obtaining the weight coefficients of the newly trained model\n",
    "    new_weights = find(lr_optimal_new.coef_[0])[2]\n",
    "    \n",
    "    # Finding out the percentage difference in weights\n",
    "    weight_changes = (abs((old_weights-new_weights)/old_weights))*100\n",
    "    \n",
    "    # Returning the no. of features which have weight changes greater than 70%\n",
    "    \n",
    "    return weight_changes[np.where(weight_changes>70)].size\n",
    "    "
   ]
  },
  {
   "cell_type": "code",
   "execution_count": 12,
   "metadata": {},
   "outputs": [],
   "source": [
    "def top_25_features(lr_optimal,vectorizer):\n",
    "    \n",
    "    zipped = zip(lr_optimal.coef_[0],vectorizer.get_feature_names())\n",
    "    sorted_values = sorted(zipped, key=lambda x: x[0])\n",
    "     \n",
    "    a = []\n",
    "    for i in range(25):\n",
    "        b = []\n",
    "        b.append(sorted_values[len(sorted_values)-26+i][0])\n",
    "        b.append(sorted_values[len(sorted_values)-26+i][1])\n",
    "        b.append(sorted_values[i][0])\n",
    "        b.append(sorted_values[i][1])\n",
    "        a.append(b)\n",
    "        \n",
    "    a1 = pd.DataFrame(a)\n",
    "    a1.columns = ['Positive Values','Positive Words','Negative Values','Negative Words']\n",
    "    return a1   "
   ]
  },
  {
   "cell_type": "code",
   "execution_count": 13,
   "metadata": {},
   "outputs": [],
   "source": [
    "def summary_of_scores():\n",
    "    x = PrettyTable()\n",
    "    x.field_names = [\"Model\", \"CV - Type\", \"Best C\", \"Best Penalty\", \"Best Accuracy\"]\n",
    "    x.add_row([\"BOW\",\"Grid Search\",load_data('bow_grid_search_lr').best_params_.get('C'),load_data('bow_grid_search_lr').best_params_.get('penalty'),load_data('bow_grid_search_lr').best_score_*100])\n",
    "    x.add_row([\"BOW\",\"Randomized Search\", load_data('bow_grid_search_lr_rscv').best_params_.get('C'),load_data('bow_grid_search_lr_rscv').best_params_.get('penalty'),load_data('bow_grid_search_lr_rscv').best_score_*100])\n",
    "    x.add_row([\"Trigram\",\"Grid Search\", load_data('trigram_grid_search_lr').best_params_.get('C'),load_data('trigram_grid_search_lr').best_params_.get('penalty'),load_data('trigram_grid_search_lr').best_score_*100])\n",
    "    x.add_row([\"Trigram\",\"Randomized Search\", load_data('trigram_grid_search_lr_rscv').best_params_.get('C'),load_data('trigram_grid_search_lr_rscv').best_params_.get('penalty'),load_data('trigram_grid_search_lr_rscv').best_score_*100])\n",
    "    x.add_row([\"Tf-Idf\",\"Grid Search\", load_data('tfidf_grid_search_lr').best_params_.get('C'),load_data('tfidf_grid_search_lr').best_params_.get('penalty'),load_data('tfidf_grid_search_lr').best_score_*100])\n",
    "    x.add_row([\"Tf-Idf\",\"Randomized Search\", load_data('tfidf_grid_search_lr_rscv').best_params_.get('C'),load_data('tfidf_grid_search_lr_rscv').best_params_.get('penalty'),load_data('tfidf_grid_search_lr_rscv').best_score_*100])\n",
    "    x.add_row([\"W2V\",\"Grid Search\", load_data('w2v_grid_search_lr').best_params_.get('C'),load_data('w2v_grid_search_lr').best_params_.get('penalty'),load_data('w2v_grid_search_lr').best_score_*100])\n",
    "    x.add_row([\"W2V\",\"Randomized Search\", load_data('w2v_grid_search_lr_rscv').best_params_.get('C'),load_data('w2v_grid_search_lr_rscv').best_params_.get('penalty'),load_data('w2v_grid_search_lr_rscv').best_score_*100])\n",
    "    x.add_row([\"Tf-Idf - W2v\",\"Grid Search\", load_data('tfidf_w2v_grid_search_lr').best_params_.get('C'),load_data('tfidf_w2v_grid_search_lr').best_params_.get('penalty'),load_data('tfidf_w2v_grid_search_lr').best_score_*100])\n",
    "    x.add_row([\"Tf-Idf - W2v\",\"Randomized Search\", load_data('tfidf_w2v_grid_search_lr_rscv').best_params_.get('C'),load_data('tfidf_w2v_grid_search_lr_rscv').best_params_.get('penalty'),load_data('tfidf_w2v_grid_search_lr_rscv').best_score_*100])\n",
    "    print(x)\n",
    "    "
   ]
  },
  {
   "cell_type": "markdown",
   "metadata": {},
   "source": [
    "### Bag Of Words -LR"
   ]
  },
  {
   "cell_type": "markdown",
   "metadata": {},
   "source": [
    "### Best Hyperparameter C and Regularizer using GridSearchCV"
   ]
  },
  {
   "cell_type": "code",
   "execution_count": 26,
   "metadata": {},
   "outputs": [
    {
     "data": {
      "text/plain": [
       "226019    found soup spici tast also even allow soup ste...\n",
       "18104     make lot babi food make meat babi food buy dif...\n",
       "52352     get past sort fals advertis form torii gate im...\n",
       "324221    potato crocket shape ball rather gratin nevert...\n",
       "145649    flax pumpkin seed granola yummi eat four time ...\n",
       "Name: Cleaned_Text, dtype: object"
      ]
     },
     "execution_count": 26,
     "metadata": {},
     "output_type": "execute_result"
    }
   ],
   "source": [
    "x_train, x_test, y_train, y_test = train_test_split(lr_data['Cleaned_Text'] ,lr_data['Score'], test_size=0.3, random_state=0)\n",
    "x_test.head()"
   ]
  },
  {
   "cell_type": "code",
   "execution_count": 27,
   "metadata": {},
   "outputs": [],
   "source": [
    "from sklearn.preprocessing import Normalizer\n",
    "count_vect = CountVectorizer()\n",
    "x_train = count_vect.fit_transform(x_train)\n",
    "normal_scale = Normalizer().fit(x_train)\n",
    "x_train = normal_scale.transform(x_train)\n",
    "x_test = count_vect.transform(x_test)\n",
    "x_test = normal_scale.transform(x_test)"
   ]
  },
  {
   "cell_type": "code",
   "execution_count": 28,
   "metadata": {},
   "outputs": [],
   "source": [
    "from sklearn.linear_model import LogisticRegression\n",
    "from sklearn.model_selection import TimeSeriesSplit\n",
    "from sklearn.model_selection import GridSearchCV\n",
    "from sklearn.model_selection import RandomizedSearchCV"
   ]
  },
  {
   "cell_type": "code",
   "execution_count": 29,
   "metadata": {},
   "outputs": [
    {
     "name": "stdout",
     "output_type": "stream",
     "text": [
      "Fitting 5 folds for each of 28 candidates, totalling 140 fits\n"
     ]
    },
    {
     "name": "stderr",
     "output_type": "stream",
     "text": [
      "[Parallel(n_jobs=-1)]: Done  34 tasks      | elapsed:    4.5s\n",
      "[Parallel(n_jobs=-1)]: Done 140 out of 140 | elapsed:  1.7min finished\n"
     ]
    },
    {
     "data": {
      "text/plain": [
       "GridSearchCV(cv=TimeSeriesSplit(max_train_size=None, n_splits=5),\n",
       "       error_score='raise',\n",
       "       estimator=LogisticRegression(C=1.0, class_weight=None, dual=False, fit_intercept=True,\n",
       "          intercept_scaling=1, max_iter=100, multi_class='ovr', n_jobs=1,\n",
       "          penalty='l2', random_state=None, solver='liblinear', tol=0.0001,\n",
       "          verbose=0, warm_start=False),\n",
       "       fit_params=None, iid=True, n_jobs=-1,\n",
       "       param_grid={'C': [0.0005, 0.0001, 0.005, 0.001, 0.05, 0.01, 0.5, 0.1, 1, 10, 50, 100, 500, 1000], 'penalty': ['l1', 'l2']},\n",
       "       pre_dispatch='2*n_jobs', refit=True, return_train_score='warn',\n",
       "       scoring=None, verbose=1)"
      ]
     },
     "execution_count": 29,
     "metadata": {},
     "output_type": "execute_result"
    }
   ],
   "source": [
    "lr = LogisticRegression()\n",
    "time_split_cv = TimeSeriesSplit(n_splits = 5)\n",
    "C_list = [0.0005,0.0001,0.005,0.001,0.05,0.01,0.5,0.1,1,10,50,100,500,1000]\n",
    "param_grid = {'C':C_list,'penalty':['l1','l2']}\n",
    "grid_search = GridSearchCV(lr,param_grid,cv=time_split_cv,verbose=1,n_jobs=-1)\n",
    "grid_search.fit(x_train,y_train)"
   ]
  },
  {
   "cell_type": "code",
   "execution_count": 30,
   "metadata": {},
   "outputs": [],
   "source": [
    "save_data(grid_search,'bow_grid_search_lr')"
   ]
  },
  {
   "cell_type": "code",
   "execution_count": 31,
   "metadata": {},
   "outputs": [],
   "source": [
    "a1 = load_data('bow_grid_search_lr')"
   ]
  },
  {
   "cell_type": "code",
   "execution_count": 32,
   "metadata": {},
   "outputs": [
    {
     "data": {
      "image/png": "[encoded data removed]",
      "text/plain": [
       "<Figure size 432x288 with 1 Axes>"
      ]
     },
     "metadata": {},
     "output_type": "display_data"
    }
   ],
   "source": [
    "l1_vs_l2_accuracy_plot(a1)"
   ]
  },
  {
   "cell_type": "code",
   "execution_count": 33,
   "metadata": {},
   "outputs": [
    {
     "name": "stdout",
     "output_type": "stream",
     "text": [
      "Best Hyperparameter and Regularizer  {'C': 10, 'penalty': 'l2'}\n",
      "Best Accuracy 92.265143%\n"
     ]
    }
   ],
   "source": [
    "print('Best Hyperparameter and Regularizer ',a1.best_params_)\n",
    "print('Best Accuracy %f% %'%(a1.best_score_*100))"
   ]
  },
  {
   "cell_type": "code",
   "execution_count": 34,
   "metadata": {},
   "outputs": [],
   "source": [
    "from sklearn.metrics import accuracy_score\n",
    "lr_optimal = LogisticRegression(C = a1.best_params_.get('C'),penalty = a1.best_params_.get('penalty'))\n",
    "lr_optimal.fit(x_train, y_train)\n",
    "pred = lr_optimal.predict(x_test)\n",
    "acc = accuracy_score(y_test, pred) * 100"
   ]
  },
  {
   "cell_type": "code",
   "execution_count": 35,
   "metadata": {},
   "outputs": [
    {
     "data": {
      "text/html": [
       "<div>\n",
       "<style scoped>\n",
       "    .dataframe tbody tr th:only-of-type {\n",
       "        vertical-align: middle;\n",
       "    }\n",
       "\n",
       "    .dataframe tbody tr th {\n",
       "        vertical-align: top;\n",
       "    }\n",
       "\n",
       "    .dataframe thead th {\n",
       "        text-align: right;\n",
       "    }\n",
       "</style>\n",
       "<table border=\"1\" class=\"dataframe\">\n",
       "  <thead>\n",
       "    <tr style=\"text-align: right;\">\n",
       "      <th></th>\n",
       "      <th>Accuracy</th>\n",
       "      <th>Precision score</th>\n",
       "      <th>Recall score</th>\n",
       "      <th>F1 score</th>\n",
       "    </tr>\n",
       "  </thead>\n",
       "  <tbody>\n",
       "    <tr>\n",
       "      <th>0</th>\n",
       "      <td>92.757778</td>\n",
       "      <td>0.943231</td>\n",
       "      <td>0.975058</td>\n",
       "      <td>0.958881</td>\n",
       "    </tr>\n",
       "  </tbody>\n",
       "</table>\n",
       "</div>"
      ],
      "text/plain": [
       "    Accuracy  Precision score  Recall score  F1 score\n",
       "0  92.757778         0.943231      0.975058  0.958881"
      ]
     },
     "execution_count": 35,
     "metadata": {},
     "output_type": "execute_result"
    }
   ],
   "source": [
    "metric_scores(y_test,pred)"
   ]
  },
  {
   "cell_type": "code",
   "execution_count": 36,
   "metadata": {},
   "outputs": [
    {
     "name": "stdout",
     "output_type": "stream",
     "text": [
      "True Positive 37999\n",
      "True Negative 3742\n",
      "False Positive 2287\n",
      "False Negative 972\n"
     ]
    },
    {
     "data": {
      "image/png": "[encoded data removed]",
      "text/plain": [
       "<Figure size 432x288 with 2 Axes>"
      ]
     },
     "metadata": {},
     "output_type": "display_data"
    }
   ],
   "source": [
    "confusion_matrix_plot(y_test,pred)"
   ]
  },
  {
   "cell_type": "markdown",
   "metadata": {},
   "source": [
    "### Sparsity Analysis"
   ]
  },
  {
   "cell_type": "code",
   "execution_count": 37,
   "metadata": {},
   "outputs": [
    {
     "name": "stdout",
     "output_type": "stream",
     "text": [
      "No. of zero elements for C = 0.005 is 47253\n",
      "No. of zero elements for C = 0.010 is 47239\n",
      "No. of zero elements for C = 0.500 is 46421\n",
      "No. of zero elements for C = 0.100 is 46976\n",
      "No. of zero elements for C = 1.000 is 45915\n",
      "No. of zero elements for C = 10.000 is 40454\n",
      "No. of zero elements for C = 50.000 is 34500\n",
      "No. of zero elements for C = 100.000 is 32395\n",
      "No. of zero elements for C = 500.000 is 28488\n",
      "No. of zero elements for C = 1000.000 is 27135\n",
      "Percentage increase in Sparsity is 74.14%\n"
     ]
    }
   ],
   "source": [
    "sparsity_analysis(x_train,y_train)"
   ]
  },
  {
   "cell_type": "markdown",
   "metadata": {},
   "source": [
    "### Perturbation test"
   ]
  },
  {
   "cell_type": "code",
   "execution_count": 38,
   "metadata": {},
   "outputs": [
    {
     "name": "stdout",
     "output_type": "stream",
     "text": [
      "Accuracy before adding noise is  92.75777777777778\n",
      "Accuracy after adding noise is  92.81111111111112\n"
     ]
    }
   ],
   "source": [
    "no_of_features = multicollinearity_check(x_train,y_train,x_test,y_test,a1.best_params_.get('C'),a1.best_params_.get('penalty'))"
   ]
  },
  {
   "cell_type": "code",
   "execution_count": 39,
   "metadata": {},
   "outputs": [
    {
     "name": "stdout",
     "output_type": "stream",
     "text": [
      "The number of features with weight changes greater than 70 percent is 1187\n",
      "Hence the features are Multicollinear\n"
     ]
    }
   ],
   "source": [
    "print('The number of features with weight changes greater than 70 percent is %d' %(no_of_features))\n",
    "print('Hence the features are Multicollinear')"
   ]
  },
  {
   "cell_type": "markdown",
   "metadata": {},
   "source": [
    "### Best Hyperparameter C and Regularizer using Randomized SearchCV"
   ]
  },
  {
   "cell_type": "code",
   "execution_count": 40,
   "metadata": {},
   "outputs": [
    {
     "data": {
      "text/plain": [
       "226019    found soup spici tast also even allow soup ste...\n",
       "18104     make lot babi food make meat babi food buy dif...\n",
       "52352     get past sort fals advertis form torii gate im...\n",
       "324221    potato crocket shape ball rather gratin nevert...\n",
       "145649    flax pumpkin seed granola yummi eat four time ...\n",
       "Name: Cleaned_Text, dtype: object"
      ]
     },
     "execution_count": 40,
     "metadata": {},
     "output_type": "execute_result"
    }
   ],
   "source": [
    "x_train, x_test, y_train, y_test = train_test_split(lr_data['Cleaned_Text'] ,lr_data['Score'], test_size=0.3, random_state=0)\n",
    "x_test.head()"
   ]
  },
  {
   "cell_type": "code",
   "execution_count": 41,
   "metadata": {},
   "outputs": [],
   "source": [
    "count_vect = CountVectorizer()\n",
    "x_train = count_vect.fit_transform(x_train)\n",
    "normal_scale = Normalizer().fit(x_train)\n",
    "x_train = normal_scale.transform(x_train)\n",
    "x_test = count_vect.transform(x_test)\n",
    "x_test = normal_scale.transform(x_test)"
   ]
  },
  {
   "cell_type": "code",
   "execution_count": 42,
   "metadata": {},
   "outputs": [
    {
     "name": "stdout",
     "output_type": "stream",
     "text": [
      "Fitting 5 folds for each of 10 candidates, totalling 50 fits\n"
     ]
    },
    {
     "name": "stderr",
     "output_type": "stream",
     "text": [
      "[Parallel(n_jobs=-1)]: Done  34 tasks      | elapsed:   41.6s\n",
      "[Parallel(n_jobs=-1)]: Done  50 out of  50 | elapsed:  1.1min finished\n"
     ]
    },
    {
     "data": {
      "text/plain": [
       "RandomizedSearchCV(cv=TimeSeriesSplit(max_train_size=None, n_splits=5),\n",
       "          error_score='raise',\n",
       "          estimator=LogisticRegression(C=1.0, class_weight=None, dual=False, fit_intercept=True,\n",
       "          intercept_scaling=1, max_iter=100, multi_class='ovr', n_jobs=1,\n",
       "          penalty='l2', random_state=None, solver='liblinear', tol=0.0001,\n",
       "          verbose=0, warm_start=False),\n",
       "          fit_params=None, iid=True, n_iter=10, n_jobs=-1,\n",
       "          param_distributions={'C': [0.0005, 0.0001, 0.005, 0.001, 0.05, 0.01, 0.5, 0.1, 1, 10, 50, 100, 500, 1000], 'penalty': ['l1', 'l2']},\n",
       "          pre_dispatch='2*n_jobs', random_state=None, refit=True,\n",
       "          return_train_score='warn', scoring=None, verbose=1)"
      ]
     },
     "execution_count": 42,
     "metadata": {},
     "output_type": "execute_result"
    }
   ],
   "source": [
    "lr = LogisticRegression()\n",
    "time_split_cv = TimeSeriesSplit(n_splits = 5)\n",
    "C_list = [0.0005,0.0001,0.005,0.001,0.05,0.01,0.5,0.1,1,10,50,100,500,1000]\n",
    "param_grid = {'C':C_list,'penalty':['l1','l2']}\n",
    "grid_search_rscv = RandomizedSearchCV(lr,param_grid,cv=time_split_cv,verbose=1,n_jobs=-1)\n",
    "grid_search_rscv.fit(x_train,y_train)"
   ]
  },
  {
   "cell_type": "code",
   "execution_count": 43,
   "metadata": {},
   "outputs": [],
   "source": [
    "save_data(grid_search_rscv,'bow_grid_search_lr_rscv')"
   ]
  },
  {
   "cell_type": "code",
   "execution_count": 44,
   "metadata": {},
   "outputs": [],
   "source": [
    "a2 = load_data('bow_grid_search_lr_rscv')"
   ]
  },
  {
   "cell_type": "code",
   "execution_count": 45,
   "metadata": {},
   "outputs": [
    {
     "data": {
      "image/png": "[encoded data removed]",
      "text/plain": [
       "<Figure size 432x288 with 1 Axes>"
      ]
     },
     "metadata": {},
     "output_type": "display_data"
    }
   ],
   "source": [
    "l1_vs_l2_accuracy_plot(a2)"
   ]
  },
  {
   "cell_type": "code",
   "execution_count": 46,
   "metadata": {},
   "outputs": [
    {
     "name": "stdout",
     "output_type": "stream",
     "text": [
      "Best Hyperparameter and Regularizer  {'penalty': 'l2', 'C': 50}\n",
      "Best Accuracy 91.913143%\n"
     ]
    }
   ],
   "source": [
    "print('Best Hyperparameter and Regularizer ',a2.best_params_)\n",
    "print('Best Accuracy %f% %'%(a2.best_score_*100))"
   ]
  },
  {
   "cell_type": "code",
   "execution_count": 47,
   "metadata": {},
   "outputs": [],
   "source": [
    "lr_optimal = LogisticRegression(C = a2.best_params_.get('C'),penalty = a2.best_params_.get('penalty'))\n",
    "lr_optimal.fit(x_train, y_train)\n",
    "pred = lr_optimal.predict(x_test)\n",
    "acc = accuracy_score(y_test, pred) * 100"
   ]
  },
  {
   "cell_type": "code",
   "execution_count": 48,
   "metadata": {},
   "outputs": [
    {
     "data": {
      "text/html": [
       "<div>\n",
       "<style scoped>\n",
       "    .dataframe tbody tr th:only-of-type {\n",
       "        vertical-align: middle;\n",
       "    }\n",
       "\n",
       "    .dataframe tbody tr th {\n",
       "        vertical-align: top;\n",
       "    }\n",
       "\n",
       "    .dataframe thead th {\n",
       "        text-align: right;\n",
       "    }\n",
       "</style>\n",
       "<table border=\"1\" class=\"dataframe\">\n",
       "  <thead>\n",
       "    <tr style=\"text-align: right;\">\n",
       "      <th></th>\n",
       "      <th>Accuracy</th>\n",
       "      <th>Precision score</th>\n",
       "      <th>Recall score</th>\n",
       "      <th>F1 score</th>\n",
       "    </tr>\n",
       "  </thead>\n",
       "  <tbody>\n",
       "    <tr>\n",
       "      <th>0</th>\n",
       "      <td>92.666667</td>\n",
       "      <td>0.945854</td>\n",
       "      <td>0.970901</td>\n",
       "      <td>0.958214</td>\n",
       "    </tr>\n",
       "  </tbody>\n",
       "</table>\n",
       "</div>"
      ],
      "text/plain": [
       "    Accuracy  Precision score  Recall score  F1 score\n",
       "0  92.666667         0.945854      0.970901  0.958214"
      ]
     },
     "execution_count": 48,
     "metadata": {},
     "output_type": "execute_result"
    }
   ],
   "source": [
    "metric_scores(y_test,pred)"
   ]
  },
  {
   "cell_type": "code",
   "execution_count": 49,
   "metadata": {},
   "outputs": [
    {
     "name": "stdout",
     "output_type": "stream",
     "text": [
      "True Positive 37837\n",
      "True Negative 3863\n",
      "False Positive 2166\n",
      "False Negative 1134\n"
     ]
    },
    {
     "data": {
      "image/png": "[encoded data removed]",
      "text/plain": [
       "<Figure size 432x288 with 2 Axes>"
      ]
     },
     "metadata": {},
     "output_type": "display_data"
    }
   ],
   "source": [
    "confusion_matrix_plot(y_test,pred)"
   ]
  },
  {
   "cell_type": "markdown",
   "metadata": {},
   "source": [
    "### Top 25 Important Features for both Positive and Negative Class"
   ]
  },
  {
   "cell_type": "code",
   "execution_count": 50,
   "metadata": {},
   "outputs": [
    {
     "data": {
      "text/html": [
       "<div>\n",
       "<style scoped>\n",
       "    .dataframe tbody tr th:only-of-type {\n",
       "        vertical-align: middle;\n",
       "    }\n",
       "\n",
       "    .dataframe tbody tr th {\n",
       "        vertical-align: top;\n",
       "    }\n",
       "\n",
       "    .dataframe thead th {\n",
       "        text-align: right;\n",
       "    }\n",
       "</style>\n",
       "<table border=\"1\" class=\"dataframe\">\n",
       "  <thead>\n",
       "    <tr style=\"text-align: right;\">\n",
       "      <th></th>\n",
       "      <th>Positive Values</th>\n",
       "      <th>Positive Words</th>\n",
       "      <th>Negative Values</th>\n",
       "      <th>Negative Words</th>\n",
       "    </tr>\n",
       "  </thead>\n",
       "  <tbody>\n",
       "    <tr>\n",
       "      <th>0</th>\n",
       "      <td>10.049027</td>\n",
       "      <td>sooth</td>\n",
       "      <td>-20.116442</td>\n",
       "      <td>worst</td>\n",
       "    </tr>\n",
       "    <tr>\n",
       "      <th>1</th>\n",
       "      <td>10.064277</td>\n",
       "      <td>supris</td>\n",
       "      <td>-15.312181</td>\n",
       "      <td>unbalanc</td>\n",
       "    </tr>\n",
       "    <tr>\n",
       "      <th>2</th>\n",
       "      <td>10.131203</td>\n",
       "      <td>inhal</td>\n",
       "      <td>-13.841480</td>\n",
       "      <td>yike</td>\n",
       "    </tr>\n",
       "    <tr>\n",
       "      <th>3</th>\n",
       "      <td>10.193276</td>\n",
       "      <td>siberian</td>\n",
       "      <td>-13.598330</td>\n",
       "      <td>mediocr</td>\n",
       "    </tr>\n",
       "    <tr>\n",
       "      <th>4</th>\n",
       "      <td>10.237672</td>\n",
       "      <td>mmmmm</td>\n",
       "      <td>-13.359020</td>\n",
       "      <td>undrink</td>\n",
       "    </tr>\n",
       "    <tr>\n",
       "      <th>5</th>\n",
       "      <td>10.293607</td>\n",
       "      <td>addict</td>\n",
       "      <td>-13.278857</td>\n",
       "      <td>disastr</td>\n",
       "    </tr>\n",
       "    <tr>\n",
       "      <th>6</th>\n",
       "      <td>10.431358</td>\n",
       "      <td>ramun</td>\n",
       "      <td>-12.941103</td>\n",
       "      <td>unpleas</td>\n",
       "    </tr>\n",
       "    <tr>\n",
       "      <th>7</th>\n",
       "      <td>10.471546</td>\n",
       "      <td>drawback</td>\n",
       "      <td>-12.749238</td>\n",
       "      <td>allegro</td>\n",
       "    </tr>\n",
       "    <tr>\n",
       "      <th>8</th>\n",
       "      <td>10.568587</td>\n",
       "      <td>divin</td>\n",
       "      <td>-12.736742</td>\n",
       "      <td>unaccept</td>\n",
       "    </tr>\n",
       "    <tr>\n",
       "      <th>9</th>\n",
       "      <td>10.692870</td>\n",
       "      <td>australian</td>\n",
       "      <td>-12.512670</td>\n",
       "      <td>reagan</td>\n",
       "    </tr>\n",
       "    <tr>\n",
       "      <th>10</th>\n",
       "      <td>11.001560</td>\n",
       "      <td>leeri</td>\n",
       "      <td>-12.476226</td>\n",
       "      <td>cascadian</td>\n",
       "    </tr>\n",
       "    <tr>\n",
       "      <th>11</th>\n",
       "      <td>11.014621</td>\n",
       "      <td>byproduct</td>\n",
       "      <td>-12.436362</td>\n",
       "      <td>horribl</td>\n",
       "    </tr>\n",
       "    <tr>\n",
       "      <th>12</th>\n",
       "      <td>11.072367</td>\n",
       "      <td>unavail</td>\n",
       "      <td>-12.423991</td>\n",
       "      <td>queso</td>\n",
       "    </tr>\n",
       "    <tr>\n",
       "      <th>13</th>\n",
       "      <td>11.193903</td>\n",
       "      <td>dum</td>\n",
       "      <td>-12.403787</td>\n",
       "      <td>beautifuli</td>\n",
       "    </tr>\n",
       "    <tr>\n",
       "      <th>14</th>\n",
       "      <td>11.401335</td>\n",
       "      <td>delici</td>\n",
       "      <td>-12.330539</td>\n",
       "      <td>moldi</td>\n",
       "    </tr>\n",
       "    <tr>\n",
       "      <th>15</th>\n",
       "      <td>11.509830</td>\n",
       "      <td>terro</td>\n",
       "      <td>-12.252077</td>\n",
       "      <td>fals</td>\n",
       "    </tr>\n",
       "    <tr>\n",
       "      <th>16</th>\n",
       "      <td>11.761967</td>\n",
       "      <td>amaz</td>\n",
       "      <td>-12.190280</td>\n",
       "      <td>kup</td>\n",
       "    </tr>\n",
       "    <tr>\n",
       "      <th>17</th>\n",
       "      <td>11.887835</td>\n",
       "      <td>deduct</td>\n",
       "      <td>-12.016048</td>\n",
       "      <td>compass</td>\n",
       "    </tr>\n",
       "    <tr>\n",
       "      <th>18</th>\n",
       "      <td>12.066328</td>\n",
       "      <td>gripe</td>\n",
       "      <td>-11.997075</td>\n",
       "      <td>aw</td>\n",
       "    </tr>\n",
       "    <tr>\n",
       "      <th>19</th>\n",
       "      <td>12.386771</td>\n",
       "      <td>quiet</td>\n",
       "      <td>-11.986109</td>\n",
       "      <td>horrid</td>\n",
       "    </tr>\n",
       "    <tr>\n",
       "      <th>20</th>\n",
       "      <td>12.641252</td>\n",
       "      <td>hook</td>\n",
       "      <td>-11.974456</td>\n",
       "      <td>threw</td>\n",
       "    </tr>\n",
       "    <tr>\n",
       "      <th>21</th>\n",
       "      <td>12.665867</td>\n",
       "      <td>bravo</td>\n",
       "      <td>-11.940192</td>\n",
       "      <td>terribl</td>\n",
       "    </tr>\n",
       "    <tr>\n",
       "      <th>22</th>\n",
       "      <td>12.853353</td>\n",
       "      <td>solv</td>\n",
       "      <td>-11.905833</td>\n",
       "      <td>injuri</td>\n",
       "    </tr>\n",
       "    <tr>\n",
       "      <th>23</th>\n",
       "      <td>13.326685</td>\n",
       "      <td>yum</td>\n",
       "      <td>-11.877027</td>\n",
       "      <td>powergel</td>\n",
       "    </tr>\n",
       "    <tr>\n",
       "      <th>24</th>\n",
       "      <td>14.443698</td>\n",
       "      <td>downsid</td>\n",
       "      <td>-11.745152</td>\n",
       "      <td>disgust</td>\n",
       "    </tr>\n",
       "  </tbody>\n",
       "</table>\n",
       "</div>"
      ],
      "text/plain": [
       "    Positive Values Positive Words  Negative Values Negative Words\n",
       "0         10.049027          sooth       -20.116442          worst\n",
       "1         10.064277         supris       -15.312181       unbalanc\n",
       "2         10.131203          inhal       -13.841480           yike\n",
       "3         10.193276       siberian       -13.598330        mediocr\n",
       "4         10.237672          mmmmm       -13.359020        undrink\n",
       "5         10.293607         addict       -13.278857        disastr\n",
       "6         10.431358          ramun       -12.941103        unpleas\n",
       "7         10.471546       drawback       -12.749238        allegro\n",
       "8         10.568587          divin       -12.736742       unaccept\n",
       "9         10.692870     australian       -12.512670         reagan\n",
       "10        11.001560          leeri       -12.476226      cascadian\n",
       "11        11.014621      byproduct       -12.436362        horribl\n",
       "12        11.072367        unavail       -12.423991          queso\n",
       "13        11.193903            dum       -12.403787     beautifuli\n",
       "14        11.401335         delici       -12.330539          moldi\n",
       "15        11.509830          terro       -12.252077           fals\n",
       "16        11.761967           amaz       -12.190280            kup\n",
       "17        11.887835         deduct       -12.016048        compass\n",
       "18        12.066328          gripe       -11.997075             aw\n",
       "19        12.386771          quiet       -11.986109         horrid\n",
       "20        12.641252           hook       -11.974456          threw\n",
       "21        12.665867          bravo       -11.940192        terribl\n",
       "22        12.853353           solv       -11.905833         injuri\n",
       "23        13.326685            yum       -11.877027       powergel\n",
       "24        14.443698        downsid       -11.745152        disgust"
      ]
     },
     "execution_count": 50,
     "metadata": {},
     "output_type": "execute_result"
    }
   ],
   "source": [
    "top_25_features(lr_optimal,count_vect)"
   ]
  },
  {
   "cell_type": "markdown",
   "metadata": {},
   "source": [
    "### Trigram -LR"
   ]
  },
  {
   "cell_type": "markdown",
   "metadata": {},
   "source": [
    "### Best Hyperparameter C and Regularizer using GridSearchCV"
   ]
  },
  {
   "cell_type": "code",
   "execution_count": 51,
   "metadata": {},
   "outputs": [
    {
     "data": {
      "text/plain": [
       "226019    found soup spici tast also even allow soup ste...\n",
       "18104     make lot babi food make meat babi food buy dif...\n",
       "52352     get past sort fals advertis form torii gate im...\n",
       "324221    potato crocket shape ball rather gratin nevert...\n",
       "145649    flax pumpkin seed granola yummi eat four time ...\n",
       "Name: Cleaned_Text, dtype: object"
      ]
     },
     "execution_count": 51,
     "metadata": {},
     "output_type": "execute_result"
    }
   ],
   "source": [
    "x_train, x_test, y_train, y_test = train_test_split(lr_data['Cleaned_Text'] ,lr_data['Score'], test_size=0.3, random_state=0)\n",
    "x_test.head()"
   ]
  },
  {
   "cell_type": "code",
   "execution_count": 52,
   "metadata": {},
   "outputs": [],
   "source": [
    "ngram_vect = CountVectorizer(ngram_range=(1,3))\n",
    "x_train = ngram_vect.fit_transform(x_train)\n",
    "normal_scale = Normalizer().fit(x_train)\n",
    "x_train = normal_scale.transform(x_train)\n",
    "x_test = ngram_vect.transform(x_test)\n",
    "x_test = normal_scale.transform(x_test)"
   ]
  },
  {
   "cell_type": "code",
   "execution_count": 53,
   "metadata": {},
   "outputs": [
    {
     "name": "stdout",
     "output_type": "stream",
     "text": [
      "Fitting 5 folds for each of 28 candidates, totalling 140 fits\n"
     ]
    },
    {
     "name": "stderr",
     "output_type": "stream",
     "text": [
      "[Parallel(n_jobs=-1)]: Done  34 tasks      | elapsed:   50.5s\n",
      "[Parallel(n_jobs=-1)]: Done 140 out of 140 | elapsed:  8.8min finished\n"
     ]
    },
    {
     "data": {
      "text/plain": [
       "GridSearchCV(cv=TimeSeriesSplit(max_train_size=None, n_splits=5),\n",
       "       error_score='raise',\n",
       "       estimator=LogisticRegression(C=1.0, class_weight=None, dual=False, fit_intercept=True,\n",
       "          intercept_scaling=1, max_iter=100, multi_class='ovr', n_jobs=1,\n",
       "          penalty='l2', random_state=None, solver='liblinear', tol=0.0001,\n",
       "          verbose=0, warm_start=False),\n",
       "       fit_params=None, iid=True, n_jobs=-1,\n",
       "       param_grid={'C': [0.0005, 0.0001, 0.005, 0.001, 0.05, 0.01, 0.5, 0.1, 1, 10, 50, 100, 500, 1000], 'penalty': ['l1', 'l2']},\n",
       "       pre_dispatch='2*n_jobs', refit=True, return_train_score='warn',\n",
       "       scoring=None, verbose=1)"
      ]
     },
     "execution_count": 53,
     "metadata": {},
     "output_type": "execute_result"
    }
   ],
   "source": [
    "lr = LogisticRegression()\n",
    "time_split_cv = TimeSeriesSplit(n_splits = 5)\n",
    "C_list = [0.0005,0.0001,0.005,0.001,0.05,0.01,0.5,0.1,1,10,50,100,500,1000]\n",
    "param_grid = {'C':C_list,'penalty':['l1','l2']}\n",
    "grid_search = GridSearchCV(lr,param_grid,cv=time_split_cv,verbose=1,n_jobs=-1)\n",
    "grid_search.fit(x_train,y_train)"
   ]
  },
  {
   "cell_type": "code",
   "execution_count": 54,
   "metadata": {},
   "outputs": [],
   "source": [
    "save_data(grid_search,'trigram_grid_search_lr')"
   ]
  },
  {
   "cell_type": "code",
   "execution_count": 55,
   "metadata": {},
   "outputs": [],
   "source": [
    "a1 = load_data('trigram_grid_search_lr')"
   ]
  },
  {
   "cell_type": "code",
   "execution_count": 56,
   "metadata": {},
   "outputs": [
    {
     "data": {
      "image/png": "[encoded data removed]",
      "text/plain": [
       "<Figure size 432x288 with 1 Axes>"
      ]
     },
     "metadata": {},
     "output_type": "display_data"
    }
   ],
   "source": [
    "l1_vs_l2_accuracy_plot(a1)"
   ]
  },
  {
   "cell_type": "code",
   "execution_count": 57,
   "metadata": {},
   "outputs": [
    {
     "name": "stdout",
     "output_type": "stream",
     "text": [
      "Best Hyperparameter and Regularizer  {'C': 1000, 'penalty': 'l2'}\n",
      "Best Accuracy 92.853714%\n"
     ]
    }
   ],
   "source": [
    "print('Best Hyperparameter and Regularizer ',a1.best_params_)\n",
    "print('Best Accuracy %f% %'%(a1.best_score_*100))"
   ]
  },
  {
   "cell_type": "code",
   "execution_count": 58,
   "metadata": {},
   "outputs": [],
   "source": [
    "lr_optimal = LogisticRegression(C = a1.best_params_.get('C'),penalty = a1.best_params_.get('penalty'))\n",
    "lr_optimal.fit(x_train, y_train)\n",
    "pred = lr_optimal.predict(x_test)\n",
    "acc = accuracy_score(y_test, pred) * 100"
   ]
  },
  {
   "cell_type": "code",
   "execution_count": 59,
   "metadata": {},
   "outputs": [
    {
     "data": {
      "text/html": [
       "<div>\n",
       "<style scoped>\n",
       "    .dataframe tbody tr th:only-of-type {\n",
       "        vertical-align: middle;\n",
       "    }\n",
       "\n",
       "    .dataframe tbody tr th {\n",
       "        vertical-align: top;\n",
       "    }\n",
       "\n",
       "    .dataframe thead th {\n",
       "        text-align: right;\n",
       "    }\n",
       "</style>\n",
       "<table border=\"1\" class=\"dataframe\">\n",
       "  <thead>\n",
       "    <tr style=\"text-align: right;\">\n",
       "      <th></th>\n",
       "      <th>Accuracy</th>\n",
       "      <th>Precision score</th>\n",
       "      <th>Recall score</th>\n",
       "      <th>F1 score</th>\n",
       "    </tr>\n",
       "  </thead>\n",
       "  <tbody>\n",
       "    <tr>\n",
       "      <th>0</th>\n",
       "      <td>93.62</td>\n",
       "      <td>0.950957</td>\n",
       "      <td>0.976701</td>\n",
       "      <td>0.963657</td>\n",
       "    </tr>\n",
       "  </tbody>\n",
       "</table>\n",
       "</div>"
      ],
      "text/plain": [
       "   Accuracy  Precision score  Recall score  F1 score\n",
       "0     93.62         0.950957      0.976701  0.963657"
      ]
     },
     "execution_count": 59,
     "metadata": {},
     "output_type": "execute_result"
    }
   ],
   "source": [
    "metric_scores(y_test,pred)"
   ]
  },
  {
   "cell_type": "code",
   "execution_count": 60,
   "metadata": {},
   "outputs": [
    {
     "name": "stdout",
     "output_type": "stream",
     "text": [
      "True Positive 38063\n",
      "True Negative 4066\n",
      "False Positive 1963\n",
      "False Negative 908\n"
     ]
    },
    {
     "data": {
      "image/png": "[encoded data removed]",
      "text/plain": [
       "<Figure size 432x288 with 2 Axes>"
      ]
     },
     "metadata": {},
     "output_type": "display_data"
    }
   ],
   "source": [
    "confusion_matrix_plot(y_test,pred)"
   ]
  },
  {
   "cell_type": "markdown",
   "metadata": {},
   "source": [
    "### Sparsity Analysis"
   ]
  },
  {
   "cell_type": "code",
   "execution_count": 61,
   "metadata": {},
   "outputs": [
    {
     "name": "stdout",
     "output_type": "stream",
     "text": [
      "No. of zero elements for C = 0.005 is 4368129\n",
      "No. of zero elements for C = 0.010 is 4368121\n",
      "No. of zero elements for C = 0.500 is 4367450\n",
      "No. of zero elements for C = 0.100 is 4367946\n",
      "No. of zero elements for C = 1.000 is 4366958\n",
      "No. of zero elements for C = 10.000 is 4356023\n",
      "No. of zero elements for C = 50.000 is 4348694\n",
      "No. of zero elements for C = 100.000 is 4346988\n",
      "No. of zero elements for C = 500.000 is 4342050\n",
      "No. of zero elements for C = 1000.000 is 4337325\n",
      "Percentage increase in Sparsity is 0.71%\n"
     ]
    }
   ],
   "source": [
    "sparsity_analysis(x_train,y_train)"
   ]
  },
  {
   "cell_type": "markdown",
   "metadata": {},
   "source": [
    "### Perturbation Test"
   ]
  },
  {
   "cell_type": "code",
   "execution_count": 62,
   "metadata": {},
   "outputs": [
    {
     "name": "stdout",
     "output_type": "stream",
     "text": [
      "Accuracy before adding noise is  93.62\n",
      "Accuracy after adding noise is  93.64222222222223\n"
     ]
    }
   ],
   "source": [
    "no_of_features = multicollinearity_check(x_train,y_train,x_test,y_test,a1.best_params_.get('C'),a1.best_params_.get('penalty'))"
   ]
  },
  {
   "cell_type": "code",
   "execution_count": 63,
   "metadata": {},
   "outputs": [
    {
     "name": "stdout",
     "output_type": "stream",
     "text": [
      "The number of features with weight changes greater than 70 percent is 345868\n",
      "Hence the features are Multicollinear\n"
     ]
    }
   ],
   "source": [
    "print('The number of features with weight changes greater than 70 percent is %d' %(no_of_features))\n",
    "print('Hence the features are Multicollinear')"
   ]
  },
  {
   "cell_type": "markdown",
   "metadata": {},
   "source": [
    "### Best Hyperparameter C and Regularizer using Randomized SearchCV"
   ]
  },
  {
   "cell_type": "code",
   "execution_count": 64,
   "metadata": {},
   "outputs": [
    {
     "data": {
      "text/plain": [
       "226019    found soup spici tast also even allow soup ste...\n",
       "18104     make lot babi food make meat babi food buy dif...\n",
       "52352     get past sort fals advertis form torii gate im...\n",
       "324221    potato crocket shape ball rather gratin nevert...\n",
       "145649    flax pumpkin seed granola yummi eat four time ...\n",
       "Name: Cleaned_Text, dtype: object"
      ]
     },
     "execution_count": 64,
     "metadata": {},
     "output_type": "execute_result"
    }
   ],
   "source": [
    "x_train, x_test, y_train, y_test = train_test_split(lr_data['Cleaned_Text'] ,lr_data['Score'], test_size=0.3, random_state=0)\n",
    "x_test.head()"
   ]
  },
  {
   "cell_type": "code",
   "execution_count": 65,
   "metadata": {},
   "outputs": [],
   "source": [
    "ngram_vect = CountVectorizer(ngram_range=(1,3))\n",
    "x_train = ngram_vect.fit_transform(x_train)\n",
    "normal_scale = Normalizer().fit(x_train)\n",
    "x_train = normal_scale.transform(x_train)\n",
    "x_test = ngram_vect.transform(x_test)\n",
    "x_test = normal_scale.transform(x_test)"
   ]
  },
  {
   "cell_type": "code",
   "execution_count": 66,
   "metadata": {},
   "outputs": [
    {
     "name": "stdout",
     "output_type": "stream",
     "text": [
      "Fitting 5 folds for each of 10 candidates, totalling 50 fits\n"
     ]
    },
    {
     "name": "stderr",
     "output_type": "stream",
     "text": [
      "[Parallel(n_jobs=-1)]: Done  34 tasks      | elapsed:  2.7min\n",
      "[Parallel(n_jobs=-1)]: Done  50 out of  50 | elapsed:  4.1min finished\n"
     ]
    },
    {
     "data": {
      "text/plain": [
       "RandomizedSearchCV(cv=TimeSeriesSplit(max_train_size=None, n_splits=5),\n",
       "          error_score='raise',\n",
       "          estimator=LogisticRegression(C=1.0, class_weight=None, dual=False, fit_intercept=True,\n",
       "          intercept_scaling=1, max_iter=100, multi_class='ovr', n_jobs=1,\n",
       "          penalty='l2', random_state=None, solver='liblinear', tol=0.0001,\n",
       "          verbose=0, warm_start=False),\n",
       "          fit_params=None, iid=True, n_iter=10, n_jobs=-1,\n",
       "          param_distributions={'C': [0.0005, 0.0001, 0.005, 0.001, 0.05, 0.01, 0.5, 0.1, 1, 10, 50, 100, 500, 1000], 'penalty': ['l1', 'l2']},\n",
       "          pre_dispatch='2*n_jobs', random_state=None, refit=True,\n",
       "          return_train_score='warn', scoring=None, verbose=1)"
      ]
     },
     "execution_count": 66,
     "metadata": {},
     "output_type": "execute_result"
    }
   ],
   "source": [
    "lr = LogisticRegression()\n",
    "time_split_cv = TimeSeriesSplit(n_splits = 5)\n",
    "C_list = [0.0005,0.0001,0.005,0.001,0.05,0.01,0.5,0.1,1,10,50,100,500,1000]\n",
    "param_grid = {'C':C_list,'penalty':['l1','l2']}\n",
    "grid_search_rscv = RandomizedSearchCV(lr,param_grid,cv=time_split_cv,verbose=1,n_jobs=-1)\n",
    "grid_search_rscv.fit(x_train,y_train)"
   ]
  },
  {
   "cell_type": "code",
   "execution_count": 67,
   "metadata": {},
   "outputs": [],
   "source": [
    "save_data(grid_search_rscv,'trigram_grid_search_lr_rscv')"
   ]
  },
  {
   "cell_type": "code",
   "execution_count": 68,
   "metadata": {},
   "outputs": [],
   "source": [
    "a2 = load_data('trigram_grid_search_lr_rscv')"
   ]
  },
  {
   "cell_type": "code",
   "execution_count": 69,
   "metadata": {},
   "outputs": [
    {
     "data": {
      "image/png": "[encoded data removed]",
      "text/plain": [
       "<Figure size 432x288 with 1 Axes>"
      ]
     },
     "metadata": {},
     "output_type": "display_data"
    }
   ],
   "source": [
    "l1_vs_l2_accuracy_plot(a2)"
   ]
  },
  {
   "cell_type": "code",
   "execution_count": 70,
   "metadata": {},
   "outputs": [
    {
     "name": "stdout",
     "output_type": "stream",
     "text": [
      "Best Hyperparameter and Regularizer  {'penalty': 'l2', 'C': 500}\n",
      "Best Accuracy 92.822857%\n"
     ]
    }
   ],
   "source": [
    "print('Best Hyperparameter and Regularizer ',a2.best_params_)\n",
    "print('Best Accuracy %f% %'%(a2.best_score_*100))"
   ]
  },
  {
   "cell_type": "code",
   "execution_count": 71,
   "metadata": {},
   "outputs": [],
   "source": [
    "lr_optimal = LogisticRegression(C = a2.best_params_.get('C'),penalty = a2.best_params_.get('penalty'))\n",
    "lr_optimal.fit(x_train, y_train)\n",
    "pred = lr_optimal.predict(x_test)\n",
    "acc = accuracy_score(y_test, pred) * 100"
   ]
  },
  {
   "cell_type": "code",
   "execution_count": 72,
   "metadata": {},
   "outputs": [
    {
     "data": {
      "text/html": [
       "<div>\n",
       "<style scoped>\n",
       "    .dataframe tbody tr th:only-of-type {\n",
       "        vertical-align: middle;\n",
       "    }\n",
       "\n",
       "    .dataframe tbody tr th {\n",
       "        vertical-align: top;\n",
       "    }\n",
       "\n",
       "    .dataframe thead th {\n",
       "        text-align: right;\n",
       "    }\n",
       "</style>\n",
       "<table border=\"1\" class=\"dataframe\">\n",
       "  <thead>\n",
       "    <tr style=\"text-align: right;\">\n",
       "      <th></th>\n",
       "      <th>Accuracy</th>\n",
       "      <th>Precision score</th>\n",
       "      <th>Recall score</th>\n",
       "      <th>F1 score</th>\n",
       "    </tr>\n",
       "  </thead>\n",
       "  <tbody>\n",
       "    <tr>\n",
       "      <th>0</th>\n",
       "      <td>93.608889</td>\n",
       "      <td>0.950861</td>\n",
       "      <td>0.976675</td>\n",
       "      <td>0.963595</td>\n",
       "    </tr>\n",
       "  </tbody>\n",
       "</table>\n",
       "</div>"
      ],
      "text/plain": [
       "    Accuracy  Precision score  Recall score  F1 score\n",
       "0  93.608889         0.950861      0.976675  0.963595"
      ]
     },
     "execution_count": 72,
     "metadata": {},
     "output_type": "execute_result"
    }
   ],
   "source": [
    "metric_scores(y_test,pred)"
   ]
  },
  {
   "cell_type": "code",
   "execution_count": 73,
   "metadata": {},
   "outputs": [
    {
     "name": "stdout",
     "output_type": "stream",
     "text": [
      "True Positive 38062\n",
      "True Negative 4062\n",
      "False Positive 1967\n",
      "False Negative 909\n"
     ]
    },
    {
     "data": {
      "image/png": "[encoded data removed]",
      "text/plain": [
       "<Figure size 432x288 with 2 Axes>"
      ]
     },
     "metadata": {},
     "output_type": "display_data"
    }
   ],
   "source": [
    "confusion_matrix_plot(y_test,pred)"
   ]
  },
  {
   "cell_type": "markdown",
   "metadata": {},
   "source": [
    "### Top 25 Important Features for both Positive and Negative Class"
   ]
  },
  {
   "cell_type": "code",
   "execution_count": 74,
   "metadata": {},
   "outputs": [
    {
     "data": {
      "text/html": [
       "<div>\n",
       "<style scoped>\n",
       "    .dataframe tbody tr th:only-of-type {\n",
       "        vertical-align: middle;\n",
       "    }\n",
       "\n",
       "    .dataframe tbody tr th {\n",
       "        vertical-align: top;\n",
       "    }\n",
       "\n",
       "    .dataframe thead th {\n",
       "        text-align: right;\n",
       "    }\n",
       "</style>\n",
       "<table border=\"1\" class=\"dataframe\">\n",
       "  <thead>\n",
       "    <tr style=\"text-align: right;\">\n",
       "      <th></th>\n",
       "      <th>Positive Values</th>\n",
       "      <th>Positive Words</th>\n",
       "      <th>Negative Values</th>\n",
       "      <th>Negative Words</th>\n",
       "    </tr>\n",
       "  </thead>\n",
       "  <tbody>\n",
       "    <tr>\n",
       "      <th>0</th>\n",
       "      <td>14.592840</td>\n",
       "      <td>complaint</td>\n",
       "      <td>-39.394454</td>\n",
       "      <td>worst</td>\n",
       "    </tr>\n",
       "    <tr>\n",
       "      <th>1</th>\n",
       "      <td>14.943186</td>\n",
       "      <td>refresh</td>\n",
       "      <td>-28.108482</td>\n",
       "      <td>terribl</td>\n",
       "    </tr>\n",
       "    <tr>\n",
       "      <th>2</th>\n",
       "      <td>14.951902</td>\n",
       "      <td>right amount</td>\n",
       "      <td>-28.028916</td>\n",
       "      <td>horribl</td>\n",
       "    </tr>\n",
       "    <tr>\n",
       "      <th>3</th>\n",
       "      <td>14.991427</td>\n",
       "      <td>cant wrong</td>\n",
       "      <td>-27.394505</td>\n",
       "      <td>disappoint</td>\n",
       "    </tr>\n",
       "    <tr>\n",
       "      <th>4</th>\n",
       "      <td>15.146461</td>\n",
       "      <td>beauti</td>\n",
       "      <td>-27.066069</td>\n",
       "      <td>two star</td>\n",
       "    </tr>\n",
       "    <tr>\n",
       "      <th>5</th>\n",
       "      <td>15.579053</td>\n",
       "      <td>nice</td>\n",
       "      <td>-26.410978</td>\n",
       "      <td>aw</td>\n",
       "    </tr>\n",
       "    <tr>\n",
       "      <th>6</th>\n",
       "      <td>15.585458</td>\n",
       "      <td>worri</td>\n",
       "      <td>-24.560256</td>\n",
       "      <td>threw</td>\n",
       "    </tr>\n",
       "    <tr>\n",
       "      <th>7</th>\n",
       "      <td>15.601378</td>\n",
       "      <td>skeptic</td>\n",
       "      <td>-24.358896</td>\n",
       "      <td>wont buy</td>\n",
       "    </tr>\n",
       "    <tr>\n",
       "      <th>8</th>\n",
       "      <td>16.366628</td>\n",
       "      <td>great</td>\n",
       "      <td>-22.749579</td>\n",
       "      <td>disgust</td>\n",
       "    </tr>\n",
       "    <tr>\n",
       "      <th>9</th>\n",
       "      <td>16.740456</td>\n",
       "      <td>uniqu</td>\n",
       "      <td>-22.066580</td>\n",
       "      <td>unpleas</td>\n",
       "    </tr>\n",
       "    <tr>\n",
       "      <th>10</th>\n",
       "      <td>16.911769</td>\n",
       "      <td>yummi</td>\n",
       "      <td>-21.822637</td>\n",
       "      <td>unfortun</td>\n",
       "    </tr>\n",
       "    <tr>\n",
       "      <th>11</th>\n",
       "      <td>17.013923</td>\n",
       "      <td>beat</td>\n",
       "      <td>-21.419474</td>\n",
       "      <td>bland</td>\n",
       "    </tr>\n",
       "    <tr>\n",
       "      <th>12</th>\n",
       "      <td>17.380227</td>\n",
       "      <td>yum</td>\n",
       "      <td>-20.737145</td>\n",
       "      <td>tasteless</td>\n",
       "    </tr>\n",
       "    <tr>\n",
       "      <th>13</th>\n",
       "      <td>17.837000</td>\n",
       "      <td>fantast</td>\n",
       "      <td>-20.574757</td>\n",
       "      <td>stale</td>\n",
       "    </tr>\n",
       "    <tr>\n",
       "      <th>14</th>\n",
       "      <td>17.972686</td>\n",
       "      <td>pleasant surpris</td>\n",
       "      <td>-20.178629</td>\n",
       "      <td>weak</td>\n",
       "    </tr>\n",
       "    <tr>\n",
       "      <th>15</th>\n",
       "      <td>18.534535</td>\n",
       "      <td>addict</td>\n",
       "      <td>-19.978897</td>\n",
       "      <td>sad</td>\n",
       "    </tr>\n",
       "    <tr>\n",
       "      <th>16</th>\n",
       "      <td>18.540657</td>\n",
       "      <td>awesom</td>\n",
       "      <td>-19.804556</td>\n",
       "      <td>return</td>\n",
       "    </tr>\n",
       "    <tr>\n",
       "      <th>17</th>\n",
       "      <td>18.552848</td>\n",
       "      <td>even better</td>\n",
       "      <td>-18.830661</td>\n",
       "      <td>sorri</td>\n",
       "    </tr>\n",
       "    <tr>\n",
       "      <th>18</th>\n",
       "      <td>19.180378</td>\n",
       "      <td>hook</td>\n",
       "      <td>-18.180209</td>\n",
       "      <td>way sweet</td>\n",
       "    </tr>\n",
       "    <tr>\n",
       "      <th>19</th>\n",
       "      <td>19.685134</td>\n",
       "      <td>best</td>\n",
       "      <td>-18.110201</td>\n",
       "      <td>never buy</td>\n",
       "    </tr>\n",
       "    <tr>\n",
       "      <th>20</th>\n",
       "      <td>20.799734</td>\n",
       "      <td>excel</td>\n",
       "      <td>-17.797583</td>\n",
       "      <td>wast money</td>\n",
       "    </tr>\n",
       "    <tr>\n",
       "      <th>21</th>\n",
       "      <td>22.569024</td>\n",
       "      <td>perfect</td>\n",
       "      <td>-17.762458</td>\n",
       "      <td>gross</td>\n",
       "    </tr>\n",
       "    <tr>\n",
       "      <th>22</th>\n",
       "      <td>23.722723</td>\n",
       "      <td>wont disappoint</td>\n",
       "      <td>-17.627845</td>\n",
       "      <td>broke</td>\n",
       "    </tr>\n",
       "    <tr>\n",
       "      <th>23</th>\n",
       "      <td>23.882573</td>\n",
       "      <td>amaz</td>\n",
       "      <td>-17.512191</td>\n",
       "      <td>wors</td>\n",
       "    </tr>\n",
       "    <tr>\n",
       "      <th>24</th>\n",
       "      <td>25.996550</td>\n",
       "      <td>high recommend</td>\n",
       "      <td>-16.782687</td>\n",
       "      <td>yuck</td>\n",
       "    </tr>\n",
       "  </tbody>\n",
       "</table>\n",
       "</div>"
      ],
      "text/plain": [
       "    Positive Values    Positive Words  Negative Values Negative Words\n",
       "0         14.592840         complaint       -39.394454          worst\n",
       "1         14.943186           refresh       -28.108482        terribl\n",
       "2         14.951902      right amount       -28.028916        horribl\n",
       "3         14.991427        cant wrong       -27.394505     disappoint\n",
       "4         15.146461            beauti       -27.066069       two star\n",
       "5         15.579053              nice       -26.410978             aw\n",
       "6         15.585458             worri       -24.560256          threw\n",
       "7         15.601378           skeptic       -24.358896       wont buy\n",
       "8         16.366628             great       -22.749579        disgust\n",
       "9         16.740456             uniqu       -22.066580        unpleas\n",
       "10        16.911769             yummi       -21.822637       unfortun\n",
       "11        17.013923              beat       -21.419474          bland\n",
       "12        17.380227               yum       -20.737145      tasteless\n",
       "13        17.837000           fantast       -20.574757          stale\n",
       "14        17.972686  pleasant surpris       -20.178629           weak\n",
       "15        18.534535            addict       -19.978897            sad\n",
       "16        18.540657            awesom       -19.804556         return\n",
       "17        18.552848       even better       -18.830661          sorri\n",
       "18        19.180378              hook       -18.180209      way sweet\n",
       "19        19.685134              best       -18.110201      never buy\n",
       "20        20.799734             excel       -17.797583     wast money\n",
       "21        22.569024           perfect       -17.762458          gross\n",
       "22        23.722723   wont disappoint       -17.627845          broke\n",
       "23        23.882573              amaz       -17.512191           wors\n",
       "24        25.996550    high recommend       -16.782687           yuck"
      ]
     },
     "execution_count": 74,
     "metadata": {},
     "output_type": "execute_result"
    }
   ],
   "source": [
    "top_25_features(lr_optimal,ngram_vect)"
   ]
  },
  {
   "cell_type": "markdown",
   "metadata": {},
   "source": [
    "### Tf-Idf LR"
   ]
  },
  {
   "cell_type": "markdown",
   "metadata": {},
   "source": [
    "### Best Hyperparameter C and Regularizer using GridSearchCV"
   ]
  },
  {
   "cell_type": "code",
   "execution_count": 75,
   "metadata": {},
   "outputs": [
    {
     "data": {
      "text/plain": [
       "226019    found soup spici tast also even allow soup ste...\n",
       "18104     make lot babi food make meat babi food buy dif...\n",
       "52352     get past sort fals advertis form torii gate im...\n",
       "324221    potato crocket shape ball rather gratin nevert...\n",
       "145649    flax pumpkin seed granola yummi eat four time ...\n",
       "Name: Cleaned_Text, dtype: object"
      ]
     },
     "execution_count": 75,
     "metadata": {},
     "output_type": "execute_result"
    }
   ],
   "source": [
    "x_train, x_test, y_train, y_test = train_test_split(lr_data['Cleaned_Text'] ,lr_data['Score'], test_size=0.3, random_state=0)\n",
    "x_test.head()"
   ]
  },
  {
   "cell_type": "code",
   "execution_count": 76,
   "metadata": {},
   "outputs": [],
   "source": [
    "tf_idf_vect = TfidfVectorizer(ngram_range=(1,2))\n",
    "x_train = tf_idf_vect.fit_transform(x_train)\n",
    "normal_scale = Normalizer().fit(x_train)\n",
    "x_train = normal_scale.transform(x_train)\n",
    "x_test = tf_idf_vect.transform(x_test)\n",
    "x_test = normal_scale.transform(x_test)"
   ]
  },
  {
   "cell_type": "code",
   "execution_count": 77,
   "metadata": {},
   "outputs": [
    {
     "name": "stdout",
     "output_type": "stream",
     "text": [
      "Fitting 5 folds for each of 28 candidates, totalling 140 fits\n"
     ]
    },
    {
     "name": "stderr",
     "output_type": "stream",
     "text": [
      "[Parallel(n_jobs=-1)]: Done  34 tasks      | elapsed:   16.7s\n",
      "[Parallel(n_jobs=-1)]: Done 140 out of 140 | elapsed:  2.7min finished\n"
     ]
    },
    {
     "data": {
      "text/plain": [
       "GridSearchCV(cv=TimeSeriesSplit(max_train_size=None, n_splits=5),\n",
       "       error_score='raise',\n",
       "       estimator=LogisticRegression(C=1.0, class_weight=None, dual=False, fit_intercept=True,\n",
       "          intercept_scaling=1, max_iter=100, multi_class='ovr', n_jobs=1,\n",
       "          penalty='l2', random_state=None, solver='liblinear', tol=0.0001,\n",
       "          verbose=0, warm_start=False),\n",
       "       fit_params=None, iid=True, n_jobs=-1,\n",
       "       param_grid={'C': [0.0005, 0.0001, 0.005, 0.001, 0.05, 0.01, 0.5, 0.1, 1, 10, 50, 100, 500, 1000], 'penalty': ['l1', 'l2']},\n",
       "       pre_dispatch='2*n_jobs', refit=True, return_train_score='warn',\n",
       "       scoring=None, verbose=1)"
      ]
     },
     "execution_count": 77,
     "metadata": {},
     "output_type": "execute_result"
    }
   ],
   "source": [
    "lr = LogisticRegression()\n",
    "time_split_cv = TimeSeriesSplit(n_splits = 5)\n",
    "C_list = [0.0005,0.0001,0.005,0.001,0.05,0.01,0.5,0.1,1,10,50,100,500,1000]\n",
    "param_grid = {'C':C_list,'penalty':['l1','l2']}\n",
    "grid_search = GridSearchCV(lr,param_grid,cv=time_split_cv,verbose=1,n_jobs=-1)\n",
    "grid_search.fit(x_train,y_train)"
   ]
  },
  {
   "cell_type": "code",
   "execution_count": 78,
   "metadata": {},
   "outputs": [],
   "source": [
    "save_data(grid_search,'tfidf_grid_search_lr')"
   ]
  },
  {
   "cell_type": "code",
   "execution_count": 79,
   "metadata": {},
   "outputs": [],
   "source": [
    "a1 = load_data('tfidf_grid_search_lr')"
   ]
  },
  {
   "cell_type": "code",
   "execution_count": 80,
   "metadata": {},
   "outputs": [
    {
     "data": {
      "image/png": "[encoded data removed]",
      "text/plain": [
       "<Figure size 432x288 with 1 Axes>"
      ]
     },
     "metadata": {},
     "output_type": "display_data"
    }
   ],
   "source": [
    "l1_vs_l2_accuracy_plot(a1)"
   ]
  },
  {
   "cell_type": "code",
   "execution_count": 81,
   "metadata": {},
   "outputs": [
    {
     "name": "stdout",
     "output_type": "stream",
     "text": [
      "Best Hyperparameter and Regularizer  {'C': 1000, 'penalty': 'l2'}\n",
      "Best Accuracy 92.804571%\n"
     ]
    }
   ],
   "source": [
    "print('Best Hyperparameter and Regularizer ',a1.best_params_)\n",
    "print('Best Accuracy %f% %'%(a1.best_score_*100))"
   ]
  },
  {
   "cell_type": "code",
   "execution_count": 82,
   "metadata": {},
   "outputs": [],
   "source": [
    "lr_optimal = LogisticRegression(C = a1.best_params_.get('C'),penalty = a1.best_params_.get('penalty'))\n",
    "lr_optimal.fit(x_train, y_train)\n",
    "pred = lr_optimal.predict(x_test)\n",
    "acc = accuracy_score(y_test, pred) * 100"
   ]
  },
  {
   "cell_type": "code",
   "execution_count": 83,
   "metadata": {},
   "outputs": [
    {
     "data": {
      "text/html": [
       "<div>\n",
       "<style scoped>\n",
       "    .dataframe tbody tr th:only-of-type {\n",
       "        vertical-align: middle;\n",
       "    }\n",
       "\n",
       "    .dataframe tbody tr th {\n",
       "        vertical-align: top;\n",
       "    }\n",
       "\n",
       "    .dataframe thead th {\n",
       "        text-align: right;\n",
       "    }\n",
       "</style>\n",
       "<table border=\"1\" class=\"dataframe\">\n",
       "  <thead>\n",
       "    <tr style=\"text-align: right;\">\n",
       "      <th></th>\n",
       "      <th>Accuracy</th>\n",
       "      <th>Precision score</th>\n",
       "      <th>Recall score</th>\n",
       "      <th>F1 score</th>\n",
       "    </tr>\n",
       "  </thead>\n",
       "  <tbody>\n",
       "    <tr>\n",
       "      <th>0</th>\n",
       "      <td>93.782222</td>\n",
       "      <td>0.950552</td>\n",
       "      <td>0.979138</td>\n",
       "      <td>0.964633</td>\n",
       "    </tr>\n",
       "  </tbody>\n",
       "</table>\n",
       "</div>"
      ],
      "text/plain": [
       "    Accuracy  Precision score  Recall score  F1 score\n",
       "0  93.782222         0.950552      0.979138  0.964633"
      ]
     },
     "execution_count": 83,
     "metadata": {},
     "output_type": "execute_result"
    }
   ],
   "source": [
    "metric_scores(y_test,pred)"
   ]
  },
  {
   "cell_type": "code",
   "execution_count": 84,
   "metadata": {},
   "outputs": [
    {
     "name": "stdout",
     "output_type": "stream",
     "text": [
      "True Positive 38158\n",
      "True Negative 4044\n",
      "False Positive 1985\n",
      "False Negative 813\n"
     ]
    },
    {
     "data": {
      "image/png": "[encoded data removed]",
      "text/plain": [
       "<Figure size 432x288 with 2 Axes>"
      ]
     },
     "metadata": {},
     "output_type": "display_data"
    }
   ],
   "source": [
    "confusion_matrix_plot(y_test,pred)"
   ]
  },
  {
   "cell_type": "markdown",
   "metadata": {},
   "source": [
    "### Sparsity Analysis"
   ]
  },
  {
   "cell_type": "code",
   "execution_count": 85,
   "metadata": {},
   "outputs": [
    {
     "name": "stdout",
     "output_type": "stream",
     "text": [
      "No. of zero elements for C = 0.005 is 1286254\n",
      "No. of zero elements for C = 0.010 is 1286252\n",
      "No. of zero elements for C = 0.500 is 1285577\n",
      "No. of zero elements for C = 0.100 is 1286112\n",
      "No. of zero elements for C = 1.000 is 1284988\n",
      "No. of zero elements for C = 10.000 is 1271893\n",
      "No. of zero elements for C = 50.000 is 1266961\n",
      "No. of zero elements for C = 100.000 is 1265927\n",
      "No. of zero elements for C = 500.000 is 1261583\n",
      "No. of zero elements for C = 1000.000 is 1257971\n",
      "Percentage increase in Sparsity is 2.25%\n"
     ]
    }
   ],
   "source": [
    "sparsity_analysis(x_train,y_train)"
   ]
  },
  {
   "cell_type": "markdown",
   "metadata": {},
   "source": [
    "### Perturbation Test"
   ]
  },
  {
   "cell_type": "code",
   "execution_count": 86,
   "metadata": {},
   "outputs": [
    {
     "name": "stdout",
     "output_type": "stream",
     "text": [
      "Accuracy before adding noise is  93.78222222222222\n",
      "Accuracy after adding noise is  93.77111111111111\n"
     ]
    }
   ],
   "source": [
    "no_of_features = multicollinearity_check(x_train,y_train,x_test,y_test,a1.best_params_.get('C'),a1.best_params_.get('penalty'))"
   ]
  },
  {
   "cell_type": "code",
   "execution_count": 87,
   "metadata": {},
   "outputs": [
    {
     "name": "stdout",
     "output_type": "stream",
     "text": [
      "The number of features with weight changes greater than 70 percent is 54842\n",
      "Hence the features are Multicollinear\n"
     ]
    }
   ],
   "source": [
    "print('The number of features with weight changes greater than 70 percent is %d' %(no_of_features))\n",
    "print('Hence the features are Multicollinear')"
   ]
  },
  {
   "cell_type": "markdown",
   "metadata": {},
   "source": [
    "### Best Hyperparameter C and Regularizer using Randomized SearchCV"
   ]
  },
  {
   "cell_type": "code",
   "execution_count": 88,
   "metadata": {},
   "outputs": [
    {
     "data": {
      "text/plain": [
       "226019    found soup spici tast also even allow soup ste...\n",
       "18104     make lot babi food make meat babi food buy dif...\n",
       "52352     get past sort fals advertis form torii gate im...\n",
       "324221    potato crocket shape ball rather gratin nevert...\n",
       "145649    flax pumpkin seed granola yummi eat four time ...\n",
       "Name: Cleaned_Text, dtype: object"
      ]
     },
     "execution_count": 88,
     "metadata": {},
     "output_type": "execute_result"
    }
   ],
   "source": [
    "x_train, x_test, y_train, y_test = train_test_split(lr_data['Cleaned_Text'] ,lr_data['Score'], test_size=0.3, random_state=0)\n",
    "x_test.head()"
   ]
  },
  {
   "cell_type": "code",
   "execution_count": 89,
   "metadata": {},
   "outputs": [],
   "source": [
    "tf_idf_vect = TfidfVectorizer(ngram_range=(1,2))\n",
    "x_train = tf_idf_vect.fit_transform(x_train)\n",
    "normal_scale = Normalizer().fit(x_train)\n",
    "x_train = normal_scale.transform(x_train)\n",
    "x_test = tf_idf_vect.transform(x_test)\n",
    "x_test = normal_scale.transform(x_test)"
   ]
  },
  {
   "cell_type": "code",
   "execution_count": 90,
   "metadata": {},
   "outputs": [
    {
     "name": "stdout",
     "output_type": "stream",
     "text": [
      "Fitting 5 folds for each of 10 candidates, totalling 50 fits\n"
     ]
    },
    {
     "name": "stderr",
     "output_type": "stream",
     "text": [
      "[Parallel(n_jobs=-1)]: Done  34 tasks      | elapsed:  1.2min\n",
      "[Parallel(n_jobs=-1)]: Done  50 out of  50 | elapsed:  1.5min finished\n"
     ]
    },
    {
     "data": {
      "text/plain": [
       "RandomizedSearchCV(cv=TimeSeriesSplit(max_train_size=None, n_splits=5),\n",
       "          error_score='raise',\n",
       "          estimator=LogisticRegression(C=1.0, class_weight=None, dual=False, fit_intercept=True,\n",
       "          intercept_scaling=1, max_iter=100, multi_class='ovr', n_jobs=1,\n",
       "          penalty='l2', random_state=None, solver='liblinear', tol=0.0001,\n",
       "          verbose=0, warm_start=False),\n",
       "          fit_params=None, iid=True, n_iter=10, n_jobs=-1,\n",
       "          param_distributions={'C': [0.0005, 0.0001, 0.005, 0.001, 0.05, 0.01, 0.5, 0.1, 1, 10, 50, 100, 500, 1000], 'penalty': ['l1', 'l2']},\n",
       "          pre_dispatch='2*n_jobs', random_state=None, refit=True,\n",
       "          return_train_score='warn', scoring=None, verbose=1)"
      ]
     },
     "execution_count": 90,
     "metadata": {},
     "output_type": "execute_result"
    }
   ],
   "source": [
    "lr = LogisticRegression()\n",
    "time_split_cv = TimeSeriesSplit(n_splits = 5)\n",
    "C_list = [0.0005,0.0001,0.005,0.001,0.05,0.01,0.5,0.1,1,10,50,100,500,1000]\n",
    "param_grid = {'C':C_list,'penalty':['l1','l2']}\n",
    "grid_search_rscv = RandomizedSearchCV(lr,param_grid,cv=time_split_cv,verbose=1,n_jobs=-1)\n",
    "grid_search_rscv.fit(x_train,y_train)"
   ]
  },
  {
   "cell_type": "code",
   "execution_count": 91,
   "metadata": {},
   "outputs": [],
   "source": [
    "save_data(grid_search_rscv,'tfidf_grid_search_lr_rscv')"
   ]
  },
  {
   "cell_type": "code",
   "execution_count": 92,
   "metadata": {},
   "outputs": [],
   "source": [
    "a2 = load_data('tfidf_grid_search_lr_rscv')"
   ]
  },
  {
   "cell_type": "code",
   "execution_count": 93,
   "metadata": {},
   "outputs": [
    {
     "data": {
      "image/png": "[encoded data removed]",
      "text/plain": [
       "<Figure size 432x288 with 1 Axes>"
      ]
     },
     "metadata": {},
     "output_type": "display_data"
    }
   ],
   "source": [
    "l1_vs_l2_accuracy_plot(a2)"
   ]
  },
  {
   "cell_type": "code",
   "execution_count": 95,
   "metadata": {},
   "outputs": [
    {
     "name": "stdout",
     "output_type": "stream",
     "text": [
      "Best Hyperparameter and Regularizer  {'penalty': 'l1', 'C': 1000}\n",
      "Best Accuracy 92.409143%\n"
     ]
    }
   ],
   "source": [
    "print('Best Hyperparameter and Regularizer ',a2.best_params_)\n",
    "print('Best Accuracy %f% %'%(a2.best_score_*100))"
   ]
  },
  {
   "cell_type": "code",
   "execution_count": 94,
   "metadata": {},
   "outputs": [],
   "source": [
    "lr_optimal = LogisticRegression(C = a2.best_params_.get('C'),penalty = a2.best_params_.get('penalty'))\n",
    "lr_optimal.fit(x_train, y_train)\n",
    "pred = lr_optimal.predict(x_test)\n",
    "acc = accuracy_score(y_test, pred) * 100"
   ]
  },
  {
   "cell_type": "code",
   "execution_count": 96,
   "metadata": {},
   "outputs": [
    {
     "data": {
      "text/html": [
       "<div>\n",
       "<style scoped>\n",
       "    .dataframe tbody tr th:only-of-type {\n",
       "        vertical-align: middle;\n",
       "    }\n",
       "\n",
       "    .dataframe tbody tr th {\n",
       "        vertical-align: top;\n",
       "    }\n",
       "\n",
       "    .dataframe thead th {\n",
       "        text-align: right;\n",
       "    }\n",
       "</style>\n",
       "<table border=\"1\" class=\"dataframe\">\n",
       "  <thead>\n",
       "    <tr style=\"text-align: right;\">\n",
       "      <th></th>\n",
       "      <th>Accuracy</th>\n",
       "      <th>Precision score</th>\n",
       "      <th>Recall score</th>\n",
       "      <th>F1 score</th>\n",
       "    </tr>\n",
       "  </thead>\n",
       "  <tbody>\n",
       "    <tr>\n",
       "      <th>0</th>\n",
       "      <td>93.011111</td>\n",
       "      <td>0.950891</td>\n",
       "      <td>0.969362</td>\n",
       "      <td>0.960038</td>\n",
       "    </tr>\n",
       "  </tbody>\n",
       "</table>\n",
       "</div>"
      ],
      "text/plain": [
       "    Accuracy  Precision score  Recall score  F1 score\n",
       "0  93.011111         0.950891      0.969362  0.960038"
      ]
     },
     "execution_count": 96,
     "metadata": {},
     "output_type": "execute_result"
    }
   ],
   "source": [
    "metric_scores(y_test,pred)"
   ]
  },
  {
   "cell_type": "code",
   "execution_count": 97,
   "metadata": {},
   "outputs": [
    {
     "name": "stdout",
     "output_type": "stream",
     "text": [
      "True Positive 37777\n",
      "True Negative 4078\n",
      "False Positive 1951\n",
      "False Negative 1194\n"
     ]
    },
    {
     "data": {
      "image/png": "[encoded data removed]",
      "text/plain": [
       "<Figure size 432x288 with 2 Axes>"
      ]
     },
     "metadata": {},
     "output_type": "display_data"
    }
   ],
   "source": [
    "confusion_matrix_plot(y_test,pred)"
   ]
  },
  {
   "cell_type": "markdown",
   "metadata": {},
   "source": [
    "### Top 25 Important Features for both Positive and Negative Class"
   ]
  },
  {
   "cell_type": "code",
   "execution_count": 98,
   "metadata": {},
   "outputs": [
    {
     "data": {
      "text/html": [
       "<div>\n",
       "<style scoped>\n",
       "    .dataframe tbody tr th:only-of-type {\n",
       "        vertical-align: middle;\n",
       "    }\n",
       "\n",
       "    .dataframe tbody tr th {\n",
       "        vertical-align: top;\n",
       "    }\n",
       "\n",
       "    .dataframe thead th {\n",
       "        text-align: right;\n",
       "    }\n",
       "</style>\n",
       "<table border=\"1\" class=\"dataframe\">\n",
       "  <thead>\n",
       "    <tr style=\"text-align: right;\">\n",
       "      <th></th>\n",
       "      <th>Positive Values</th>\n",
       "      <th>Positive Words</th>\n",
       "      <th>Negative Values</th>\n",
       "      <th>Negative Words</th>\n",
       "    </tr>\n",
       "  </thead>\n",
       "  <tbody>\n",
       "    <tr>\n",
       "      <th>0</th>\n",
       "      <td>58.002091</td>\n",
       "      <td>heavili process</td>\n",
       "      <td>-156.580995</td>\n",
       "      <td>two star</td>\n",
       "    </tr>\n",
       "    <tr>\n",
       "      <th>1</th>\n",
       "      <td>58.311737</td>\n",
       "      <td>illi brand</td>\n",
       "      <td>-88.630432</td>\n",
       "      <td>complet disappoint</td>\n",
       "    </tr>\n",
       "    <tr>\n",
       "      <th>2</th>\n",
       "      <td>58.923298</td>\n",
       "      <td>skeptic</td>\n",
       "      <td>-87.977915</td>\n",
       "      <td>theyr theyr</td>\n",
       "    </tr>\n",
       "    <tr>\n",
       "      <th>3</th>\n",
       "      <td>59.380951</td>\n",
       "      <td>excel</td>\n",
       "      <td>-82.035341</td>\n",
       "      <td>worst</td>\n",
       "    </tr>\n",
       "    <tr>\n",
       "      <th>4</th>\n",
       "      <td>59.683445</td>\n",
       "      <td>mmmmm</td>\n",
       "      <td>-81.511947</td>\n",
       "      <td>fell short</td>\n",
       "    </tr>\n",
       "    <tr>\n",
       "      <th>5</th>\n",
       "      <td>60.328891</td>\n",
       "      <td>downsid</td>\n",
       "      <td>-80.845679</td>\n",
       "      <td>keep stapl</td>\n",
       "    </tr>\n",
       "    <tr>\n",
       "      <th>6</th>\n",
       "      <td>60.899453</td>\n",
       "      <td>love</td>\n",
       "      <td>-80.703994</td>\n",
       "      <td>well person</td>\n",
       "    </tr>\n",
       "    <tr>\n",
       "      <th>7</th>\n",
       "      <td>61.448377</td>\n",
       "      <td>amaz</td>\n",
       "      <td>-80.548032</td>\n",
       "      <td>rise problem</td>\n",
       "    </tr>\n",
       "    <tr>\n",
       "      <th>8</th>\n",
       "      <td>63.138501</td>\n",
       "      <td>box upon</td>\n",
       "      <td>-78.222875</td>\n",
       "      <td>disastr</td>\n",
       "    </tr>\n",
       "    <tr>\n",
       "      <th>9</th>\n",
       "      <td>63.227436</td>\n",
       "      <td>perfect</td>\n",
       "      <td>-78.171739</td>\n",
       "      <td>ruse</td>\n",
       "    </tr>\n",
       "    <tr>\n",
       "      <th>10</th>\n",
       "      <td>63.817869</td>\n",
       "      <td>cant wrong</td>\n",
       "      <td>-77.069667</td>\n",
       "      <td>good pamela</td>\n",
       "    </tr>\n",
       "    <tr>\n",
       "      <th>11</th>\n",
       "      <td>63.835628</td>\n",
       "      <td>quiet</td>\n",
       "      <td>-76.176716</td>\n",
       "      <td>culinari experi</td>\n",
       "    </tr>\n",
       "    <tr>\n",
       "      <th>12</th>\n",
       "      <td>63.982216</td>\n",
       "      <td>month unfortun</td>\n",
       "      <td>-72.496287</td>\n",
       "      <td>want ship</td>\n",
       "    </tr>\n",
       "    <tr>\n",
       "      <th>13</th>\n",
       "      <td>64.880468</td>\n",
       "      <td>nestl stop</td>\n",
       "      <td>-71.931560</td>\n",
       "      <td>pod definit</td>\n",
       "    </tr>\n",
       "    <tr>\n",
       "      <th>14</th>\n",
       "      <td>66.000786</td>\n",
       "      <td>wont disappoint</td>\n",
       "      <td>-70.760560</td>\n",
       "      <td>mediocr best</td>\n",
       "    </tr>\n",
       "    <tr>\n",
       "      <th>15</th>\n",
       "      <td>67.072058</td>\n",
       "      <td>great</td>\n",
       "      <td>-69.015891</td>\n",
       "      <td>tea yes</td>\n",
       "    </tr>\n",
       "    <tr>\n",
       "      <th>16</th>\n",
       "      <td>67.468494</td>\n",
       "      <td>site like</td>\n",
       "      <td>-68.832429</td>\n",
       "      <td>nice real</td>\n",
       "    </tr>\n",
       "    <tr>\n",
       "      <th>17</th>\n",
       "      <td>68.419417</td>\n",
       "      <td>appar better</td>\n",
       "      <td>-68.727553</td>\n",
       "      <td>corn ingredi</td>\n",
       "    </tr>\n",
       "    <tr>\n",
       "      <th>18</th>\n",
       "      <td>69.278004</td>\n",
       "      <td>best</td>\n",
       "      <td>-68.463163</td>\n",
       "      <td>live light</td>\n",
       "    </tr>\n",
       "    <tr>\n",
       "      <th>19</th>\n",
       "      <td>69.595996</td>\n",
       "      <td>refund refus</td>\n",
       "      <td>-67.658909</td>\n",
       "      <td>bland bland</td>\n",
       "    </tr>\n",
       "    <tr>\n",
       "      <th>20</th>\n",
       "      <td>70.417388</td>\n",
       "      <td>put fact</td>\n",
       "      <td>-67.346822</td>\n",
       "      <td>lack charact</td>\n",
       "    </tr>\n",
       "    <tr>\n",
       "      <th>21</th>\n",
       "      <td>71.035255</td>\n",
       "      <td>pleasant surpris</td>\n",
       "      <td>-66.797092</td>\n",
       "      <td>best luck</td>\n",
       "    </tr>\n",
       "    <tr>\n",
       "      <th>22</th>\n",
       "      <td>75.466672</td>\n",
       "      <td>like open</td>\n",
       "      <td>-65.825026</td>\n",
       "      <td>product jar</td>\n",
       "    </tr>\n",
       "    <tr>\n",
       "      <th>23</th>\n",
       "      <td>76.453846</td>\n",
       "      <td>four star</td>\n",
       "      <td>-65.646288</td>\n",
       "      <td>storag long</td>\n",
       "    </tr>\n",
       "    <tr>\n",
       "      <th>24</th>\n",
       "      <td>77.506082</td>\n",
       "      <td>high recommend</td>\n",
       "      <td>-65.048279</td>\n",
       "      <td>disappoint say</td>\n",
       "    </tr>\n",
       "  </tbody>\n",
       "</table>\n",
       "</div>"
      ],
      "text/plain": [
       "    Positive Values    Positive Words  Negative Values      Negative Words\n",
       "0         58.002091   heavili process      -156.580995            two star\n",
       "1         58.311737        illi brand       -88.630432  complet disappoint\n",
       "2         58.923298           skeptic       -87.977915         theyr theyr\n",
       "3         59.380951             excel       -82.035341               worst\n",
       "4         59.683445             mmmmm       -81.511947          fell short\n",
       "5         60.328891           downsid       -80.845679          keep stapl\n",
       "6         60.899453              love       -80.703994         well person\n",
       "7         61.448377              amaz       -80.548032        rise problem\n",
       "8         63.138501          box upon       -78.222875             disastr\n",
       "9         63.227436           perfect       -78.171739                ruse\n",
       "10        63.817869        cant wrong       -77.069667         good pamela\n",
       "11        63.835628             quiet       -76.176716     culinari experi\n",
       "12        63.982216    month unfortun       -72.496287           want ship\n",
       "13        64.880468        nestl stop       -71.931560         pod definit\n",
       "14        66.000786   wont disappoint       -70.760560        mediocr best\n",
       "15        67.072058             great       -69.015891             tea yes\n",
       "16        67.468494         site like       -68.832429           nice real\n",
       "17        68.419417      appar better       -68.727553        corn ingredi\n",
       "18        69.278004              best       -68.463163          live light\n",
       "19        69.595996      refund refus       -67.658909         bland bland\n",
       "20        70.417388          put fact       -67.346822        lack charact\n",
       "21        71.035255  pleasant surpris       -66.797092           best luck\n",
       "22        75.466672         like open       -65.825026         product jar\n",
       "23        76.453846         four star       -65.646288         storag long\n",
       "24        77.506082    high recommend       -65.048279      disappoint say"
      ]
     },
     "execution_count": 98,
     "metadata": {},
     "output_type": "execute_result"
    }
   ],
   "source": [
    "top_25_features(lr_optimal,tf_idf_vect)"
   ]
  },
  {
   "cell_type": "markdown",
   "metadata": {},
   "source": [
    "### Word2Vec LR"
   ]
  },
  {
   "cell_type": "markdown",
   "metadata": {},
   "source": [
    "### Best Hyperparameter C and Regularizer using GridSearchCV"
   ]
  },
  {
   "cell_type": "code",
   "execution_count": 247,
   "metadata": {},
   "outputs": [],
   "source": [
    "x_train, x_test, y_train, y_test = train_test_split(lr_data['Cleaned_Text'] ,lr_data['Score'], test_size=0.3, shuffle = False)"
   ]
  },
  {
   "cell_type": "code",
   "execution_count": 248,
   "metadata": {},
   "outputs": [],
   "source": [
    "list_of_train_sent = []\n",
    "for sent in x_train.values:\n",
    "    list_of_train_sent.append(sent.split())"
   ]
  },
  {
   "cell_type": "code",
   "execution_count": 249,
   "metadata": {},
   "outputs": [
    {
     "data": {
      "text/plain": [
       "105000"
      ]
     },
     "execution_count": 249,
     "metadata": {},
     "output_type": "execute_result"
    }
   ],
   "source": [
    "len(list_of_train_sent)"
   ]
  },
  {
   "cell_type": "code",
   "execution_count": 250,
   "metadata": {},
   "outputs": [],
   "source": [
    "w2v_model = Word2Vec(list_of_train_sent,min_count=5,workers=4,size=100)"
   ]
  },
  {
   "cell_type": "code",
   "execution_count": 251,
   "metadata": {},
   "outputs": [],
   "source": [
    "w2v_words = list(w2v_model.wv.vocab)"
   ]
  },
  {
   "cell_type": "code",
   "execution_count": 252,
   "metadata": {},
   "outputs": [],
   "source": [
    "sent_vectors = []; # the avg-w2v for each sentence/review is stored in this list\n",
    "for sent in list_of_train_sent: # for each review/sentence\n",
    "    sent_vec = np.zeros(100) # as word vectors are of zero length\n",
    "    cnt_words =0; # num of words with a valid vector in the sentence/review\n",
    "    for word in sent: # for each word in a review/sentence\n",
    "        if word in w2v_words:\n",
    "            vec = w2v_model.wv[word]\n",
    "            sent_vec += vec\n",
    "            #print(sent_vec)\n",
    "            cnt_words += 1\n",
    "            #print(cnt_words)\n",
    "    if cnt_words != 0:\n",
    "        sent_vec /= cnt_words\n",
    "    sent_vectors.append(sent_vec)"
   ]
  },
  {
   "cell_type": "code",
   "execution_count": 253,
   "metadata": {},
   "outputs": [],
   "source": [
    "sent_vectors_arr = np.asarray(sent_vectors)"
   ]
  },
  {
   "cell_type": "code",
   "execution_count": 254,
   "metadata": {},
   "outputs": [],
   "source": [
    "x_train = normalize(sent_vectors_arr)"
   ]
  },
  {
   "cell_type": "code",
   "execution_count": 255,
   "metadata": {},
   "outputs": [
    {
     "data": {
      "text/plain": [
       "45000"
      ]
     },
     "execution_count": 255,
     "metadata": {},
     "output_type": "execute_result"
    }
   ],
   "source": [
    "list_of_test_sent = []\n",
    "for sent in x_test.values:\n",
    "    list_of_test_sent.append(sent.split())\n",
    "\n",
    "len(list_of_test_sent)"
   ]
  },
  {
   "cell_type": "code",
   "execution_count": 256,
   "metadata": {},
   "outputs": [],
   "source": [
    "sent_vectors = []; # the avg-w2v for each sentence/review is stored in this list\n",
    "for sent in list_of_test_sent: # for each review/sentence\n",
    "    sent_vec = np.zeros(100) # as word vectors are of zero length\n",
    "    cnt_words =0; # num of words with a valid vector in the sentence/review\n",
    "    for word in sent: # for each word in a review/sentence\n",
    "        if word in w2v_words:\n",
    "            vec = w2v_model.wv[word]\n",
    "            sent_vec += vec\n",
    "            #print(sent_vec)\n",
    "            cnt_words += 1\n",
    "            #print(cnt_words)\n",
    "    if cnt_words != 0:\n",
    "        sent_vec /= cnt_words\n",
    "    sent_vectors.append(sent_vec)"
   ]
  },
  {
   "cell_type": "code",
   "execution_count": 257,
   "metadata": {},
   "outputs": [],
   "source": [
    "sent_vectors_arr = np.asarray(sent_vectors)\n",
    "x_test = normalize(sent_vectors_arr)"
   ]
  },
  {
   "cell_type": "code",
   "execution_count": 258,
   "metadata": {},
   "outputs": [
    {
     "name": "stdout",
     "output_type": "stream",
     "text": [
      "Fitting 5 folds for each of 28 candidates, totalling 140 fits\n"
     ]
    },
    {
     "name": "stderr",
     "output_type": "stream",
     "text": [
      "[Parallel(n_jobs=-1)]: Done  34 tasks      | elapsed:    7.6s\n",
      "[Parallel(n_jobs=-1)]: Done 140 out of 140 | elapsed:  2.2min finished\n"
     ]
    },
    {
     "data": {
      "text/plain": [
       "GridSearchCV(cv=TimeSeriesSplit(max_train_size=None, n_splits=5),\n",
       "       error_score='raise',\n",
       "       estimator=LogisticRegression(C=1.0, class_weight=None, dual=False, fit_intercept=True,\n",
       "          intercept_scaling=1, max_iter=100, multi_class='ovr', n_jobs=1,\n",
       "          penalty='l2', random_state=None, solver='liblinear', tol=0.0001,\n",
       "          verbose=0, warm_start=False),\n",
       "       fit_params=None, iid=True, n_jobs=-1,\n",
       "       param_grid={'C': [0.0005, 0.0001, 0.005, 0.001, 0.05, 0.01, 0.5, 0.1, 1, 10, 50, 100, 500, 1000], 'penalty': ['l1', 'l2']},\n",
       "       pre_dispatch='2*n_jobs', refit=True, return_train_score='warn',\n",
       "       scoring=None, verbose=1)"
      ]
     },
     "execution_count": 258,
     "metadata": {},
     "output_type": "execute_result"
    }
   ],
   "source": [
    "lr = LogisticRegression()\n",
    "time_split_cv = TimeSeriesSplit(n_splits = 5)\n",
    "C_list = [0.0005,0.0001,0.005,0.001,0.05,0.01,0.5,0.1,1,10,50,100,500,1000]\n",
    "param_grid = {'C':C_list,'penalty':['l1','l2']}\n",
    "grid_search = GridSearchCV(lr,param_grid,cv=time_split_cv,verbose=1,n_jobs=-1)\n",
    "grid_search.fit(x_train,y_train)"
   ]
  },
  {
   "cell_type": "code",
   "execution_count": 259,
   "metadata": {},
   "outputs": [],
   "source": [
    "save_data(grid_search,'w2v_grid_search_lr')"
   ]
  },
  {
   "cell_type": "code",
   "execution_count": 260,
   "metadata": {},
   "outputs": [],
   "source": [
    "a1 = load_data('w2v_grid_search_lr') "
   ]
  },
  {
   "cell_type": "code",
   "execution_count": 261,
   "metadata": {},
   "outputs": [
    {
     "data": {
      "image/png": "[encoded data removed]",
      "text/plain": [
       "<Figure size 432x288 with 1 Axes>"
      ]
     },
     "metadata": {},
     "output_type": "display_data"
    }
   ],
   "source": [
    "l1_vs_l2_accuracy_plot(a1)"
   ]
  },
  {
   "cell_type": "code",
   "execution_count": 262,
   "metadata": {},
   "outputs": [
    {
     "name": "stdout",
     "output_type": "stream",
     "text": [
      "Best Hyperparameter and Regularizer  {'C': 10, 'penalty': 'l2'}\n",
      "Best Accuracy 91.091429%\n"
     ]
    }
   ],
   "source": [
    "print('Best Hyperparameter and Regularizer ',a1.best_params_)\n",
    "print('Best Accuracy %f% %'%(a1.best_score_*100))"
   ]
  },
  {
   "cell_type": "code",
   "execution_count": 263,
   "metadata": {},
   "outputs": [],
   "source": [
    "lr_optimal = LogisticRegression(C = a1.best_params_.get('C'),penalty = a1.best_params_.get('penalty'))\n",
    "lr_optimal.fit(x_train, y_train)\n",
    "pred = lr_optimal.predict(x_test)\n",
    "acc = accuracy_score(y_test, pred) * 100"
   ]
  },
  {
   "cell_type": "code",
   "execution_count": 264,
   "metadata": {},
   "outputs": [
    {
     "data": {
      "text/html": [
       "<div>\n",
       "<style scoped>\n",
       "    .dataframe tbody tr th:only-of-type {\n",
       "        vertical-align: middle;\n",
       "    }\n",
       "\n",
       "    .dataframe tbody tr th {\n",
       "        vertical-align: top;\n",
       "    }\n",
       "\n",
       "    .dataframe thead th {\n",
       "        text-align: right;\n",
       "    }\n",
       "</style>\n",
       "<table border=\"1\" class=\"dataframe\">\n",
       "  <thead>\n",
       "    <tr style=\"text-align: right;\">\n",
       "      <th></th>\n",
       "      <th>Accuracy</th>\n",
       "      <th>Precision score</th>\n",
       "      <th>Recall score</th>\n",
       "      <th>F1 score</th>\n",
       "    </tr>\n",
       "  </thead>\n",
       "  <tbody>\n",
       "    <tr>\n",
       "      <th>0</th>\n",
       "      <td>89.171111</td>\n",
       "      <td>0.906864</td>\n",
       "      <td>0.969725</td>\n",
       "      <td>0.937242</td>\n",
       "    </tr>\n",
       "  </tbody>\n",
       "</table>\n",
       "</div>"
      ],
      "text/plain": [
       "    Accuracy  Precision score  Recall score  F1 score\n",
       "0  89.171111         0.906864      0.969725  0.937242"
      ]
     },
     "execution_count": 264,
     "metadata": {},
     "output_type": "execute_result"
    }
   ],
   "source": [
    "metric_scores(y_test,pred)"
   ]
  },
  {
   "cell_type": "code",
   "execution_count": 265,
   "metadata": {},
   "outputs": [
    {
     "name": "stdout",
     "output_type": "stream",
     "text": [
      "True Positive 36387\n",
      "True Negative 3740\n",
      "False Positive 3737\n",
      "False Negative 1136\n"
     ]
    },
    {
     "data": {
      "image/png": "[encoded data removed]",
      "text/plain": [
       "<Figure size 432x288 with 2 Axes>"
      ]
     },
     "metadata": {},
     "output_type": "display_data"
    }
   ],
   "source": [
    "confusion_matrix_plot(y_test,pred)"
   ]
  },
  {
   "cell_type": "markdown",
   "metadata": {},
   "source": [
    "### Sparsity Analysis"
   ]
  },
  {
   "cell_type": "code",
   "execution_count": 266,
   "metadata": {},
   "outputs": [
    {
     "name": "stdout",
     "output_type": "stream",
     "text": [
      "No. of zero elements for C = 0.005 is 81\n",
      "No. of zero elements for C = 0.010 is 72\n",
      "No. of zero elements for C = 0.500 is 5\n",
      "No. of zero elements for C = 0.100 is 19\n",
      "No. of zero elements for C = 1.000 is 3\n",
      "No. of zero elements for C = 10.000 is 1\n",
      "No. of zero elements for C = 50.000 is 0\n",
      "No. of zero elements for C = 100.000 is 0\n",
      "No. of zero elements for C = 500.000 is 0\n",
      "No. of zero elements for C = 1000.000 is 0\n",
      "Percentage increase in Sparsity is 100.00%\n"
     ]
    }
   ],
   "source": [
    "sparsity_analysis(x_train,y_train)"
   ]
  },
  {
   "cell_type": "markdown",
   "metadata": {},
   "source": [
    "### Perturbation Test"
   ]
  },
  {
   "cell_type": "code",
   "execution_count": 267,
   "metadata": {},
   "outputs": [
    {
     "name": "stdout",
     "output_type": "stream",
     "text": [
      "Accuracy before adding noise is  89.17111111111112\n",
      "Accuracy after adding noise is  89.13333333333333\n"
     ]
    }
   ],
   "source": [
    "no_of_features = multicollinearity_check(x_train,y_train,x_test,y_test,a1.best_params_.get('C'),a1.best_params_.get('penalty'))"
   ]
  },
  {
   "cell_type": "code",
   "execution_count": 268,
   "metadata": {},
   "outputs": [
    {
     "name": "stdout",
     "output_type": "stream",
     "text": [
      "The number of features with weight changes greater than 70 percent is 2\n",
      "Hence the features are Multicollinear\n"
     ]
    }
   ],
   "source": [
    "print('The number of features with weight changes greater than 70 percent is %d' %(no_of_features))\n",
    "print('Hence the features are Multicollinear')"
   ]
  },
  {
   "cell_type": "markdown",
   "metadata": {},
   "source": [
    "### Best Hyperparameter C and Regularizer using Randomized SearchCV"
   ]
  },
  {
   "cell_type": "code",
   "execution_count": 269,
   "metadata": {},
   "outputs": [
    {
     "name": "stdout",
     "output_type": "stream",
     "text": [
      "Fitting 5 folds for each of 10 candidates, totalling 50 fits\n"
     ]
    },
    {
     "name": "stderr",
     "output_type": "stream",
     "text": [
      "[Parallel(n_jobs=-1)]: Done  34 tasks      | elapsed:   23.0s\n",
      "[Parallel(n_jobs=-1)]: Done  50 out of  50 | elapsed:   35.4s finished\n"
     ]
    },
    {
     "data": {
      "text/plain": [
       "RandomizedSearchCV(cv=TimeSeriesSplit(max_train_size=None, n_splits=5),\n",
       "          error_score='raise',\n",
       "          estimator=LogisticRegression(C=1.0, class_weight=None, dual=False, fit_intercept=True,\n",
       "          intercept_scaling=1, max_iter=100, multi_class='ovr', n_jobs=1,\n",
       "          penalty='l2', random_state=None, solver='liblinear', tol=0.0001,\n",
       "          verbose=0, warm_start=False),\n",
       "          fit_params=None, iid=True, n_iter=10, n_jobs=-1,\n",
       "          param_distributions={'C': [0.0005, 0.0001, 0.005, 0.001, 0.05, 0.01, 0.5, 0.1, 1, 10, 50, 100, 500, 1000], 'penalty': ['l1', 'l2']},\n",
       "          pre_dispatch='2*n_jobs', random_state=None, refit=True,\n",
       "          return_train_score='warn', scoring=None, verbose=1)"
      ]
     },
     "execution_count": 269,
     "metadata": {},
     "output_type": "execute_result"
    }
   ],
   "source": [
    "lr = LogisticRegression()\n",
    "time_split_cv = TimeSeriesSplit(n_splits = 5)\n",
    "C_list = [0.0005,0.0001,0.005,0.001,0.05,0.01,0.5,0.1,1,10,50,100,500,1000]\n",
    "param_grid = {'C':C_list,'penalty':['l1','l2']}\n",
    "grid_search_rscv = RandomizedSearchCV(lr,param_grid,cv=time_split_cv,verbose=1,n_jobs=-1)\n",
    "grid_search_rscv.fit(x_train,y_train)"
   ]
  },
  {
   "cell_type": "code",
   "execution_count": 270,
   "metadata": {},
   "outputs": [],
   "source": [
    "save_data(grid_search_rscv,'w2v_grid_search_lr_rscv')"
   ]
  },
  {
   "cell_type": "code",
   "execution_count": 271,
   "metadata": {},
   "outputs": [],
   "source": [
    "a2 = load_data('w2v_grid_search_lr_rscv') "
   ]
  },
  {
   "cell_type": "code",
   "execution_count": 272,
   "metadata": {},
   "outputs": [
    {
     "data": {
      "image/png": "[encoded data removed]",
      "text/plain": [
       "<Figure size 432x288 with 1 Axes>"
      ]
     },
     "metadata": {},
     "output_type": "display_data"
    }
   ],
   "source": [
    "l1_vs_l2_accuracy_plot(a2)"
   ]
  },
  {
   "cell_type": "code",
   "execution_count": 273,
   "metadata": {},
   "outputs": [
    {
     "name": "stdout",
     "output_type": "stream",
     "text": [
      "Best Hyperparameter and Regularizer  {'penalty': 'l1', 'C': 1}\n",
      "Best Accuracy 90.962286%\n"
     ]
    }
   ],
   "source": [
    "print('Best Hyperparameter and Regularizer ',a2.best_params_)\n",
    "print('Best Accuracy %f% %'%(a2.best_score_*100))"
   ]
  },
  {
   "cell_type": "code",
   "execution_count": 274,
   "metadata": {},
   "outputs": [],
   "source": [
    "lr_optimal = LogisticRegression(C = a2.best_params_.get('C'),penalty = a2.best_params_.get('penalty'))\n",
    "lr_optimal.fit(x_train, y_train)\n",
    "pred = lr_optimal.predict(x_test)\n",
    "acc = accuracy_score(y_test, pred) * 100"
   ]
  },
  {
   "cell_type": "code",
   "execution_count": 275,
   "metadata": {},
   "outputs": [
    {
     "data": {
      "text/html": [
       "<div>\n",
       "<style scoped>\n",
       "    .dataframe tbody tr th:only-of-type {\n",
       "        vertical-align: middle;\n",
       "    }\n",
       "\n",
       "    .dataframe tbody tr th {\n",
       "        vertical-align: top;\n",
       "    }\n",
       "\n",
       "    .dataframe thead th {\n",
       "        text-align: right;\n",
       "    }\n",
       "</style>\n",
       "<table border=\"1\" class=\"dataframe\">\n",
       "  <thead>\n",
       "    <tr style=\"text-align: right;\">\n",
       "      <th></th>\n",
       "      <th>Accuracy</th>\n",
       "      <th>Precision score</th>\n",
       "      <th>Recall score</th>\n",
       "      <th>F1 score</th>\n",
       "    </tr>\n",
       "  </thead>\n",
       "  <tbody>\n",
       "    <tr>\n",
       "      <th>0</th>\n",
       "      <td>89.128889</td>\n",
       "      <td>0.905646</td>\n",
       "      <td>0.970765</td>\n",
       "      <td>0.937076</td>\n",
       "    </tr>\n",
       "  </tbody>\n",
       "</table>\n",
       "</div>"
      ],
      "text/plain": [
       "    Accuracy  Precision score  Recall score  F1 score\n",
       "0  89.128889         0.905646      0.970765  0.937076"
      ]
     },
     "execution_count": 275,
     "metadata": {},
     "output_type": "execute_result"
    }
   ],
   "source": [
    "metric_scores(y_test,pred)"
   ]
  },
  {
   "cell_type": "code",
   "execution_count": 276,
   "metadata": {},
   "outputs": [
    {
     "name": "stdout",
     "output_type": "stream",
     "text": [
      "True Positive 36426\n",
      "True Negative 3682\n",
      "False Positive 3795\n",
      "False Negative 1097\n"
     ]
    },
    {
     "data": {
      "image/png": "[encoded data removed]",
      "text/plain": [
       "<Figure size 432x288 with 2 Axes>"
      ]
     },
     "metadata": {},
     "output_type": "display_data"
    }
   ],
   "source": [
    "confusion_matrix_plot(y_test,pred)"
   ]
  },
  {
   "cell_type": "markdown",
   "metadata": {},
   "source": [
    "### Tf-Idf Word2Vec LR"
   ]
  },
  {
   "cell_type": "code",
   "execution_count": 277,
   "metadata": {},
   "outputs": [
    {
     "data": {
      "text/plain": [
       "463606    caramel best tast like one sugar especi like e...\n",
       "414696    husband love salt also love product product li...\n",
       "360045    best gluten free granola great flavor tast lik...\n",
       "389146    ive done lot research one best natur dog food ...\n",
       "300971    seawe msg free seawe great product one nice sp...\n",
       "Name: Cleaned_Text, dtype: object"
      ]
     },
     "execution_count": 277,
     "metadata": {},
     "output_type": "execute_result"
    }
   ],
   "source": [
    "x_train, x_test, y_train, y_test = train_test_split(lr_data['Cleaned_Text'].head(20000) ,lr_data['Score'].head(20000), test_size=0.3, random_state=0)\n",
    "x_test.head()"
   ]
  },
  {
   "cell_type": "code",
   "execution_count": 278,
   "metadata": {},
   "outputs": [],
   "source": [
    "tf_idf_vect = TfidfVectorizer(ngram_range=(1,2))\n",
    "x_train = tf_idf_vect.fit_transform(x_train)"
   ]
  },
  {
   "cell_type": "code",
   "execution_count": 279,
   "metadata": {},
   "outputs": [],
   "source": [
    "tfidf_feat= tf_idf_vect.get_feature_names()\n",
    "tfidf_sent_vectors = []\n",
    "row=0;\n",
    "for sent in list_of_train_sent: # for each review/sentence \n",
    "    sent_vec = np.zeros(100) # as word vectors are of zero length\n",
    "    weight_sum =0; # num of words with a valid vector in the sentence/review\n",
    "    for word in sent: # for each word in a review/sentence\n",
    "        if ((word in w2v_words) and (word in tfidf_feat)):\n",
    "            vec = w2v_model.wv[word]\n",
    "            # obtain the tf_idfidf of a word in a sentence/review\n",
    "            tf_idf = x_train[row, tfidf_feat.index(word)]\n",
    "            sent_vec += (vec * tf_idf)\n",
    "            weight_sum += tf_idf\n",
    "    if weight_sum != 0:\n",
    "        sent_vec /= weight_sum\n",
    "        tfidf_sent_vectors.append(sent_vec)\n",
    "    row += 1\n",
    "    if row == (x_train.shape[0]):\n",
    "        break"
   ]
  },
  {
   "cell_type": "code",
   "execution_count": 280,
   "metadata": {},
   "outputs": [],
   "source": [
    "tfidf_sent_vectors_arr = np.asarray(tfidf_sent_vectors)\n",
    "x_train = normalize(tfidf_sent_vectors_arr)\n",
    "x_test = tf_idf_vect.transform(x_test)"
   ]
  },
  {
   "cell_type": "code",
   "execution_count": 281,
   "metadata": {},
   "outputs": [],
   "source": [
    "save_data(x_train,'tfidf_w2v_train_set')"
   ]
  },
  {
   "cell_type": "code",
   "execution_count": 284,
   "metadata": {},
   "outputs": [],
   "source": [
    "tfidf_feat= tf_idf_vect.get_feature_names()\n",
    "tfidf_sent_vectors = []\n",
    "row=0;\n",
    "for sent in list_of_test_sent: # for each review/sentence \n",
    "    sent_vec = np.zeros(100) # as word vectors are of zero length\n",
    "    weight_sum =0; # num of words with a valid vector in the sentence/review\n",
    "    for word in sent: # for each word in a review/sentence\n",
    "        if ((word in w2v_words) and (word in tfidf_feat)):\n",
    "            vec = w2v_model.wv[word]\n",
    "            # obtain the tf_idfidf of a word in a sentence/review\n",
    "            tf_idf = x_test[row, tfidf_feat.index(word)]\n",
    "            sent_vec += (vec * tf_idf)\n",
    "            weight_sum += tf_idf\n",
    "    if weight_sum != 0:\n",
    "        sent_vec /= weight_sum\n",
    "        tfidf_sent_vectors.append(sent_vec)\n",
    "    row += 1\n",
    "    if row == (x_test.shape[0]):\n",
    "        break"
   ]
  },
  {
   "cell_type": "code",
   "execution_count": 285,
   "metadata": {},
   "outputs": [],
   "source": [
    "tfidf_sent_vectors_arr = np.asarray(tfidf_sent_vectors)\n",
    "x_test = normalize(tfidf_sent_vectors_arr)"
   ]
  },
  {
   "cell_type": "code",
   "execution_count": 286,
   "metadata": {},
   "outputs": [],
   "source": [
    "save_data(x_test,'tfidf_w2v_test_set')"
   ]
  },
  {
   "cell_type": "code",
   "execution_count": 297,
   "metadata": {},
   "outputs": [],
   "source": [
    "y_train = y_train.head(x_train.shape[0])\n",
    "y_test = y_test.head(x_test.shape[0])"
   ]
  },
  {
   "cell_type": "code",
   "execution_count": 298,
   "metadata": {},
   "outputs": [
    {
     "name": "stdout",
     "output_type": "stream",
     "text": [
      "Fitting 5 folds for each of 28 candidates, totalling 140 fits\n"
     ]
    },
    {
     "name": "stderr",
     "output_type": "stream",
     "text": [
      "[Parallel(n_jobs=-1)]: Done  34 tasks      | elapsed:    1.2s\n",
      "[Parallel(n_jobs=-1)]: Done 140 out of 140 | elapsed:    5.9s finished\n"
     ]
    },
    {
     "data": {
      "text/plain": [
       "GridSearchCV(cv=TimeSeriesSplit(max_train_size=None, n_splits=5),\n",
       "       error_score='raise',\n",
       "       estimator=LogisticRegression(C=1.0, class_weight=None, dual=False, fit_intercept=True,\n",
       "          intercept_scaling=1, max_iter=100, multi_class='ovr', n_jobs=1,\n",
       "          penalty='l2', random_state=None, solver='liblinear', tol=0.0001,\n",
       "          verbose=0, warm_start=False),\n",
       "       fit_params=None, iid=True, n_jobs=-1,\n",
       "       param_grid={'C': [0.0005, 0.0001, 0.005, 0.001, 0.05, 0.01, 0.5, 0.1, 1, 10, 50, 100, 500, 1000], 'penalty': ['l1', 'l2']},\n",
       "       pre_dispatch='2*n_jobs', refit=True, return_train_score='warn',\n",
       "       scoring=None, verbose=1)"
      ]
     },
     "execution_count": 298,
     "metadata": {},
     "output_type": "execute_result"
    }
   ],
   "source": [
    "lr = LogisticRegression()\n",
    "time_split_cv = TimeSeriesSplit(n_splits = 5)\n",
    "C_list = [0.0005,0.0001,0.005,0.001,0.05,0.01,0.5,0.1,1,10,50,100,500,1000]\n",
    "param_grid = {'C':C_list,'penalty':['l1','l2']}\n",
    "grid_search = GridSearchCV(lr,param_grid,cv=time_split_cv,verbose=1,n_jobs=-1)\n",
    "grid_search.fit(x_train,y_train)"
   ]
  },
  {
   "cell_type": "code",
   "execution_count": 299,
   "metadata": {},
   "outputs": [],
   "source": [
    "save_data(grid_search,'tfidf_w2v_grid_search_lr')"
   ]
  },
  {
   "cell_type": "code",
   "execution_count": 300,
   "metadata": {},
   "outputs": [],
   "source": [
    "a1 = load_data('tfidf_w2v_grid_search_lr') "
   ]
  },
  {
   "cell_type": "code",
   "execution_count": 301,
   "metadata": {},
   "outputs": [
    {
     "data": {
      "image/png": "[encoded data removed]",
      "text/plain": [
       "<Figure size 432x288 with 1 Axes>"
      ]
     },
     "metadata": {},
     "output_type": "display_data"
    }
   ],
   "source": [
    "l1_vs_l2_accuracy_plot(a1)"
   ]
  },
  {
   "cell_type": "code",
   "execution_count": 302,
   "metadata": {},
   "outputs": [
    {
     "name": "stdout",
     "output_type": "stream",
     "text": [
      "Best Hyperparameter and Regularizer  {'C': 0.0005, 'penalty': 'l2'}\n",
      "Best Accuracy 88.965517%\n"
     ]
    }
   ],
   "source": [
    "print('Best Hyperparameter and Regularizer ',a1.best_params_)\n",
    "print('Best Accuracy %f% %'%(a1.best_score_*100))"
   ]
  },
  {
   "cell_type": "code",
   "execution_count": 303,
   "metadata": {},
   "outputs": [],
   "source": [
    "lr_optimal = LogisticRegression(C = a1.best_params_.get('C'),penalty = a1.best_params_.get('penalty'))\n",
    "lr_optimal.fit(x_train, y_train)\n",
    "pred = lr_optimal.predict(x_test)\n",
    "acc = accuracy_score(y_test, pred) * 100"
   ]
  },
  {
   "cell_type": "code",
   "execution_count": 304,
   "metadata": {},
   "outputs": [
    {
     "data": {
      "text/html": [
       "<div>\n",
       "<style scoped>\n",
       "    .dataframe tbody tr th:only-of-type {\n",
       "        vertical-align: middle;\n",
       "    }\n",
       "\n",
       "    .dataframe tbody tr th {\n",
       "        vertical-align: top;\n",
       "    }\n",
       "\n",
       "    .dataframe thead th {\n",
       "        text-align: right;\n",
       "    }\n",
       "</style>\n",
       "<table border=\"1\" class=\"dataframe\">\n",
       "  <thead>\n",
       "    <tr style=\"text-align: right;\">\n",
       "      <th></th>\n",
       "      <th>Accuracy</th>\n",
       "      <th>Precision score</th>\n",
       "      <th>Recall score</th>\n",
       "      <th>F1 score</th>\n",
       "    </tr>\n",
       "  </thead>\n",
       "  <tbody>\n",
       "    <tr>\n",
       "      <th>0</th>\n",
       "      <td>89.505722</td>\n",
       "      <td>0.895057</td>\n",
       "      <td>1.0</td>\n",
       "      <td>0.944623</td>\n",
       "    </tr>\n",
       "  </tbody>\n",
       "</table>\n",
       "</div>"
      ],
      "text/plain": [
       "    Accuracy  Precision score  Recall score  F1 score\n",
       "0  89.505722         0.895057           1.0  0.944623"
      ]
     },
     "execution_count": 304,
     "metadata": {},
     "output_type": "execute_result"
    }
   ],
   "source": [
    "metric_scores(y_test,pred)"
   ]
  },
  {
   "cell_type": "code",
   "execution_count": 305,
   "metadata": {},
   "outputs": [
    {
     "name": "stdout",
     "output_type": "stream",
     "text": [
      "True Positive 3676\n",
      "True Negative 0\n",
      "False Positive 431\n",
      "False Negative 0\n"
     ]
    },
    {
     "data": {
      "image/png": "[encoded data removed]",
      "text/plain": [
       "<Figure size 432x288 with 2 Axes>"
      ]
     },
     "metadata": {},
     "output_type": "display_data"
    }
   ],
   "source": [
    "confusion_matrix_plot(y_test,pred)"
   ]
  },
  {
   "cell_type": "markdown",
   "metadata": {},
   "source": [
    "### Sparsity Analysis"
   ]
  },
  {
   "cell_type": "code",
   "execution_count": 306,
   "metadata": {},
   "outputs": [
    {
     "name": "stdout",
     "output_type": "stream",
     "text": [
      "No. of zero elements for C = 0.005 is 100\n",
      "No. of zero elements for C = 0.010 is 100\n",
      "No. of zero elements for C = 0.500 is 74\n",
      "No. of zero elements for C = 0.100 is 100\n",
      "No. of zero elements for C = 1.000 is 45\n",
      "No. of zero elements for C = 10.000 is 9\n",
      "No. of zero elements for C = 50.000 is 3\n",
      "No. of zero elements for C = 100.000 is 1\n",
      "No. of zero elements for C = 500.000 is 0\n",
      "No. of zero elements for C = 1000.000 is 0\n",
      "Percentage increase in Sparsity is 100.00%\n"
     ]
    }
   ],
   "source": [
    "sparsity_analysis(x_train,y_train)"
   ]
  },
  {
   "cell_type": "markdown",
   "metadata": {},
   "source": [
    "### Perturbation Test"
   ]
  },
  {
   "cell_type": "code",
   "execution_count": 307,
   "metadata": {},
   "outputs": [
    {
     "name": "stdout",
     "output_type": "stream",
     "text": [
      "Accuracy before adding noise is  89.50572193815437\n",
      "Accuracy after adding noise is  89.50572193815437\n"
     ]
    }
   ],
   "source": [
    "no_of_features = multicollinearity_check(x_train,y_train,x_test,y_test,a1.best_params_.get('C'),a1.best_params_.get('penalty'))"
   ]
  },
  {
   "cell_type": "code",
   "execution_count": 309,
   "metadata": {},
   "outputs": [
    {
     "name": "stdout",
     "output_type": "stream",
     "text": [
      "The number of features with weight changes greater than 70 percent is 0\n",
      "Hence the features are not Multicollinear\n"
     ]
    }
   ],
   "source": [
    "print('The number of features with weight changes greater than 70 percent is %d' %(no_of_features))\n",
    "print('Hence the features are not Multicollinear')"
   ]
  },
  {
   "cell_type": "markdown",
   "metadata": {},
   "source": [
    "### Best Hyperparameter C and Regularizer using Randomized SearchCV"
   ]
  },
  {
   "cell_type": "code",
   "execution_count": 321,
   "metadata": {},
   "outputs": [
    {
     "name": "stdout",
     "output_type": "stream",
     "text": [
      "Fitting 5 folds for each of 10 candidates, totalling 50 fits\n"
     ]
    },
    {
     "name": "stderr",
     "output_type": "stream",
     "text": [
      "[Parallel(n_jobs=-1)]: Done  35 out of  50 | elapsed:    1.2s remaining:    0.5s\n",
      "[Parallel(n_jobs=-1)]: Done  50 out of  50 | elapsed:    2.0s finished\n"
     ]
    },
    {
     "data": {
      "text/plain": [
       "RandomizedSearchCV(cv=TimeSeriesSplit(max_train_size=None, n_splits=5),\n",
       "          error_score='raise',\n",
       "          estimator=LogisticRegression(C=1.0, class_weight=None, dual=False, fit_intercept=True,\n",
       "          intercept_scaling=1, max_iter=100, multi_class='ovr', n_jobs=1,\n",
       "          penalty='l2', random_state=None, solver='liblinear', tol=0.0001,\n",
       "          verbose=0, warm_start=False),\n",
       "          fit_params=None, iid=True, n_iter=10, n_jobs=-1,\n",
       "          param_distributions={'C': [0.0005, 0.0001, 0.005, 0.001, 0.05, 0.01, 0.5, 0.1, 1, 10, 50, 100, 500, 1000], 'penalty': ['l1', 'l2']},\n",
       "          pre_dispatch='2*n_jobs', random_state=None, refit=True,\n",
       "          return_train_score='warn', scoring=None, verbose=1)"
      ]
     },
     "execution_count": 321,
     "metadata": {},
     "output_type": "execute_result"
    }
   ],
   "source": [
    "lr = LogisticRegression()\n",
    "time_split_cv = TimeSeriesSplit(n_splits = 5)\n",
    "C_list = [0.0005,0.0001,0.005,0.001,0.05,0.01,0.5,0.1,1,10,50,100,500,1000]\n",
    "param_grid = {'C':C_list,'penalty':['l1','l2']}\n",
    "grid_search_rscv = RandomizedSearchCV(lr,param_grid,cv=time_split_cv,verbose=1,n_jobs=-1)\n",
    "grid_search_rscv.fit(x_train,y_train)"
   ]
  },
  {
   "cell_type": "code",
   "execution_count": 322,
   "metadata": {},
   "outputs": [],
   "source": [
    "save_data(grid_search_rscv,'tfidf_w2v_grid_search_lr_rscv')"
   ]
  },
  {
   "cell_type": "code",
   "execution_count": 323,
   "metadata": {},
   "outputs": [],
   "source": [
    "a2 = load_data('tfidf_w2v_grid_search_lr_rscv') "
   ]
  },
  {
   "cell_type": "code",
   "execution_count": 324,
   "metadata": {},
   "outputs": [
    {
     "data": {
      "image/png": "[encoded data removed]",
      "text/plain": [
       "<Figure size 432x288 with 1 Axes>"
      ]
     },
     "metadata": {},
     "output_type": "display_data"
    }
   ],
   "source": [
    "l1_vs_l2_accuracy_plot(a2)"
   ]
  },
  {
   "cell_type": "code",
   "execution_count": 325,
   "metadata": {},
   "outputs": [
    {
     "name": "stdout",
     "output_type": "stream",
     "text": [
      "Best Hyperparameter and Regularizer  {'penalty': 'l1', 'C': 0.005}\n",
      "Best Accuracy 88.965517%\n"
     ]
    }
   ],
   "source": [
    "print('Best Hyperparameter and Regularizer ',a2.best_params_)\n",
    "print('Best Accuracy %f% %'%(a2.best_score_*100))"
   ]
  },
  {
   "cell_type": "code",
   "execution_count": 326,
   "metadata": {},
   "outputs": [],
   "source": [
    "lr_optimal = LogisticRegression(C = a2.best_params_.get('C'),penalty = a2.best_params_.get('penalty'))\n",
    "lr_optimal.fit(x_train, y_train)\n",
    "pred = lr_optimal.predict(x_test)\n",
    "acc = accuracy_score(y_test, pred) * 100"
   ]
  },
  {
   "cell_type": "code",
   "execution_count": 327,
   "metadata": {},
   "outputs": [
    {
     "data": {
      "text/html": [
       "<div>\n",
       "<style scoped>\n",
       "    .dataframe tbody tr th:only-of-type {\n",
       "        vertical-align: middle;\n",
       "    }\n",
       "\n",
       "    .dataframe tbody tr th {\n",
       "        vertical-align: top;\n",
       "    }\n",
       "\n",
       "    .dataframe thead th {\n",
       "        text-align: right;\n",
       "    }\n",
       "</style>\n",
       "<table border=\"1\" class=\"dataframe\">\n",
       "  <thead>\n",
       "    <tr style=\"text-align: right;\">\n",
       "      <th></th>\n",
       "      <th>Accuracy</th>\n",
       "      <th>Precision score</th>\n",
       "      <th>Recall score</th>\n",
       "      <th>F1 score</th>\n",
       "    </tr>\n",
       "  </thead>\n",
       "  <tbody>\n",
       "    <tr>\n",
       "      <th>0</th>\n",
       "      <td>89.505722</td>\n",
       "      <td>0.895057</td>\n",
       "      <td>1.0</td>\n",
       "      <td>0.944623</td>\n",
       "    </tr>\n",
       "  </tbody>\n",
       "</table>\n",
       "</div>"
      ],
      "text/plain": [
       "    Accuracy  Precision score  Recall score  F1 score\n",
       "0  89.505722         0.895057           1.0  0.944623"
      ]
     },
     "execution_count": 327,
     "metadata": {},
     "output_type": "execute_result"
    }
   ],
   "source": [
    "metric_scores(y_test,pred)"
   ]
  },
  {
   "cell_type": "code",
   "execution_count": 328,
   "metadata": {},
   "outputs": [
    {
     "name": "stdout",
     "output_type": "stream",
     "text": [
      "True Positive 3676\n",
      "True Negative 0\n",
      "False Positive 431\n",
      "False Negative 0\n"
     ]
    },
    {
     "data": {
      "image/png": "[encoded data removed]",
      "text/plain": [
       "<Figure size 432x288 with 2 Axes>"
      ]
     },
     "metadata": {},
     "output_type": "display_data"
    }
   ],
   "source": [
    "confusion_matrix_plot(y_test,pred)"
   ]
  },
  {
   "cell_type": "markdown",
   "metadata": {},
   "source": [
    "### Summary"
   ]
  },
  {
   "cell_type": "code",
   "execution_count": 329,
   "metadata": {},
   "outputs": [
    {
     "name": "stdout",
     "output_type": "stream",
     "text": [
      "+--------------+-------------------+--------+--------------+-------------------+\n",
      "|    Model     |     CV - Type     | Best C | Best Penalty |   Best Accuracy   |\n",
      "+--------------+-------------------+--------+--------------+-------------------+\n",
      "|     BOW      |    Grid Search    |   10   |      l2      | 92.26514285714286 |\n",
      "|     BOW      | Randomized Search |   50   |      l2      | 91.91314285714286 |\n",
      "|   Trigram    |    Grid Search    |  1000  |      l2      | 92.85371428571429 |\n",
      "|   Trigram    | Randomized Search |  500   |      l2      | 92.82285714285715 |\n",
      "|    Tf-Idf    |    Grid Search    |  1000  |      l2      | 92.80457142857142 |\n",
      "|    Tf-Idf    | Randomized Search |  1000  |      l1      | 92.40914285714285 |\n",
      "|     W2V      |    Grid Search    |   10   |      l2      | 91.09142857142857 |\n",
      "|     W2V      | Randomized Search |   1    |      l1      | 90.96228571428571 |\n",
      "| Tf-Idf - W2v |    Grid Search    | 0.0005 |      l2      | 88.96551724137932 |\n",
      "| Tf-Idf - W2v | Randomized Search | 0.005  |      l1      | 88.96551724137932 |\n",
      "+--------------+-------------------+--------+--------------+-------------------+\n"
     ]
    }
   ],
   "source": [
    "summary_of_scores()"
   ]
  }
 ],
 "metadata": {
  "kernelspec": {
   "display_name": "Python 3",
   "language": "python",
   "name": "python3"
  },
  "language_info": {
   "codemirror_mode": {
    "name": "ipython",
    "version": 3
   },
   "file_extension": ".py",
   "mimetype": "text/x-python",
   "name": "python",
   "nbconvert_exporter": "python",
   "pygments_lexer": "ipython3",
   "version": "3.6.5"
  }
 },
 "nbformat": 4,
 "nbformat_minor": 2
}
