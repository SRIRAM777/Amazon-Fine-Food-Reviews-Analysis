{
 "cells": [
  {
   "cell_type": "markdown",
   "metadata": {},
   "source": [
    "## Amazon Food Review - Naive Bayes"
   ]
  },
  {
   "cell_type": "code",
   "execution_count": 198,
   "metadata": {},
   "outputs": [],
   "source": [
    "import numpy as np\n",
    "import pandas as pd\n",
    "import seaborn as sns\n",
    "import matplotlib.pyplot as plt\n",
    "import sqlite3\n",
    "import nltk\n",
    "import string\n",
    "from sklearn.feature_extraction.text import TfidfTransformer\n",
    "from sklearn.feature_extraction.text import TfidfVectorizer\n",
    "\n",
    "from sklearn.feature_extraction.text import CountVectorizer\n",
    "from sklearn import metrics\n",
    "from sklearn.metrics import confusion_matrix\n",
    "from sklearn.metrics import roc_curve,auc\n",
    "from nltk.stem.porter import PorterStemmer\n",
    "\n",
    "import re\n",
    "import string\n",
    "from nltk.corpus import stopwords\n",
    "from nltk.stem import PorterStemmer\n",
    "from nltk.stem.wordnet import WordNetLemmatizer\n",
    "\n",
    "from gensim.models import Word2Vec\n",
    "from gensim.models import KeyedVectors\n",
    "import pickle\n",
    "\n",
    "from sklearn.model_selection import train_test_split\n",
    "from sklearn.metrics import accuracy_score\n",
    "from prettytable import PrettyTable\n",
    "from collections import Counter\n",
    "from sklearn.metrics import precision_score\n",
    "from sklearn.metrics import recall_score\n",
    "from sklearn.metrics import f1_score\n",
    "from sklearn.preprocessing import normalize\n",
    "import warnings\n",
    "warnings.filterwarnings(\"ignore\") "
   ]
  },
  {
   "cell_type": "code",
   "execution_count": 3,
   "metadata": {},
   "outputs": [
    {
     "data": {
      "text/html": [
       "<div>\n",
       "<style scoped>\n",
       "    .dataframe tbody tr th:only-of-type {\n",
       "        vertical-align: middle;\n",
       "    }\n",
       "\n",
       "    .dataframe tbody tr th {\n",
       "        vertical-align: top;\n",
       "    }\n",
       "\n",
       "    .dataframe thead th {\n",
       "        text-align: right;\n",
       "    }\n",
       "</style>\n",
       "<table border=\"1\" class=\"dataframe\">\n",
       "  <thead>\n",
       "    <tr style=\"text-align: right;\">\n",
       "      <th></th>\n",
       "      <th>Id</th>\n",
       "      <th>ProductId</th>\n",
       "      <th>UserId</th>\n",
       "      <th>ProfileName</th>\n",
       "      <th>HelpfulnessNumerator</th>\n",
       "      <th>HelpfulnessDenominator</th>\n",
       "      <th>Score</th>\n",
       "      <th>Time</th>\n",
       "      <th>Summary</th>\n",
       "      <th>Text</th>\n",
       "    </tr>\n",
       "  </thead>\n",
       "  <tbody>\n",
       "    <tr>\n",
       "      <th>0</th>\n",
       "      <td>1</td>\n",
       "      <td>B001E4KFG0</td>\n",
       "      <td>A3SGXH7AUHU8GW</td>\n",
       "      <td>delmartian</td>\n",
       "      <td>1</td>\n",
       "      <td>1</td>\n",
       "      <td>5</td>\n",
       "      <td>1303862400</td>\n",
       "      <td>Good Quality Dog Food</td>\n",
       "      <td>I have bought several of the Vitality canned d...</td>\n",
       "    </tr>\n",
       "    <tr>\n",
       "      <th>1</th>\n",
       "      <td>2</td>\n",
       "      <td>B00813GRG4</td>\n",
       "      <td>A1D87F6ZCVE5NK</td>\n",
       "      <td>dll pa</td>\n",
       "      <td>0</td>\n",
       "      <td>0</td>\n",
       "      <td>1</td>\n",
       "      <td>1346976000</td>\n",
       "      <td>Not as Advertised</td>\n",
       "      <td>Product arrived labeled as Jumbo Salted Peanut...</td>\n",
       "    </tr>\n",
       "    <tr>\n",
       "      <th>2</th>\n",
       "      <td>3</td>\n",
       "      <td>B000LQOCH0</td>\n",
       "      <td>ABXLMWJIXXAIN</td>\n",
       "      <td>Natalia Corres \"Natalia Corres\"</td>\n",
       "      <td>1</td>\n",
       "      <td>1</td>\n",
       "      <td>4</td>\n",
       "      <td>1219017600</td>\n",
       "      <td>\"Delight\" says it all</td>\n",
       "      <td>This is a confection that has been around a fe...</td>\n",
       "    </tr>\n",
       "    <tr>\n",
       "      <th>3</th>\n",
       "      <td>4</td>\n",
       "      <td>B000UA0QIQ</td>\n",
       "      <td>A395BORC6FGVXV</td>\n",
       "      <td>Karl</td>\n",
       "      <td>3</td>\n",
       "      <td>3</td>\n",
       "      <td>2</td>\n",
       "      <td>1307923200</td>\n",
       "      <td>Cough Medicine</td>\n",
       "      <td>If you are looking for the secret ingredient i...</td>\n",
       "    </tr>\n",
       "    <tr>\n",
       "      <th>4</th>\n",
       "      <td>5</td>\n",
       "      <td>B006K2ZZ7K</td>\n",
       "      <td>A1UQRSCLF8GW1T</td>\n",
       "      <td>Michael D. Bigham \"M. Wassir\"</td>\n",
       "      <td>0</td>\n",
       "      <td>0</td>\n",
       "      <td>5</td>\n",
       "      <td>1350777600</td>\n",
       "      <td>Great taffy</td>\n",
       "      <td>Great taffy at a great price.  There was a wid...</td>\n",
       "    </tr>\n",
       "  </tbody>\n",
       "</table>\n",
       "</div>"
      ],
      "text/plain": [
       "   Id   ProductId          UserId                      ProfileName  \\\n",
       "0   1  B001E4KFG0  A3SGXH7AUHU8GW                       delmartian   \n",
       "1   2  B00813GRG4  A1D87F6ZCVE5NK                           dll pa   \n",
       "2   3  B000LQOCH0   ABXLMWJIXXAIN  Natalia Corres \"Natalia Corres\"   \n",
       "3   4  B000UA0QIQ  A395BORC6FGVXV                             Karl   \n",
       "4   5  B006K2ZZ7K  A1UQRSCLF8GW1T    Michael D. Bigham \"M. Wassir\"   \n",
       "\n",
       "   HelpfulnessNumerator  HelpfulnessDenominator  Score        Time  \\\n",
       "0                     1                       1      5  1303862400   \n",
       "1                     0                       0      1  1346976000   \n",
       "2                     1                       1      4  1219017600   \n",
       "3                     3                       3      2  1307923200   \n",
       "4                     0                       0      5  1350777600   \n",
       "\n",
       "                 Summary                                               Text  \n",
       "0  Good Quality Dog Food  I have bought several of the Vitality canned d...  \n",
       "1      Not as Advertised  Product arrived labeled as Jumbo Salted Peanut...  \n",
       "2  \"Delight\" says it all  This is a confection that has been around a fe...  \n",
       "3         Cough Medicine  If you are looking for the secret ingredient i...  \n",
       "4            Great taffy  Great taffy at a great price.  There was a wid...  "
      ]
     },
     "execution_count": 3,
     "metadata": {},
     "output_type": "execute_result"
    }
   ],
   "source": [
    "df= pd.read_csv(\"../../../../Desktop/Prep/ML_Repo/amazon-fine-food-reviews/Reviews.csv\")\n",
    "df.head()"
   ]
  },
  {
   "cell_type": "code",
   "execution_count": 4,
   "metadata": {},
   "outputs": [
    {
     "name": "stdout",
     "output_type": "stream",
     "text": [
      "(568454, 10)\n"
     ]
    }
   ],
   "source": [
    "print(df.shape)"
   ]
  },
  {
   "cell_type": "code",
   "execution_count": 5,
   "metadata": {},
   "outputs": [
    {
     "data": {
      "text/html": [
       "<div>\n",
       "<style scoped>\n",
       "    .dataframe tbody tr th:only-of-type {\n",
       "        vertical-align: middle;\n",
       "    }\n",
       "\n",
       "    .dataframe tbody tr th {\n",
       "        vertical-align: top;\n",
       "    }\n",
       "\n",
       "    .dataframe thead th {\n",
       "        text-align: right;\n",
       "    }\n",
       "</style>\n",
       "<table border=\"1\" class=\"dataframe\">\n",
       "  <thead>\n",
       "    <tr style=\"text-align: right;\">\n",
       "      <th></th>\n",
       "      <th>Id</th>\n",
       "      <th>ProductId</th>\n",
       "      <th>UserId</th>\n",
       "      <th>ProfileName</th>\n",
       "      <th>HelpfulnessNumerator</th>\n",
       "      <th>HelpfulnessDenominator</th>\n",
       "      <th>Score</th>\n",
       "      <th>Time</th>\n",
       "      <th>Summary</th>\n",
       "      <th>Text</th>\n",
       "    </tr>\n",
       "  </thead>\n",
       "  <tbody>\n",
       "    <tr>\n",
       "      <th>0</th>\n",
       "      <td>1</td>\n",
       "      <td>B001E4KFG0</td>\n",
       "      <td>A3SGXH7AUHU8GW</td>\n",
       "      <td>delmartian</td>\n",
       "      <td>1</td>\n",
       "      <td>1</td>\n",
       "      <td>Positive</td>\n",
       "      <td>1303862400</td>\n",
       "      <td>Good Quality Dog Food</td>\n",
       "      <td>I have bought several of the Vitality canned d...</td>\n",
       "    </tr>\n",
       "    <tr>\n",
       "      <th>1</th>\n",
       "      <td>2</td>\n",
       "      <td>B00813GRG4</td>\n",
       "      <td>A1D87F6ZCVE5NK</td>\n",
       "      <td>dll pa</td>\n",
       "      <td>0</td>\n",
       "      <td>0</td>\n",
       "      <td>Negative</td>\n",
       "      <td>1346976000</td>\n",
       "      <td>Not as Advertised</td>\n",
       "      <td>Product arrived labeled as Jumbo Salted Peanut...</td>\n",
       "    </tr>\n",
       "    <tr>\n",
       "      <th>2</th>\n",
       "      <td>3</td>\n",
       "      <td>B000LQOCH0</td>\n",
       "      <td>ABXLMWJIXXAIN</td>\n",
       "      <td>Natalia Corres \"Natalia Corres\"</td>\n",
       "      <td>1</td>\n",
       "      <td>1</td>\n",
       "      <td>Positive</td>\n",
       "      <td>1219017600</td>\n",
       "      <td>\"Delight\" says it all</td>\n",
       "      <td>This is a confection that has been around a fe...</td>\n",
       "    </tr>\n",
       "    <tr>\n",
       "      <th>3</th>\n",
       "      <td>4</td>\n",
       "      <td>B000UA0QIQ</td>\n",
       "      <td>A395BORC6FGVXV</td>\n",
       "      <td>Karl</td>\n",
       "      <td>3</td>\n",
       "      <td>3</td>\n",
       "      <td>Negative</td>\n",
       "      <td>1307923200</td>\n",
       "      <td>Cough Medicine</td>\n",
       "      <td>If you are looking for the secret ingredient i...</td>\n",
       "    </tr>\n",
       "    <tr>\n",
       "      <th>4</th>\n",
       "      <td>5</td>\n",
       "      <td>B006K2ZZ7K</td>\n",
       "      <td>A1UQRSCLF8GW1T</td>\n",
       "      <td>Michael D. Bigham \"M. Wassir\"</td>\n",
       "      <td>0</td>\n",
       "      <td>0</td>\n",
       "      <td>Positive</td>\n",
       "      <td>1350777600</td>\n",
       "      <td>Great taffy</td>\n",
       "      <td>Great taffy at a great price.  There was a wid...</td>\n",
       "    </tr>\n",
       "  </tbody>\n",
       "</table>\n",
       "</div>"
      ],
      "text/plain": [
       "   Id   ProductId          UserId                      ProfileName  \\\n",
       "0   1  B001E4KFG0  A3SGXH7AUHU8GW                       delmartian   \n",
       "1   2  B00813GRG4  A1D87F6ZCVE5NK                           dll pa   \n",
       "2   3  B000LQOCH0   ABXLMWJIXXAIN  Natalia Corres \"Natalia Corres\"   \n",
       "3   4  B000UA0QIQ  A395BORC6FGVXV                             Karl   \n",
       "4   5  B006K2ZZ7K  A1UQRSCLF8GW1T    Michael D. Bigham \"M. Wassir\"   \n",
       "\n",
       "   HelpfulnessNumerator  HelpfulnessDenominator     Score        Time  \\\n",
       "0                     1                       1  Positive  1303862400   \n",
       "1                     0                       0  Negative  1346976000   \n",
       "2                     1                       1  Positive  1219017600   \n",
       "3                     3                       3  Negative  1307923200   \n",
       "4                     0                       0  Positive  1350777600   \n",
       "\n",
       "                 Summary                                               Text  \n",
       "0  Good Quality Dog Food  I have bought several of the Vitality canned d...  \n",
       "1      Not as Advertised  Product arrived labeled as Jumbo Salted Peanut...  \n",
       "2  \"Delight\" says it all  This is a confection that has been around a fe...  \n",
       "3         Cough Medicine  If you are looking for the secret ingredient i...  \n",
       "4            Great taffy  Great taffy at a great price.  There was a wid...  "
      ]
     },
     "execution_count": 5,
     "metadata": {},
     "output_type": "execute_result"
    }
   ],
   "source": [
    "connection = sqlite3.connect('../../../../Desktop/Prep/ML_Repo/amazon-fine-food-reviews/database.sqlite')\n",
    "filter_data = pd.read_sql_query(\"\"\"SELECT * from Reviews where Score !=3\"\"\",connection)\n",
    "actual_score =filter_data['Score']\n",
    "pos_or_neg = actual_score.apply(lambda x:'Positive' if int(x)>3 else 'Negative')\n",
    "filter_data['Score'] = pos_or_neg\n",
    "filter_data.head()"
   ]
  },
  {
   "cell_type": "code",
   "execution_count": 6,
   "metadata": {},
   "outputs": [
    {
     "name": "stdout",
     "output_type": "stream",
     "text": [
      "(525814, 10)\n"
     ]
    }
   ],
   "source": [
    "print(filter_data.shape)"
   ]
  },
  {
   "cell_type": "code",
   "execution_count": 7,
   "metadata": {},
   "outputs": [
    {
     "data": {
      "text/plain": [
       "(364173, 10)"
      ]
     },
     "execution_count": 7,
     "metadata": {},
     "output_type": "execute_result"
    }
   ],
   "source": [
    "display= pd.read_sql_query(\"\"\"SELECT *FROM Reviews WHERE Score != 3 AND UserId=\"AR5J8UI46CURR\" ORDER BY ProductID\"\"\", connection)\n",
    "sorted_data = filter_data.sort_values('ProductId', axis=0, ascending=True, inplace=False, kind='quicksort', na_position='last')\n",
    "drop_data = sorted_data.drop_duplicates(subset={\"UserId\",\"ProfileName\",\"Time\",\"Text\"},inplace=False,keep='first')\n",
    "drop_data.shape"
   ]
  },
  {
   "cell_type": "code",
   "execution_count": 8,
   "metadata": {},
   "outputs": [
    {
     "data": {
      "text/plain": [
       "(364139, 10)"
      ]
     },
     "execution_count": 8,
     "metadata": {},
     "output_type": "execute_result"
    }
   ],
   "source": [
    "drop_data1= drop_data[drop_data['ProductId'].str[0]!='0' ]\n",
    "drop_data1.shape"
   ]
  },
  {
   "cell_type": "code",
   "execution_count": 9,
   "metadata": {},
   "outputs": [
    {
     "data": {
      "text/plain": [
       "(364137, 10)"
      ]
     },
     "execution_count": 9,
     "metadata": {},
     "output_type": "execute_result"
    }
   ],
   "source": [
    "drop_data1=drop_data1[drop_data1.HelpfulnessNumerator<=drop_data1.HelpfulnessDenominator]\n",
    "drop_data1.shape"
   ]
  },
  {
   "cell_type": "code",
   "execution_count": 10,
   "metadata": {},
   "outputs": [
    {
     "data": {
      "text/plain": [
       "Positive    307029\n",
       "Negative     57108\n",
       "Name: Score, dtype: int64"
      ]
     },
     "execution_count": 10,
     "metadata": {},
     "output_type": "execute_result"
    }
   ],
   "source": [
    "drop_data1['Score'].value_counts()"
   ]
  },
  {
   "cell_type": "code",
   "execution_count": 11,
   "metadata": {},
   "outputs": [],
   "source": [
    "from nltk.corpus import stopwords\n",
    "stop = set(stopwords.words('english'))\n",
    "\n",
    "from nltk.stem import SnowballStemmer\n",
    "snow = SnowballStemmer('english')\n",
    "\n",
    "def cleanhtml(sentence):\n",
    "    cleanr = re.compile('<.*?>')\n",
    "    cleantext = re.sub(cleanr,'',sentence)\n",
    "    return cleantext\n",
    "\n",
    "def cleanpunc(sentence):\n",
    "    cleaned = re.sub(r'[?|!|\\'|\"|#]',r'',sentence)\n",
    "    cleaned = re.sub(r'[.|,|)|(|\\|/]',r' ',cleaned)\n",
    "    return cleaned"
   ]
  },
  {
   "cell_type": "code",
   "execution_count": 12,
   "metadata": {},
   "outputs": [],
   "source": [
    "i=0\n",
    "str1=' '\n",
    "final_string=[]\n",
    "all_positive_words=[] \n",
    "all_negative_words=[] \n",
    "s=''\n",
    "for sent in drop_data1['Text'].values:\n",
    "    filtered_sentence=[]\n",
    "    sent=cleanhtml(sent)\n",
    "    for w in sent.split():\n",
    "        for cleaned_words in cleanpunc(w).split():\n",
    "            if((cleaned_words.isalpha()) & (len(cleaned_words)>2)):    \n",
    "                if(cleaned_words.lower() not in stop):\n",
    "                    s=(snow.stem(cleaned_words.lower())).encode('utf8')\n",
    "                    filtered_sentence.append(s)\n",
    "                    if (drop_data1['Score'].values)[i] == 'Positive': \n",
    "                        all_positive_words.append(s) \n",
    "                    if(drop_data1['Score'].values)[i] == 'Negative':\n",
    "                        all_negative_words.append(s) \n",
    "                else:\n",
    "                    continue\n",
    "            else:\n",
    "                continue \n",
    "    str1 = b\" \".join(filtered_sentence) \n",
    "    \n",
    "    final_string.append(str1)\n",
    "    i+=1"
   ]
  },
  {
   "cell_type": "code",
   "execution_count": 13,
   "metadata": {},
   "outputs": [],
   "source": [
    "drop_data1['Cleaned_Text'] = final_string\n",
    "drop_data1['Cleaned_Text'] = drop_data1['Cleaned_Text'].str.decode(\"utf-8\")"
   ]
  },
  {
   "cell_type": "code",
   "execution_count": 14,
   "metadata": {},
   "outputs": [
    {
     "data": {
      "text/plain": [
       "Positive    307029\n",
       "Negative     57108\n",
       "Name: Score, dtype: int64"
      ]
     },
     "execution_count": 14,
     "metadata": {},
     "output_type": "execute_result"
    }
   ],
   "source": [
    "drop_data1['Score'].value_counts()"
   ]
  },
  {
   "cell_type": "code",
   "execution_count": 15,
   "metadata": {},
   "outputs": [
    {
     "data": {
      "text/html": [
       "<div>\n",
       "<style scoped>\n",
       "    .dataframe tbody tr th:only-of-type {\n",
       "        vertical-align: middle;\n",
       "    }\n",
       "\n",
       "    .dataframe tbody tr th {\n",
       "        vertical-align: top;\n",
       "    }\n",
       "\n",
       "    .dataframe thead th {\n",
       "        text-align: right;\n",
       "    }\n",
       "</style>\n",
       "<table border=\"1\" class=\"dataframe\">\n",
       "  <thead>\n",
       "    <tr style=\"text-align: right;\">\n",
       "      <th></th>\n",
       "      <th>Id</th>\n",
       "      <th>ProductId</th>\n",
       "      <th>UserId</th>\n",
       "      <th>ProfileName</th>\n",
       "      <th>HelpfulnessNumerator</th>\n",
       "      <th>HelpfulnessDenominator</th>\n",
       "      <th>Score</th>\n",
       "      <th>Time</th>\n",
       "      <th>Summary</th>\n",
       "      <th>Text</th>\n",
       "      <th>Cleaned_Text</th>\n",
       "    </tr>\n",
       "  </thead>\n",
       "  <tbody>\n",
       "    <tr>\n",
       "      <th>417839</th>\n",
       "      <td>451856</td>\n",
       "      <td>B00004CXX9</td>\n",
       "      <td>AIUWLEQ1ADEG5</td>\n",
       "      <td>Elizabeth Medina</td>\n",
       "      <td>0</td>\n",
       "      <td>0</td>\n",
       "      <td>Positive</td>\n",
       "      <td>944092800</td>\n",
       "      <td>Entertainingl Funny!</td>\n",
       "      <td>Beetlejuice is a well written movie ..... ever...</td>\n",
       "      <td>beetlejuic well written movi everyth excel act...</td>\n",
       "    </tr>\n",
       "    <tr>\n",
       "      <th>346055</th>\n",
       "      <td>374359</td>\n",
       "      <td>B00004CI84</td>\n",
       "      <td>A344SMIA5JECGM</td>\n",
       "      <td>Vincent P. Ross</td>\n",
       "      <td>1</td>\n",
       "      <td>2</td>\n",
       "      <td>Positive</td>\n",
       "      <td>944438400</td>\n",
       "      <td>A modern day fairy tale</td>\n",
       "      <td>A twist of rumplestiskin captured on film, sta...</td>\n",
       "      <td>twist rumplestiskin captur film star michael k...</td>\n",
       "    </tr>\n",
       "    <tr>\n",
       "      <th>417838</th>\n",
       "      <td>451855</td>\n",
       "      <td>B00004CXX9</td>\n",
       "      <td>AJH6LUC1UT1ON</td>\n",
       "      <td>The Phantom of the Opera</td>\n",
       "      <td>0</td>\n",
       "      <td>0</td>\n",
       "      <td>Positive</td>\n",
       "      <td>946857600</td>\n",
       "      <td>FANTASTIC!</td>\n",
       "      <td>Beetlejuice is an excellent and funny movie. K...</td>\n",
       "      <td>beetlejuic excel funni movi keaton hilari wack...</td>\n",
       "    </tr>\n",
       "    <tr>\n",
       "      <th>346116</th>\n",
       "      <td>374422</td>\n",
       "      <td>B00004CI84</td>\n",
       "      <td>A1048CYU0OV4O8</td>\n",
       "      <td>Judy L. Eans</td>\n",
       "      <td>2</td>\n",
       "      <td>2</td>\n",
       "      <td>Positive</td>\n",
       "      <td>947376000</td>\n",
       "      <td>GREAT</td>\n",
       "      <td>THIS IS ONE MOVIE THAT SHOULD BE IN YOUR MOVIE...</td>\n",
       "      <td>one movi movi collect fill comedi action whate...</td>\n",
       "    </tr>\n",
       "    <tr>\n",
       "      <th>346041</th>\n",
       "      <td>374343</td>\n",
       "      <td>B00004CI84</td>\n",
       "      <td>A1B2IZU1JLZA6</td>\n",
       "      <td>Wes</td>\n",
       "      <td>19</td>\n",
       "      <td>23</td>\n",
       "      <td>Negative</td>\n",
       "      <td>948240000</td>\n",
       "      <td>WARNING: CLAMSHELL EDITION IS EDITED TV VERSION</td>\n",
       "      <td>I, myself always enjoyed this movie, it's very...</td>\n",
       "      <td>alway enjoy movi funni entertain didnt hesit p...</td>\n",
       "    </tr>\n",
       "  </tbody>\n",
       "</table>\n",
       "</div>"
      ],
      "text/plain": [
       "            Id   ProductId          UserId               ProfileName  \\\n",
       "417839  451856  B00004CXX9   AIUWLEQ1ADEG5          Elizabeth Medina   \n",
       "346055  374359  B00004CI84  A344SMIA5JECGM           Vincent P. Ross   \n",
       "417838  451855  B00004CXX9   AJH6LUC1UT1ON  The Phantom of the Opera   \n",
       "346116  374422  B00004CI84  A1048CYU0OV4O8              Judy L. Eans   \n",
       "346041  374343  B00004CI84   A1B2IZU1JLZA6                       Wes   \n",
       "\n",
       "        HelpfulnessNumerator  HelpfulnessDenominator     Score       Time  \\\n",
       "417839                     0                       0  Positive  944092800   \n",
       "346055                     1                       2  Positive  944438400   \n",
       "417838                     0                       0  Positive  946857600   \n",
       "346116                     2                       2  Positive  947376000   \n",
       "346041                    19                      23  Negative  948240000   \n",
       "\n",
       "                                                Summary  \\\n",
       "417839                             Entertainingl Funny!   \n",
       "346055                          A modern day fairy tale   \n",
       "417838                                       FANTASTIC!   \n",
       "346116                                            GREAT   \n",
       "346041  WARNING: CLAMSHELL EDITION IS EDITED TV VERSION   \n",
       "\n",
       "                                                     Text  \\\n",
       "417839  Beetlejuice is a well written movie ..... ever...   \n",
       "346055  A twist of rumplestiskin captured on film, sta...   \n",
       "417838  Beetlejuice is an excellent and funny movie. K...   \n",
       "346116  THIS IS ONE MOVIE THAT SHOULD BE IN YOUR MOVIE...   \n",
       "346041  I, myself always enjoyed this movie, it's very...   \n",
       "\n",
       "                                             Cleaned_Text  \n",
       "417839  beetlejuic well written movi everyth excel act...  \n",
       "346055  twist rumplestiskin captur film star michael k...  \n",
       "417838  beetlejuic excel funni movi keaton hilari wack...  \n",
       "346116  one movi movi collect fill comedi action whate...  \n",
       "346041  alway enjoy movi funni entertain didnt hesit p...  "
      ]
     },
     "execution_count": 15,
     "metadata": {},
     "output_type": "execute_result"
    }
   ],
   "source": [
    "drop_data1 = drop_data1.sort_values('Time', axis=0, ascending=True, inplace=False, kind='quicksort', na_position='last')\n",
    "drop_data1.head()"
   ]
  },
  {
   "cell_type": "code",
   "execution_count": 16,
   "metadata": {},
   "outputs": [
    {
     "data": {
      "text/html": [
       "<div>\n",
       "<style scoped>\n",
       "    .dataframe tbody tr th:only-of-type {\n",
       "        vertical-align: middle;\n",
       "    }\n",
       "\n",
       "    .dataframe tbody tr th {\n",
       "        vertical-align: top;\n",
       "    }\n",
       "\n",
       "    .dataframe thead th {\n",
       "        text-align: right;\n",
       "    }\n",
       "</style>\n",
       "<table border=\"1\" class=\"dataframe\">\n",
       "  <thead>\n",
       "    <tr style=\"text-align: right;\">\n",
       "      <th></th>\n",
       "      <th>Id</th>\n",
       "      <th>ProductId</th>\n",
       "      <th>UserId</th>\n",
       "      <th>ProfileName</th>\n",
       "      <th>HelpfulnessNumerator</th>\n",
       "      <th>HelpfulnessDenominator</th>\n",
       "      <th>Score</th>\n",
       "      <th>Time</th>\n",
       "      <th>Summary</th>\n",
       "      <th>Text</th>\n",
       "      <th>Cleaned_Text</th>\n",
       "    </tr>\n",
       "  </thead>\n",
       "  <tbody>\n",
       "    <tr>\n",
       "      <th>417839</th>\n",
       "      <td>451856</td>\n",
       "      <td>B00004CXX9</td>\n",
       "      <td>AIUWLEQ1ADEG5</td>\n",
       "      <td>Elizabeth Medina</td>\n",
       "      <td>0</td>\n",
       "      <td>0</td>\n",
       "      <td>1</td>\n",
       "      <td>944092800</td>\n",
       "      <td>Entertainingl Funny!</td>\n",
       "      <td>Beetlejuice is a well written movie ..... ever...</td>\n",
       "      <td>beetlejuic well written movi everyth excel act...</td>\n",
       "    </tr>\n",
       "    <tr>\n",
       "      <th>346055</th>\n",
       "      <td>374359</td>\n",
       "      <td>B00004CI84</td>\n",
       "      <td>A344SMIA5JECGM</td>\n",
       "      <td>Vincent P. Ross</td>\n",
       "      <td>1</td>\n",
       "      <td>2</td>\n",
       "      <td>1</td>\n",
       "      <td>944438400</td>\n",
       "      <td>A modern day fairy tale</td>\n",
       "      <td>A twist of rumplestiskin captured on film, sta...</td>\n",
       "      <td>twist rumplestiskin captur film star michael k...</td>\n",
       "    </tr>\n",
       "    <tr>\n",
       "      <th>417838</th>\n",
       "      <td>451855</td>\n",
       "      <td>B00004CXX9</td>\n",
       "      <td>AJH6LUC1UT1ON</td>\n",
       "      <td>The Phantom of the Opera</td>\n",
       "      <td>0</td>\n",
       "      <td>0</td>\n",
       "      <td>1</td>\n",
       "      <td>946857600</td>\n",
       "      <td>FANTASTIC!</td>\n",
       "      <td>Beetlejuice is an excellent and funny movie. K...</td>\n",
       "      <td>beetlejuic excel funni movi keaton hilari wack...</td>\n",
       "    </tr>\n",
       "    <tr>\n",
       "      <th>346116</th>\n",
       "      <td>374422</td>\n",
       "      <td>B00004CI84</td>\n",
       "      <td>A1048CYU0OV4O8</td>\n",
       "      <td>Judy L. Eans</td>\n",
       "      <td>2</td>\n",
       "      <td>2</td>\n",
       "      <td>1</td>\n",
       "      <td>947376000</td>\n",
       "      <td>GREAT</td>\n",
       "      <td>THIS IS ONE MOVIE THAT SHOULD BE IN YOUR MOVIE...</td>\n",
       "      <td>one movi movi collect fill comedi action whate...</td>\n",
       "    </tr>\n",
       "    <tr>\n",
       "      <th>346041</th>\n",
       "      <td>374343</td>\n",
       "      <td>B00004CI84</td>\n",
       "      <td>A1B2IZU1JLZA6</td>\n",
       "      <td>Wes</td>\n",
       "      <td>19</td>\n",
       "      <td>23</td>\n",
       "      <td>0</td>\n",
       "      <td>948240000</td>\n",
       "      <td>WARNING: CLAMSHELL EDITION IS EDITED TV VERSION</td>\n",
       "      <td>I, myself always enjoyed this movie, it's very...</td>\n",
       "      <td>alway enjoy movi funni entertain didnt hesit p...</td>\n",
       "    </tr>\n",
       "  </tbody>\n",
       "</table>\n",
       "</div>"
      ],
      "text/plain": [
       "            Id   ProductId          UserId               ProfileName  \\\n",
       "417839  451856  B00004CXX9   AIUWLEQ1ADEG5          Elizabeth Medina   \n",
       "346055  374359  B00004CI84  A344SMIA5JECGM           Vincent P. Ross   \n",
       "417838  451855  B00004CXX9   AJH6LUC1UT1ON  The Phantom of the Opera   \n",
       "346116  374422  B00004CI84  A1048CYU0OV4O8              Judy L. Eans   \n",
       "346041  374343  B00004CI84   A1B2IZU1JLZA6                       Wes   \n",
       "\n",
       "        HelpfulnessNumerator  HelpfulnessDenominator  Score       Time  \\\n",
       "417839                     0                       0      1  944092800   \n",
       "346055                     1                       2      1  944438400   \n",
       "417838                     0                       0      1  946857600   \n",
       "346116                     2                       2      1  947376000   \n",
       "346041                    19                      23      0  948240000   \n",
       "\n",
       "                                                Summary  \\\n",
       "417839                             Entertainingl Funny!   \n",
       "346055                          A modern day fairy tale   \n",
       "417838                                       FANTASTIC!   \n",
       "346116                                            GREAT   \n",
       "346041  WARNING: CLAMSHELL EDITION IS EDITED TV VERSION   \n",
       "\n",
       "                                                     Text  \\\n",
       "417839  Beetlejuice is a well written movie ..... ever...   \n",
       "346055  A twist of rumplestiskin captured on film, sta...   \n",
       "417838  Beetlejuice is an excellent and funny movie. K...   \n",
       "346116  THIS IS ONE MOVIE THAT SHOULD BE IN YOUR MOVIE...   \n",
       "346041  I, myself always enjoyed this movie, it's very...   \n",
       "\n",
       "                                             Cleaned_Text  \n",
       "417839  beetlejuic well written movi everyth excel act...  \n",
       "346055  twist rumplestiskin captur film star michael k...  \n",
       "417838  beetlejuic excel funni movi keaton hilari wack...  \n",
       "346116  one movi movi collect fill comedi action whate...  \n",
       "346041  alway enjoy movi funni entertain didnt hesit p...  "
      ]
     },
     "execution_count": 16,
     "metadata": {},
     "output_type": "execute_result"
    }
   ],
   "source": [
    "pos_neg = drop_data1['Score'].apply(lambda x: 1 if x=='Positive' else 0)\n",
    "drop_data1['Score'] = pos_neg\n",
    "drop_data1.head()"
   ]
  },
  {
   "cell_type": "code",
   "execution_count": 17,
   "metadata": {},
   "outputs": [],
   "source": [
    "drop_data1 = drop_data1.head(40000)"
   ]
  },
  {
   "cell_type": "code",
   "execution_count": 18,
   "metadata": {},
   "outputs": [
    {
     "data": {
      "text/plain": [
       "1    35591\n",
       "0     4409\n",
       "Name: Score, dtype: int64"
      ]
     },
     "execution_count": 18,
     "metadata": {},
     "output_type": "execute_result"
    }
   ],
   "source": [
    "drop_data1['Score'].value_counts()"
   ]
  },
  {
   "cell_type": "code",
   "execution_count": 19,
   "metadata": {},
   "outputs": [],
   "source": [
    "import pickle\n",
    "\n",
    "def save_data(data,file):\n",
    "    pickle.dump(data,open(file+\".pkl\",\"wb\"))\n",
    "    \n",
    "def load_data(file):\n",
    "    data = pickle.load(open(file+\".pkl\",\"rb\"))\n",
    "    return data"
   ]
  },
  {
   "cell_type": "code",
   "execution_count": 20,
   "metadata": {},
   "outputs": [],
   "source": [
    "save_data(drop_data1,'40k_nb')"
   ]
  },
  {
   "cell_type": "code",
   "execution_count": 22,
   "metadata": {},
   "outputs": [
    {
     "data": {
      "text/html": [
       "<div>\n",
       "<style scoped>\n",
       "    .dataframe tbody tr th:only-of-type {\n",
       "        vertical-align: middle;\n",
       "    }\n",
       "\n",
       "    .dataframe tbody tr th {\n",
       "        vertical-align: top;\n",
       "    }\n",
       "\n",
       "    .dataframe thead th {\n",
       "        text-align: right;\n",
       "    }\n",
       "</style>\n",
       "<table border=\"1\" class=\"dataframe\">\n",
       "  <thead>\n",
       "    <tr style=\"text-align: right;\">\n",
       "      <th></th>\n",
       "      <th>Id</th>\n",
       "      <th>ProductId</th>\n",
       "      <th>UserId</th>\n",
       "      <th>ProfileName</th>\n",
       "      <th>HelpfulnessNumerator</th>\n",
       "      <th>HelpfulnessDenominator</th>\n",
       "      <th>Score</th>\n",
       "      <th>Time</th>\n",
       "      <th>Summary</th>\n",
       "      <th>Text</th>\n",
       "      <th>Cleaned_Text</th>\n",
       "    </tr>\n",
       "  </thead>\n",
       "  <tbody>\n",
       "    <tr>\n",
       "      <th>417839</th>\n",
       "      <td>451856</td>\n",
       "      <td>B00004CXX9</td>\n",
       "      <td>AIUWLEQ1ADEG5</td>\n",
       "      <td>Elizabeth Medina</td>\n",
       "      <td>0</td>\n",
       "      <td>0</td>\n",
       "      <td>1</td>\n",
       "      <td>944092800</td>\n",
       "      <td>Entertainingl Funny!</td>\n",
       "      <td>Beetlejuice is a well written movie ..... ever...</td>\n",
       "      <td>beetlejuic well written movi everyth excel act...</td>\n",
       "    </tr>\n",
       "    <tr>\n",
       "      <th>346055</th>\n",
       "      <td>374359</td>\n",
       "      <td>B00004CI84</td>\n",
       "      <td>A344SMIA5JECGM</td>\n",
       "      <td>Vincent P. Ross</td>\n",
       "      <td>1</td>\n",
       "      <td>2</td>\n",
       "      <td>1</td>\n",
       "      <td>944438400</td>\n",
       "      <td>A modern day fairy tale</td>\n",
       "      <td>A twist of rumplestiskin captured on film, sta...</td>\n",
       "      <td>twist rumplestiskin captur film star michael k...</td>\n",
       "    </tr>\n",
       "    <tr>\n",
       "      <th>417838</th>\n",
       "      <td>451855</td>\n",
       "      <td>B00004CXX9</td>\n",
       "      <td>AJH6LUC1UT1ON</td>\n",
       "      <td>The Phantom of the Opera</td>\n",
       "      <td>0</td>\n",
       "      <td>0</td>\n",
       "      <td>1</td>\n",
       "      <td>946857600</td>\n",
       "      <td>FANTASTIC!</td>\n",
       "      <td>Beetlejuice is an excellent and funny movie. K...</td>\n",
       "      <td>beetlejuic excel funni movi keaton hilari wack...</td>\n",
       "    </tr>\n",
       "    <tr>\n",
       "      <th>346116</th>\n",
       "      <td>374422</td>\n",
       "      <td>B00004CI84</td>\n",
       "      <td>A1048CYU0OV4O8</td>\n",
       "      <td>Judy L. Eans</td>\n",
       "      <td>2</td>\n",
       "      <td>2</td>\n",
       "      <td>1</td>\n",
       "      <td>947376000</td>\n",
       "      <td>GREAT</td>\n",
       "      <td>THIS IS ONE MOVIE THAT SHOULD BE IN YOUR MOVIE...</td>\n",
       "      <td>one movi movi collect fill comedi action whate...</td>\n",
       "    </tr>\n",
       "    <tr>\n",
       "      <th>346041</th>\n",
       "      <td>374343</td>\n",
       "      <td>B00004CI84</td>\n",
       "      <td>A1B2IZU1JLZA6</td>\n",
       "      <td>Wes</td>\n",
       "      <td>19</td>\n",
       "      <td>23</td>\n",
       "      <td>0</td>\n",
       "      <td>948240000</td>\n",
       "      <td>WARNING: CLAMSHELL EDITION IS EDITED TV VERSION</td>\n",
       "      <td>I, myself always enjoyed this movie, it's very...</td>\n",
       "      <td>alway enjoy movi funni entertain didnt hesit p...</td>\n",
       "    </tr>\n",
       "  </tbody>\n",
       "</table>\n",
       "</div>"
      ],
      "text/plain": [
       "            Id   ProductId          UserId               ProfileName  \\\n",
       "417839  451856  B00004CXX9   AIUWLEQ1ADEG5          Elizabeth Medina   \n",
       "346055  374359  B00004CI84  A344SMIA5JECGM           Vincent P. Ross   \n",
       "417838  451855  B00004CXX9   AJH6LUC1UT1ON  The Phantom of the Opera   \n",
       "346116  374422  B00004CI84  A1048CYU0OV4O8              Judy L. Eans   \n",
       "346041  374343  B00004CI84   A1B2IZU1JLZA6                       Wes   \n",
       "\n",
       "        HelpfulnessNumerator  HelpfulnessDenominator  Score       Time  \\\n",
       "417839                     0                       0      1  944092800   \n",
       "346055                     1                       2      1  944438400   \n",
       "417838                     0                       0      1  946857600   \n",
       "346116                     2                       2      1  947376000   \n",
       "346041                    19                      23      0  948240000   \n",
       "\n",
       "                                                Summary  \\\n",
       "417839                             Entertainingl Funny!   \n",
       "346055                          A modern day fairy tale   \n",
       "417838                                       FANTASTIC!   \n",
       "346116                                            GREAT   \n",
       "346041  WARNING: CLAMSHELL EDITION IS EDITED TV VERSION   \n",
       "\n",
       "                                                     Text  \\\n",
       "417839  Beetlejuice is a well written movie ..... ever...   \n",
       "346055  A twist of rumplestiskin captured on film, sta...   \n",
       "417838  Beetlejuice is an excellent and funny movie. K...   \n",
       "346116  THIS IS ONE MOVIE THAT SHOULD BE IN YOUR MOVIE...   \n",
       "346041  I, myself always enjoyed this movie, it's very...   \n",
       "\n",
       "                                             Cleaned_Text  \n",
       "417839  beetlejuic well written movi everyth excel act...  \n",
       "346055  twist rumplestiskin captur film star michael k...  \n",
       "417838  beetlejuic excel funni movi keaton hilari wack...  \n",
       "346116  one movi movi collect fill comedi action whate...  \n",
       "346041  alway enjoy movi funni entertain didnt hesit p...  "
      ]
     },
     "execution_count": 22,
     "metadata": {},
     "output_type": "execute_result"
    }
   ],
   "source": [
    "nb_data = load_data('40k_nb')\n",
    "nb_data.head()"
   ]
  },
  {
   "cell_type": "code",
   "execution_count": 65,
   "metadata": {},
   "outputs": [],
   "source": [
    "def acc_vs_kvalue_plot(cv_results):\n",
    "    sns.set_style(\"whitegrid\")\n",
    "    alpha_list = [0.0005,0.0001,0.005,0.001,0.05,0.01,0.5,0.1,0,1,10,50,100,500,1000]\n",
    "    plt.plot([i for i in alpha_list],cv_results)\n",
    "    plt.xlabel(\"Alpha Values\")\n",
    "    plt.ylabel(\"Accuracy\")\n",
    "    plt.title(\"Accuracy vs Alpha-Values\")\n",
    "    plt.show()"
   ]
  },
  {
   "cell_type": "code",
   "execution_count": 32,
   "metadata": {},
   "outputs": [],
   "source": [
    "def confusion_matrix_plot(y_test,pred):\n",
    "    df_bow = pd.DataFrame(confusion_matrix(y_test, pred))  \n",
    "    sns.heatmap(df_bow, annot=True)\n",
    "    tn, fp, fn, tp = confusion_matrix(y_test,pred).ravel()\n",
    "    print('True Positive',tp)\n",
    "    print('True Negative',tn)\n",
    "    print('False Positive',fp)\n",
    "    print('False Negative',fn)"
   ]
  },
  {
   "cell_type": "code",
   "execution_count": 33,
   "metadata": {},
   "outputs": [],
   "source": [
    "def metric_scores(y_test,pred):\n",
    "    acc_scores = [[accuracy_score(y_test, pred)*100,precision_score(y_test,pred),recall_score(y_test,pred),f1_score(y_test,pred)]]\n",
    "    acc_scores = pd.DataFrame(acc_scores,columns=['Accuracy','Precision score','Recall score','F1 score'])\n",
    "    return acc_scores"
   ]
  },
  {
   "cell_type": "code",
   "execution_count": 199,
   "metadata": {},
   "outputs": [],
   "source": [
    "def summary_of_scores():\n",
    "    x = PrettyTable()\n",
    "    x.field_names = [\"Model\", \"Algorithm\", \"Best Alpha\", \"Best Accuracy\"]\n",
    "    x.add_row([\"BOW\",\"Multinomial NB\", list(load_data('bow_grid_search_nb')['params'][np.argmax(load_data('bow_grid_search_nb')['mean_test_score'])].values())[0], max(load_data('bow_grid_search_nb')['mean_test_score'])*100])\n",
    "    x.add_row([\"BOW\",\"Bernoulli NB\", list(load_data('bow_grid_search_nb_2')['params'][np.argmax(load_data('bow_grid_search_nb_2')['mean_test_score'])].values())[0], max(load_data('bow_grid_search_nb_2')['mean_test_score'])*100])\n",
    "    x.add_row([\"Trigram\",\"Multinomial NB\", list(load_data('trigram_grid_search_nb')['params'][np.argmax(load_data('trigram_grid_search_nb')['mean_test_score'])].values())[0], max(load_data('trigram_grid_search_nb')['mean_test_score'])*100])\n",
    "    x.add_row([\"Trigram\",\"Bernouli NB\", list(load_data('trigram_grid_search_nb_2')['params'][np.argmax(load_data('trigram_grid_search_nb_2')['mean_test_score'])].values())[0], max(load_data('trigram_grid_search_nb_2')['mean_test_score'])*100])\n",
    "    x.add_row([\"Tf-Idf\",\"Multinomial NB\", list(load_data('tfidf_grid_search_nb')['params'][np.argmax(load_data('tfidf_grid_search_nb')['mean_test_score'])].values())[0], max(load_data('tfidf_grid_search_nb')['mean_test_score'])*100])\n",
    "    x.add_row([\"Tf-Idf\",\"Bernoulli NB\", list(load_data('tfidf_grid_search_nb_2')['params'][np.argmax(load_data('tfidf_grid_search_nb_2')['mean_test_score'])].values())[0], max(load_data('tfidf_grid_search_nb_2')['mean_test_score'])*100])\n",
    "    x.add_row([\"W2V\",\"Bernoulli NB\", list(load_data('w2v_grid_search_nb_2')['params'][np.argmax(load_data('w2v_grid_search_nb_2')['mean_test_score'])].values())[0], max(load_data('w2v_grid_search_nb_2')['mean_test_score'])*100])\n",
    "    x.add_row([\"Tf-Idf - W2v\",\"Bernoulli NB\", list(load_data('tfidf_w2v_grid_search_nb_2')['params'][np.argmax(load_data('tfidf_w2v_grid_search_nb_2')['mean_test_score'])].values())[0], max(load_data('tfidf_w2v_grid_search_nb_2')['mean_test_score'])*100])\n",
    "    print(x)\n",
    "    "
   ]
  },
  {
   "cell_type": "code",
   "execution_count": 539,
   "metadata": {},
   "outputs": [],
   "source": [
    "def top_25_features(nb_optimal,vectorizer):\n",
    "    a = []\n",
    "    for i in range(25):\n",
    "        b = []\n",
    "        \n",
    "        index_p = nb_optimal.feature_log_prob_[1, :].argsort()\n",
    "        pos_class_prob_sorted = nb_optimal.feature_log_prob_[1, :][index_p[index_p.size-25+i]]\n",
    "        b.append(pos_class_prob_sorted)\n",
    "        b.append(np.take(vectorizer.get_feature_names(), index_p[index_p.size-25+i]))\n",
    "        \n",
    "        index_n = nb_optimal.feature_log_prob_[0, :].argsort()\n",
    "        neg_class_prob_sorted = nb_optimal.feature_log_prob_[0, :][index_n[index_n.size-25+i]]\n",
    "        b.append(neg_class_prob_sorted)\n",
    "        b.append(np.take(vectorizer.get_feature_names(), index_n[index_n.size-25+i]))\n",
    "        \n",
    "        a.append(b) \n",
    "        \n",
    "    a1 = pd.DataFrame(a)\n",
    "    a1.columns = ['Positive Values','Positive Words','Negative Values','Negative Words']\n",
    "    return a1   "
   ]
  },
  {
   "cell_type": "markdown",
   "metadata": {},
   "source": [
    "### Bag of Words - MultinomialNB"
   ]
  },
  {
   "cell_type": "code",
   "execution_count": 540,
   "metadata": {},
   "outputs": [
    {
     "data": {
      "text/plain": [
       "346013    got excel servic movi arriv promis date qualit...\n",
       "59348     recepi box produc good muffin need add egg mak...\n",
       "2009      tast better look first thing said skeptic look...\n",
       "381644    look gluten free cereal sweet one tast like co...\n",
       "259086    navita natur certifi organ goji berri wonder s...\n",
       "Name: Cleaned_Text, dtype: object"
      ]
     },
     "execution_count": 540,
     "metadata": {},
     "output_type": "execute_result"
    }
   ],
   "source": [
    "x_train, x_test, y_train, y_test = train_test_split(nb_data['Cleaned_Text'] ,nb_data['Score'], test_size=0.3, random_state=0)\n",
    "x_test.head()"
   ]
  },
  {
   "cell_type": "code",
   "execution_count": 541,
   "metadata": {},
   "outputs": [],
   "source": [
    "count_vect = CountVectorizer()\n",
    "x_train = count_vect.fit_transform(x_train)\n",
    "x_train = normalize(x_train)\n",
    "x_test = count_vect.transform(x_test)\n",
    "x_test = normalize(x_test)"
   ]
  },
  {
   "cell_type": "code",
   "execution_count": 28,
   "metadata": {},
   "outputs": [],
   "source": [
    "from sklearn.naive_bayes import MultinomialNB\n",
    "from sklearn.model_selection import TimeSeriesSplit\n",
    "from sklearn.model_selection import GridSearchCV\n",
    "from sklearn.naive_bayes import BernoulliNB"
   ]
  },
  {
   "cell_type": "code",
   "execution_count": 29,
   "metadata": {},
   "outputs": [
    {
     "name": "stdout",
     "output_type": "stream",
     "text": [
      "Fitting 5 folds for each of 15 candidates, totalling 75 fits\n"
     ]
    },
    {
     "name": "stderr",
     "output_type": "stream",
     "text": [
      "[Parallel(n_jobs=1)]: Done  75 out of  75 | elapsed:    1.5s finished\n"
     ]
    },
    {
     "data": {
      "text/plain": [
       "GridSearchCV(cv=TimeSeriesSplit(max_train_size=None, n_splits=5),\n",
       "       error_score='raise',\n",
       "       estimator=MultinomialNB(alpha=1.0, class_prior=None, fit_prior=True),\n",
       "       fit_params=None, iid=True, n_jobs=1,\n",
       "       param_grid={'alpha': [0.0005, 0.0001, 0.005, 0.001, 0.05, 0.01, 0.5, 0.1, 0, 1, 10, 50, 100, 500, 1000]},\n",
       "       pre_dispatch='2*n_jobs', refit=True, return_train_score='warn',\n",
       "       scoring=None, verbose=1)"
      ]
     },
     "execution_count": 29,
     "metadata": {},
     "output_type": "execute_result"
    }
   ],
   "source": [
    "nb = MultinomialNB()\n",
    "time_split_cv = TimeSeriesSplit(n_splits = 5)\n",
    "alpha_list = [0.0005,0.0001,0.005,0.001,0.05,0.01,0.5,0.1,0,1,10,50,100,500,1000]\n",
    "param_grid = {'alpha':alpha_list}\n",
    "grid_search = GridSearchCV(nb,param_grid,cv=time_split_cv,verbose=1)\n",
    "grid_search.fit(x_train,y_train)"
   ]
  },
  {
   "cell_type": "code",
   "execution_count": 30,
   "metadata": {},
   "outputs": [],
   "source": [
    "save_data(grid_search.cv_results_,'bow_grid_search_nb')"
   ]
  },
  {
   "cell_type": "code",
   "execution_count": 66,
   "metadata": {},
   "outputs": [
    {
     "data": {
      "image/png": "[encoded data removed]",
      "text/plain": [
       "<Figure size 432x288 with 1 Axes>"
      ]
     },
     "metadata": {},
     "output_type": "display_data"
    }
   ],
   "source": [
    "acc_vs_kvalue_plot(grid_search.cv_results_['mean_test_score']*100)"
   ]
  },
  {
   "cell_type": "code",
   "execution_count": 58,
   "metadata": {},
   "outputs": [
    {
     "name": "stdout",
     "output_type": "stream",
     "text": [
      "Best Alpha-Value  0.005\n",
      "Best Accuracy 90.068581%\n"
     ]
    }
   ],
   "source": [
    "print('Best Alpha-Value ',grid_search.best_params_.get('alpha'))\n",
    "print('Best Accuracy %f% %'%(grid_search.best_score_*100))"
   ]
  },
  {
   "cell_type": "code",
   "execution_count": 67,
   "metadata": {},
   "outputs": [],
   "source": [
    "nb_optimal = MultinomialNB(alpha = grid_search.best_params_.get('alpha'))\n",
    "nb_optimal.fit(x_train, y_train)\n",
    "pred = nb_optimal.predict(x_test)\n",
    "acc = accuracy_score(y_test, pred) * 100"
   ]
  },
  {
   "cell_type": "code",
   "execution_count": 68,
   "metadata": {},
   "outputs": [
    {
     "data": {
      "text/html": [
       "<div>\n",
       "<style scoped>\n",
       "    .dataframe tbody tr th:only-of-type {\n",
       "        vertical-align: middle;\n",
       "    }\n",
       "\n",
       "    .dataframe tbody tr th {\n",
       "        vertical-align: top;\n",
       "    }\n",
       "\n",
       "    .dataframe thead th {\n",
       "        text-align: right;\n",
       "    }\n",
       "</style>\n",
       "<table border=\"1\" class=\"dataframe\">\n",
       "  <thead>\n",
       "    <tr style=\"text-align: right;\">\n",
       "      <th></th>\n",
       "      <th>Accuracy</th>\n",
       "      <th>Precision score</th>\n",
       "      <th>Recall score</th>\n",
       "      <th>F1 score</th>\n",
       "    </tr>\n",
       "  </thead>\n",
       "  <tbody>\n",
       "    <tr>\n",
       "      <th>0</th>\n",
       "      <td>89.9</td>\n",
       "      <td>0.898792</td>\n",
       "      <td>0.998686</td>\n",
       "      <td>0.946109</td>\n",
       "    </tr>\n",
       "  </tbody>\n",
       "</table>\n",
       "</div>"
      ],
      "text/plain": [
       "   Accuracy  Precision score  Recall score  F1 score\n",
       "0      89.9         0.898792      0.998686  0.946109"
      ]
     },
     "execution_count": 68,
     "metadata": {},
     "output_type": "execute_result"
    }
   ],
   "source": [
    "metric_scores(y_test,pred)"
   ]
  },
  {
   "cell_type": "code",
   "execution_count": 69,
   "metadata": {},
   "outputs": [
    {
     "name": "stdout",
     "output_type": "stream",
     "text": [
      "True Positive 10639\n",
      "True Negative 149\n",
      "False Positive 1198\n",
      "False Negative 14\n"
     ]
    },
    {
     "data": {
      "image/png": "[encoded data removed]",
      "text/plain": [
       "<Figure size 432x288 with 2 Axes>"
      ]
     },
     "metadata": {},
     "output_type": "display_data"
    }
   ],
   "source": [
    "confusion_matrix_plot(y_test,pred)"
   ]
  },
  {
   "cell_type": "markdown",
   "metadata": {},
   "source": [
    "### Bag of Words - BernoulliNB"
   ]
  },
  {
   "cell_type": "code",
   "execution_count": 542,
   "metadata": {},
   "outputs": [
    {
     "name": "stdout",
     "output_type": "stream",
     "text": [
      "Fitting 5 folds for each of 15 candidates, totalling 75 fits\n"
     ]
    },
    {
     "name": "stderr",
     "output_type": "stream",
     "text": [
      "[Parallel(n_jobs=1)]: Done  75 out of  75 | elapsed:    3.5s finished\n"
     ]
    },
    {
     "data": {
      "text/plain": [
       "GridSearchCV(cv=TimeSeriesSplit(max_train_size=None, n_splits=5),\n",
       "       error_score='raise',\n",
       "       estimator=BernoulliNB(alpha=1.0, binarize=0.0, class_prior=None, fit_prior=True),\n",
       "       fit_params=None, iid=True, n_jobs=1,\n",
       "       param_grid={'alpha': [0.0005, 0.0001, 0.005, 0.001, 0.05, 0.01, 0.5, 0.1, 0, 1, 10, 50, 100, 500, 1000]},\n",
       "       pre_dispatch='2*n_jobs', refit=True, return_train_score='warn',\n",
       "       scoring=None, verbose=1)"
      ]
     },
     "execution_count": 542,
     "metadata": {},
     "output_type": "execute_result"
    }
   ],
   "source": [
    "nb = BernoulliNB()\n",
    "time_split_cv = TimeSeriesSplit(n_splits = 5)\n",
    "alpha_list = [0.0005,0.0001,0.005,0.001,0.05,0.01,0.5,0.1,0,1,10,50,100,500,1000]\n",
    "param_grid = {'alpha':alpha_list}\n",
    "grid_search = GridSearchCV(nb,param_grid,cv=time_split_cv,verbose=1)\n",
    "grid_search.fit(x_train,y_train)"
   ]
  },
  {
   "cell_type": "code",
   "execution_count": 71,
   "metadata": {},
   "outputs": [],
   "source": [
    "save_data(grid_search.cv_results_,'bow_grid_search_nb_2')"
   ]
  },
  {
   "cell_type": "code",
   "execution_count": 72,
   "metadata": {},
   "outputs": [
    {
     "data": {
      "image/png": "[encoded data removed]",
      "text/plain": [
       "<Figure size 432x288 with 1 Axes>"
      ]
     },
     "metadata": {},
     "output_type": "display_data"
    }
   ],
   "source": [
    "acc_vs_kvalue_plot(grid_search.cv_results_['mean_test_score']*100)"
   ]
  },
  {
   "cell_type": "code",
   "execution_count": 73,
   "metadata": {},
   "outputs": [
    {
     "name": "stdout",
     "output_type": "stream",
     "text": [
      "Best Alpha-Value  0.1\n",
      "Best Accuracy 89.785684%\n"
     ]
    }
   ],
   "source": [
    "print('Best Alpha-Value ',grid_search.best_params_.get('alpha'))\n",
    "print('Best Accuracy %f% %'%(grid_search.best_score_*100))"
   ]
  },
  {
   "cell_type": "code",
   "execution_count": 543,
   "metadata": {},
   "outputs": [],
   "source": [
    "nb_optimal = BernoulliNB(alpha = grid_search.best_params_.get('alpha'))\n",
    "nb_optimal.fit(x_train, y_train)\n",
    "pred = nb_optimal.predict(x_test)\n",
    "acc = accuracy_score(y_test, pred) * 100"
   ]
  },
  {
   "cell_type": "code",
   "execution_count": 75,
   "metadata": {},
   "outputs": [
    {
     "data": {
      "text/html": [
       "<div>\n",
       "<style scoped>\n",
       "    .dataframe tbody tr th:only-of-type {\n",
       "        vertical-align: middle;\n",
       "    }\n",
       "\n",
       "    .dataframe tbody tr th {\n",
       "        vertical-align: top;\n",
       "    }\n",
       "\n",
       "    .dataframe thead th {\n",
       "        text-align: right;\n",
       "    }\n",
       "</style>\n",
       "<table border=\"1\" class=\"dataframe\">\n",
       "  <thead>\n",
       "    <tr style=\"text-align: right;\">\n",
       "      <th></th>\n",
       "      <th>Accuracy</th>\n",
       "      <th>Precision score</th>\n",
       "      <th>Recall score</th>\n",
       "      <th>F1 score</th>\n",
       "    </tr>\n",
       "  </thead>\n",
       "  <tbody>\n",
       "    <tr>\n",
       "      <th>0</th>\n",
       "      <td>91.758333</td>\n",
       "      <td>0.945264</td>\n",
       "      <td>0.962921</td>\n",
       "      <td>0.954011</td>\n",
       "    </tr>\n",
       "  </tbody>\n",
       "</table>\n",
       "</div>"
      ],
      "text/plain": [
       "    Accuracy  Precision score  Recall score  F1 score\n",
       "0  91.758333         0.945264      0.962921  0.954011"
      ]
     },
     "execution_count": 75,
     "metadata": {},
     "output_type": "execute_result"
    }
   ],
   "source": [
    "metric_scores(y_test,pred)"
   ]
  },
  {
   "cell_type": "code",
   "execution_count": 76,
   "metadata": {},
   "outputs": [
    {
     "name": "stdout",
     "output_type": "stream",
     "text": [
      "True Positive 10258\n",
      "True Negative 753\n",
      "False Positive 594\n",
      "False Negative 395\n"
     ]
    },
    {
     "data": {
      "image/png": "[encoded data removed]",
      "text/plain": [
       "<Figure size 432x288 with 2 Axes>"
      ]
     },
     "metadata": {},
     "output_type": "display_data"
    }
   ],
   "source": [
    "confusion_matrix_plot(y_test,pred)"
   ]
  },
  {
   "cell_type": "markdown",
   "metadata": {},
   "source": [
    "### Top 25 Important Features for both Positive and Negative Class"
   ]
  },
  {
   "cell_type": "code",
   "execution_count": 544,
   "metadata": {},
   "outputs": [
    {
     "data": {
      "text/html": [
       "<div>\n",
       "<style scoped>\n",
       "    .dataframe tbody tr th:only-of-type {\n",
       "        vertical-align: middle;\n",
       "    }\n",
       "\n",
       "    .dataframe tbody tr th {\n",
       "        vertical-align: top;\n",
       "    }\n",
       "\n",
       "    .dataframe thead th {\n",
       "        text-align: right;\n",
       "    }\n",
       "</style>\n",
       "<table border=\"1\" class=\"dataframe\">\n",
       "  <thead>\n",
       "    <tr style=\"text-align: right;\">\n",
       "      <th></th>\n",
       "      <th>Positive Values</th>\n",
       "      <th>Positive Words</th>\n",
       "      <th>Negative Values</th>\n",
       "      <th>Negative Words</th>\n",
       "    </tr>\n",
       "  </thead>\n",
       "  <tbody>\n",
       "    <tr>\n",
       "      <th>0</th>\n",
       "      <td>-2.184249</td>\n",
       "      <td>littl</td>\n",
       "      <td>-2.245837</td>\n",
       "      <td>realli</td>\n",
       "    </tr>\n",
       "    <tr>\n",
       "      <th>1</th>\n",
       "      <td>-2.172209</td>\n",
       "      <td>much</td>\n",
       "      <td>-2.224468</td>\n",
       "      <td>bought</td>\n",
       "    </tr>\n",
       "    <tr>\n",
       "      <th>2</th>\n",
       "      <td>-2.167995</td>\n",
       "      <td>dont</td>\n",
       "      <td>-2.203547</td>\n",
       "      <td>amazon</td>\n",
       "    </tr>\n",
       "    <tr>\n",
       "      <th>3</th>\n",
       "      <td>-2.148901</td>\n",
       "      <td>amazon</td>\n",
       "      <td>-2.200594</td>\n",
       "      <td>love</td>\n",
       "    </tr>\n",
       "    <tr>\n",
       "      <th>4</th>\n",
       "      <td>-2.133207</td>\n",
       "      <td>tea</td>\n",
       "      <td>-2.200594</td>\n",
       "      <td>disappoint</td>\n",
       "    </tr>\n",
       "    <tr>\n",
       "      <th>5</th>\n",
       "      <td>-2.123438</td>\n",
       "      <td>would</td>\n",
       "      <td>-2.185957</td>\n",
       "      <td>food</td>\n",
       "    </tr>\n",
       "    <tr>\n",
       "      <th>6</th>\n",
       "      <td>-2.095016</td>\n",
       "      <td>realli</td>\n",
       "      <td>-2.174399</td>\n",
       "      <td>time</td>\n",
       "    </tr>\n",
       "    <tr>\n",
       "      <th>7</th>\n",
       "      <td>-2.065481</td>\n",
       "      <td>also</td>\n",
       "      <td>-2.151677</td>\n",
       "      <td>box</td>\n",
       "    </tr>\n",
       "    <tr>\n",
       "      <th>8</th>\n",
       "      <td>-2.032498</td>\n",
       "      <td>buy</td>\n",
       "      <td>-2.105042</td>\n",
       "      <td>eat</td>\n",
       "    </tr>\n",
       "    <tr>\n",
       "      <th>9</th>\n",
       "      <td>-2.028222</td>\n",
       "      <td>eat</td>\n",
       "      <td>-2.081207</td>\n",
       "      <td>make</td>\n",
       "    </tr>\n",
       "    <tr>\n",
       "      <th>10</th>\n",
       "      <td>-2.025483</td>\n",
       "      <td>find</td>\n",
       "      <td>-2.063053</td>\n",
       "      <td>much</td>\n",
       "    </tr>\n",
       "    <tr>\n",
       "      <th>11</th>\n",
       "      <td>-2.001162</td>\n",
       "      <td>time</td>\n",
       "      <td>-1.979280</td>\n",
       "      <td>even</td>\n",
       "    </tr>\n",
       "    <tr>\n",
       "      <th>12</th>\n",
       "      <td>-1.876386</td>\n",
       "      <td>best</td>\n",
       "      <td>-1.915200</td>\n",
       "      <td>use</td>\n",
       "    </tr>\n",
       "    <tr>\n",
       "      <th>13</th>\n",
       "      <td>-1.808810</td>\n",
       "      <td>get</td>\n",
       "      <td>-1.884636</td>\n",
       "      <td>dont</td>\n",
       "    </tr>\n",
       "    <tr>\n",
       "      <th>14</th>\n",
       "      <td>-1.663724</td>\n",
       "      <td>make</td>\n",
       "      <td>-1.871819</td>\n",
       "      <td>order</td>\n",
       "    </tr>\n",
       "    <tr>\n",
       "      <th>15</th>\n",
       "      <td>-1.611553</td>\n",
       "      <td>product</td>\n",
       "      <td>-1.788369</td>\n",
       "      <td>get</td>\n",
       "    </tr>\n",
       "    <tr>\n",
       "      <th>16</th>\n",
       "      <td>-1.602752</td>\n",
       "      <td>tri</td>\n",
       "      <td>-1.698774</td>\n",
       "      <td>buy</td>\n",
       "    </tr>\n",
       "    <tr>\n",
       "      <th>17</th>\n",
       "      <td>-1.573896</td>\n",
       "      <td>use</td>\n",
       "      <td>-1.681077</td>\n",
       "      <td>flavor</td>\n",
       "    </tr>\n",
       "    <tr>\n",
       "      <th>18</th>\n",
       "      <td>-1.534996</td>\n",
       "      <td>one</td>\n",
       "      <td>-1.577841</td>\n",
       "      <td>good</td>\n",
       "    </tr>\n",
       "    <tr>\n",
       "      <th>19</th>\n",
       "      <td>-1.459906</td>\n",
       "      <td>flavor</td>\n",
       "      <td>-1.542101</td>\n",
       "      <td>tri</td>\n",
       "    </tr>\n",
       "    <tr>\n",
       "      <th>20</th>\n",
       "      <td>-1.369191</td>\n",
       "      <td>love</td>\n",
       "      <td>-1.542101</td>\n",
       "      <td>would</td>\n",
       "    </tr>\n",
       "    <tr>\n",
       "      <th>21</th>\n",
       "      <td>-1.331136</td>\n",
       "      <td>good</td>\n",
       "      <td>-1.433707</td>\n",
       "      <td>one</td>\n",
       "    </tr>\n",
       "    <tr>\n",
       "      <th>22</th>\n",
       "      <td>-1.290387</td>\n",
       "      <td>great</td>\n",
       "      <td>-1.229953</td>\n",
       "      <td>product</td>\n",
       "    </tr>\n",
       "    <tr>\n",
       "      <th>23</th>\n",
       "      <td>-1.260385</td>\n",
       "      <td>like</td>\n",
       "      <td>-1.091421</td>\n",
       "      <td>like</td>\n",
       "    </tr>\n",
       "    <tr>\n",
       "      <th>24</th>\n",
       "      <td>-1.218698</td>\n",
       "      <td>tast</td>\n",
       "      <td>-1.044861</td>\n",
       "      <td>tast</td>\n",
       "    </tr>\n",
       "  </tbody>\n",
       "</table>\n",
       "</div>"
      ],
      "text/plain": [
       "    Positive Values Positive Words  Negative Values Negative Words\n",
       "0         -2.184249          littl        -2.245837         realli\n",
       "1         -2.172209           much        -2.224468         bought\n",
       "2         -2.167995           dont        -2.203547         amazon\n",
       "3         -2.148901         amazon        -2.200594           love\n",
       "4         -2.133207            tea        -2.200594     disappoint\n",
       "5         -2.123438          would        -2.185957           food\n",
       "6         -2.095016         realli        -2.174399           time\n",
       "7         -2.065481           also        -2.151677            box\n",
       "8         -2.032498            buy        -2.105042            eat\n",
       "9         -2.028222            eat        -2.081207           make\n",
       "10        -2.025483           find        -2.063053           much\n",
       "11        -2.001162           time        -1.979280           even\n",
       "12        -1.876386           best        -1.915200            use\n",
       "13        -1.808810            get        -1.884636           dont\n",
       "14        -1.663724           make        -1.871819          order\n",
       "15        -1.611553        product        -1.788369            get\n",
       "16        -1.602752            tri        -1.698774            buy\n",
       "17        -1.573896            use        -1.681077         flavor\n",
       "18        -1.534996            one        -1.577841           good\n",
       "19        -1.459906         flavor        -1.542101            tri\n",
       "20        -1.369191           love        -1.542101          would\n",
       "21        -1.331136           good        -1.433707            one\n",
       "22        -1.290387          great        -1.229953        product\n",
       "23        -1.260385           like        -1.091421           like\n",
       "24        -1.218698           tast        -1.044861           tast"
      ]
     },
     "execution_count": 544,
     "metadata": {},
     "output_type": "execute_result"
    }
   ],
   "source": [
    "top_25_features(nb_optimal,count_vect)"
   ]
  },
  {
   "cell_type": "markdown",
   "metadata": {},
   "source": [
    "### Trigram - MultinomialNB"
   ]
  },
  {
   "cell_type": "code",
   "execution_count": 545,
   "metadata": {},
   "outputs": [
    {
     "data": {
      "text/plain": [
       "346013    got excel servic movi arriv promis date qualit...\n",
       "59348     recepi box produc good muffin need add egg mak...\n",
       "2009      tast better look first thing said skeptic look...\n",
       "381644    look gluten free cereal sweet one tast like co...\n",
       "259086    navita natur certifi organ goji berri wonder s...\n",
       "Name: Cleaned_Text, dtype: object"
      ]
     },
     "execution_count": 545,
     "metadata": {},
     "output_type": "execute_result"
    }
   ],
   "source": [
    "x_train, x_test, y_train, y_test = train_test_split(nb_data['Cleaned_Text'] ,nb_data['Score'], test_size=0.3, random_state=0)\n",
    "x_test.head()"
   ]
  },
  {
   "cell_type": "code",
   "execution_count": 546,
   "metadata": {},
   "outputs": [],
   "source": [
    "ngram_vect = CountVectorizer(ngram_range=(1,3))\n",
    "x_train = ngram_vect.fit_transform(x_train)\n",
    "x_train = normalize(x_train)\n",
    "x_test = ngram_vect.transform(x_test)\n",
    "x_test = normalize(x_test)"
   ]
  },
  {
   "cell_type": "code",
   "execution_count": 117,
   "metadata": {},
   "outputs": [
    {
     "name": "stdout",
     "output_type": "stream",
     "text": [
      "Fitting 5 folds for each of 15 candidates, totalling 75 fits\n"
     ]
    },
    {
     "name": "stderr",
     "output_type": "stream",
     "text": [
      "[Parallel(n_jobs=1)]: Done  75 out of  75 | elapsed:   14.9s finished\n"
     ]
    },
    {
     "data": {
      "text/plain": [
       "GridSearchCV(cv=TimeSeriesSplit(max_train_size=None, n_splits=5),\n",
       "       error_score='raise',\n",
       "       estimator=MultinomialNB(alpha=1.0, class_prior=None, fit_prior=True),\n",
       "       fit_params=None, iid=True, n_jobs=1,\n",
       "       param_grid={'alpha': [0.0005, 0.0001, 0.005, 0.001, 0.05, 0.01, 0.5, 0.1, 0, 1, 10, 50, 100, 500, 1000]},\n",
       "       pre_dispatch='2*n_jobs', refit=True, return_train_score='warn',\n",
       "       scoring=None, verbose=1)"
      ]
     },
     "execution_count": 117,
     "metadata": {},
     "output_type": "execute_result"
    }
   ],
   "source": [
    "nb = MultinomialNB()\n",
    "time_split_cv = TimeSeriesSplit(n_splits = 5)\n",
    "alpha_list = [0.0005,0.0001,0.005,0.001,0.05,0.01,0.5,0.1,0,1,10,50,100,500,1000]\n",
    "param_grid = {'alpha':alpha_list}\n",
    "grid_search = GridSearchCV(nb,param_grid,cv=time_split_cv,verbose=1)\n",
    "grid_search.fit(x_train,y_train)"
   ]
  },
  {
   "cell_type": "code",
   "execution_count": 118,
   "metadata": {},
   "outputs": [],
   "source": [
    "save_data(grid_search.cv_results_,'trigram_grid_search_nb')"
   ]
  },
  {
   "cell_type": "code",
   "execution_count": 119,
   "metadata": {},
   "outputs": [
    {
     "data": {
      "image/png": "[encoded data removed]",
      "text/plain": [
       "<Figure size 432x288 with 1 Axes>"
      ]
     },
     "metadata": {},
     "output_type": "display_data"
    }
   ],
   "source": [
    "acc_vs_kvalue_plot(grid_search.cv_results_['mean_test_score']*100)"
   ]
  },
  {
   "cell_type": "code",
   "execution_count": 120,
   "metadata": {},
   "outputs": [
    {
     "name": "stdout",
     "output_type": "stream",
     "text": [
      "Best Alpha-Value  0\n",
      "Best Accuracy 89.657094%\n"
     ]
    }
   ],
   "source": [
    "print('Best Alpha-Value ',grid_search.best_params_.get('alpha'))\n",
    "print('Best Accuracy %f% %'%(grid_search.best_score_*100))"
   ]
  },
  {
   "cell_type": "code",
   "execution_count": 123,
   "metadata": {},
   "outputs": [],
   "source": [
    "nb_optimal = MultinomialNB(alpha = grid_search.best_params_.get('alpha'))\n",
    "nb_optimal.fit(x_train, y_train)\n",
    "pred = nb_optimal.predict(x_test)\n",
    "acc = accuracy_score(y_test, pred) * 100"
   ]
  },
  {
   "cell_type": "code",
   "execution_count": 124,
   "metadata": {},
   "outputs": [
    {
     "data": {
      "text/html": [
       "<div>\n",
       "<style scoped>\n",
       "    .dataframe tbody tr th:only-of-type {\n",
       "        vertical-align: middle;\n",
       "    }\n",
       "\n",
       "    .dataframe tbody tr th {\n",
       "        vertical-align: top;\n",
       "    }\n",
       "\n",
       "    .dataframe thead th {\n",
       "        text-align: right;\n",
       "    }\n",
       "</style>\n",
       "<table border=\"1\" class=\"dataframe\">\n",
       "  <thead>\n",
       "    <tr style=\"text-align: right;\">\n",
       "      <th></th>\n",
       "      <th>Accuracy</th>\n",
       "      <th>Precision score</th>\n",
       "      <th>Recall score</th>\n",
       "      <th>F1 score</th>\n",
       "    </tr>\n",
       "  </thead>\n",
       "  <tbody>\n",
       "    <tr>\n",
       "      <th>0</th>\n",
       "      <td>89.558333</td>\n",
       "      <td>0.89609</td>\n",
       "      <td>0.998123</td>\n",
       "      <td>0.944358</td>\n",
       "    </tr>\n",
       "  </tbody>\n",
       "</table>\n",
       "</div>"
      ],
      "text/plain": [
       "    Accuracy  Precision score  Recall score  F1 score\n",
       "0  89.558333          0.89609      0.998123  0.944358"
      ]
     },
     "execution_count": 124,
     "metadata": {},
     "output_type": "execute_result"
    }
   ],
   "source": [
    "metric_scores(y_test,pred)"
   ]
  },
  {
   "cell_type": "code",
   "execution_count": 125,
   "metadata": {},
   "outputs": [
    {
     "name": "stdout",
     "output_type": "stream",
     "text": [
      "True Positive 10633\n",
      "True Negative 114\n",
      "False Positive 1233\n",
      "False Negative 20\n"
     ]
    },
    {
     "data": {
      "image/png": "[encoded data removed]",
      "text/plain": [
       "<Figure size 432x288 with 2 Axes>"
      ]
     },
     "metadata": {},
     "output_type": "display_data"
    }
   ],
   "source": [
    "confusion_matrix_plot(y_test,pred)"
   ]
  },
  {
   "cell_type": "markdown",
   "metadata": {},
   "source": [
    "### Trigram -BernoulliNB"
   ]
  },
  {
   "cell_type": "code",
   "execution_count": 547,
   "metadata": {},
   "outputs": [
    {
     "name": "stdout",
     "output_type": "stream",
     "text": [
      "Fitting 5 folds for each of 15 candidates, totalling 75 fits\n"
     ]
    },
    {
     "name": "stderr",
     "output_type": "stream",
     "text": [
      "[Parallel(n_jobs=1)]: Done  75 out of  75 | elapsed:   34.6s finished\n"
     ]
    },
    {
     "data": {
      "text/plain": [
       "GridSearchCV(cv=TimeSeriesSplit(max_train_size=None, n_splits=5),\n",
       "       error_score='raise',\n",
       "       estimator=BernoulliNB(alpha=1.0, binarize=0.0, class_prior=None, fit_prior=True),\n",
       "       fit_params=None, iid=True, n_jobs=1,\n",
       "       param_grid={'alpha': [0.0005, 0.0001, 0.005, 0.001, 0.05, 0.01, 0.5, 0.1, 0, 1, 10, 50, 100, 500, 1000]},\n",
       "       pre_dispatch='2*n_jobs', refit=True, return_train_score='warn',\n",
       "       scoring=None, verbose=1)"
      ]
     },
     "execution_count": 547,
     "metadata": {},
     "output_type": "execute_result"
    }
   ],
   "source": [
    "nb = BernoulliNB()\n",
    "time_split_cv = TimeSeriesSplit(n_splits = 5)\n",
    "alpha_list = [0.0005,0.0001,0.005,0.001,0.05,0.01,0.5,0.1,0,1,10,50,100,500,1000]\n",
    "param_grid = {'alpha':alpha_list}\n",
    "grid_search = GridSearchCV(nb,param_grid,cv=time_split_cv,verbose=1)\n",
    "grid_search.fit(x_train,y_train)"
   ]
  },
  {
   "cell_type": "code",
   "execution_count": 204,
   "metadata": {},
   "outputs": [],
   "source": [
    "save_data(grid_search.cv_results_,'trigram_grid_search_nb_2')"
   ]
  },
  {
   "cell_type": "code",
   "execution_count": 205,
   "metadata": {},
   "outputs": [
    {
     "data": {
      "image/png": "[encoded data removed]",
      "text/plain": [
       "<Figure size 432x288 with 1 Axes>"
      ]
     },
     "metadata": {},
     "output_type": "display_data"
    }
   ],
   "source": [
    "acc_vs_kvalue_plot(grid_search.cv_results_['mean_test_score']*100)"
   ]
  },
  {
   "cell_type": "code",
   "execution_count": 206,
   "metadata": {},
   "outputs": [
    {
     "name": "stdout",
     "output_type": "stream",
     "text": [
      "Best Alpha-Value  0\n",
      "Best Accuracy 89.215602%\n"
     ]
    }
   ],
   "source": [
    "print('Best Alpha-Value ',grid_search.best_params_.get('alpha'))\n",
    "print('Best Accuracy %f% %'%(grid_search.best_score_*100))"
   ]
  },
  {
   "cell_type": "code",
   "execution_count": 548,
   "metadata": {},
   "outputs": [],
   "source": [
    "nb_optimal = BernoulliNB(alpha = grid_search.best_params_.get('alpha'))\n",
    "nb_optimal.fit(x_train, y_train)\n",
    "pred = nb_optimal.predict(x_test)\n",
    "acc = accuracy_score(y_test, pred) * 100"
   ]
  },
  {
   "cell_type": "code",
   "execution_count": 208,
   "metadata": {},
   "outputs": [
    {
     "data": {
      "text/html": [
       "<div>\n",
       "<style scoped>\n",
       "    .dataframe tbody tr th:only-of-type {\n",
       "        vertical-align: middle;\n",
       "    }\n",
       "\n",
       "    .dataframe tbody tr th {\n",
       "        vertical-align: top;\n",
       "    }\n",
       "\n",
       "    .dataframe thead th {\n",
       "        text-align: right;\n",
       "    }\n",
       "</style>\n",
       "<table border=\"1\" class=\"dataframe\">\n",
       "  <thead>\n",
       "    <tr style=\"text-align: right;\">\n",
       "      <th></th>\n",
       "      <th>Accuracy</th>\n",
       "      <th>Precision score</th>\n",
       "      <th>Recall score</th>\n",
       "      <th>F1 score</th>\n",
       "    </tr>\n",
       "  </thead>\n",
       "  <tbody>\n",
       "    <tr>\n",
       "      <th>0</th>\n",
       "      <td>89.491667</td>\n",
       "      <td>0.896823</td>\n",
       "      <td>0.996245</td>\n",
       "      <td>0.943923</td>\n",
       "    </tr>\n",
       "  </tbody>\n",
       "</table>\n",
       "</div>"
      ],
      "text/plain": [
       "    Accuracy  Precision score  Recall score  F1 score\n",
       "0  89.491667         0.896823      0.996245  0.943923"
      ]
     },
     "execution_count": 208,
     "metadata": {},
     "output_type": "execute_result"
    }
   ],
   "source": [
    "metric_scores(y_test,pred)"
   ]
  },
  {
   "cell_type": "code",
   "execution_count": 209,
   "metadata": {},
   "outputs": [
    {
     "name": "stdout",
     "output_type": "stream",
     "text": [
      "True Positive 10613\n",
      "True Negative 126\n",
      "False Positive 1221\n",
      "False Negative 40\n"
     ]
    },
    {
     "data": {
      "image/png": "[encoded data removed]",
      "text/plain": [
       "<Figure size 432x288 with 2 Axes>"
      ]
     },
     "metadata": {},
     "output_type": "display_data"
    }
   ],
   "source": [
    "confusion_matrix_plot(y_test,pred)"
   ]
  },
  {
   "cell_type": "markdown",
   "metadata": {},
   "source": [
    "### Top 25 Important Features for both Positive and Negative Class"
   ]
  },
  {
   "cell_type": "code",
   "execution_count": 549,
   "metadata": {},
   "outputs": [
    {
     "data": {
      "text/html": [
       "<div>\n",
       "<style scoped>\n",
       "    .dataframe tbody tr th:only-of-type {\n",
       "        vertical-align: middle;\n",
       "    }\n",
       "\n",
       "    .dataframe tbody tr th {\n",
       "        vertical-align: top;\n",
       "    }\n",
       "\n",
       "    .dataframe thead th {\n",
       "        text-align: right;\n",
       "    }\n",
       "</style>\n",
       "<table border=\"1\" class=\"dataframe\">\n",
       "  <thead>\n",
       "    <tr style=\"text-align: right;\">\n",
       "      <th></th>\n",
       "      <th>Positive Values</th>\n",
       "      <th>Positive Words</th>\n",
       "      <th>Negative Values</th>\n",
       "      <th>Negative Words</th>\n",
       "    </tr>\n",
       "  </thead>\n",
       "  <tbody>\n",
       "    <tr>\n",
       "      <th>0</th>\n",
       "      <td>-2.184276</td>\n",
       "      <td>littl</td>\n",
       "      <td>-2.246080</td>\n",
       "      <td>realli</td>\n",
       "    </tr>\n",
       "    <tr>\n",
       "      <th>1</th>\n",
       "      <td>-2.172237</td>\n",
       "      <td>much</td>\n",
       "      <td>-2.224705</td>\n",
       "      <td>bought</td>\n",
       "    </tr>\n",
       "    <tr>\n",
       "      <th>2</th>\n",
       "      <td>-2.168022</td>\n",
       "      <td>dont</td>\n",
       "      <td>-2.203778</td>\n",
       "      <td>amazon</td>\n",
       "    </tr>\n",
       "    <tr>\n",
       "      <th>3</th>\n",
       "      <td>-2.148927</td>\n",
       "      <td>amazon</td>\n",
       "      <td>-2.200823</td>\n",
       "      <td>love</td>\n",
       "    </tr>\n",
       "    <tr>\n",
       "      <th>4</th>\n",
       "      <td>-2.133233</td>\n",
       "      <td>tea</td>\n",
       "      <td>-2.200823</td>\n",
       "      <td>disappoint</td>\n",
       "    </tr>\n",
       "    <tr>\n",
       "      <th>5</th>\n",
       "      <td>-2.123463</td>\n",
       "      <td>would</td>\n",
       "      <td>-2.186182</td>\n",
       "      <td>food</td>\n",
       "    </tr>\n",
       "    <tr>\n",
       "      <th>6</th>\n",
       "      <td>-2.095041</td>\n",
       "      <td>realli</td>\n",
       "      <td>-2.174621</td>\n",
       "      <td>time</td>\n",
       "    </tr>\n",
       "    <tr>\n",
       "      <th>7</th>\n",
       "      <td>-2.065504</td>\n",
       "      <td>also</td>\n",
       "      <td>-2.151893</td>\n",
       "      <td>box</td>\n",
       "    </tr>\n",
       "    <tr>\n",
       "      <th>8</th>\n",
       "      <td>-2.032521</td>\n",
       "      <td>buy</td>\n",
       "      <td>-2.105245</td>\n",
       "      <td>eat</td>\n",
       "    </tr>\n",
       "    <tr>\n",
       "      <th>9</th>\n",
       "      <td>-2.028244</td>\n",
       "      <td>eat</td>\n",
       "      <td>-2.081403</td>\n",
       "      <td>make</td>\n",
       "    </tr>\n",
       "    <tr>\n",
       "      <th>10</th>\n",
       "      <td>-2.025505</td>\n",
       "      <td>find</td>\n",
       "      <td>-2.063244</td>\n",
       "      <td>much</td>\n",
       "    </tr>\n",
       "    <tr>\n",
       "      <th>11</th>\n",
       "      <td>-2.001183</td>\n",
       "      <td>time</td>\n",
       "      <td>-1.979451</td>\n",
       "      <td>even</td>\n",
       "    </tr>\n",
       "    <tr>\n",
       "      <th>12</th>\n",
       "      <td>-1.876404</td>\n",
       "      <td>best</td>\n",
       "      <td>-1.915356</td>\n",
       "      <td>use</td>\n",
       "    </tr>\n",
       "    <tr>\n",
       "      <th>13</th>\n",
       "      <td>-1.808826</td>\n",
       "      <td>get</td>\n",
       "      <td>-1.884786</td>\n",
       "      <td>dont</td>\n",
       "    </tr>\n",
       "    <tr>\n",
       "      <th>14</th>\n",
       "      <td>-1.663737</td>\n",
       "      <td>make</td>\n",
       "      <td>-1.871965</td>\n",
       "      <td>order</td>\n",
       "    </tr>\n",
       "    <tr>\n",
       "      <th>15</th>\n",
       "      <td>-1.611565</td>\n",
       "      <td>product</td>\n",
       "      <td>-1.788499</td>\n",
       "      <td>get</td>\n",
       "    </tr>\n",
       "    <tr>\n",
       "      <th>16</th>\n",
       "      <td>-1.602764</td>\n",
       "      <td>tri</td>\n",
       "      <td>-1.698887</td>\n",
       "      <td>buy</td>\n",
       "    </tr>\n",
       "    <tr>\n",
       "      <th>17</th>\n",
       "      <td>-1.573907</td>\n",
       "      <td>use</td>\n",
       "      <td>-1.681187</td>\n",
       "      <td>flavor</td>\n",
       "    </tr>\n",
       "    <tr>\n",
       "      <th>18</th>\n",
       "      <td>-1.535006</td>\n",
       "      <td>one</td>\n",
       "      <td>-1.577934</td>\n",
       "      <td>good</td>\n",
       "    </tr>\n",
       "    <tr>\n",
       "      <th>19</th>\n",
       "      <td>-1.459915</td>\n",
       "      <td>flavor</td>\n",
       "      <td>-1.542188</td>\n",
       "      <td>tri</td>\n",
       "    </tr>\n",
       "    <tr>\n",
       "      <th>20</th>\n",
       "      <td>-1.369199</td>\n",
       "      <td>love</td>\n",
       "      <td>-1.542188</td>\n",
       "      <td>would</td>\n",
       "    </tr>\n",
       "    <tr>\n",
       "      <th>21</th>\n",
       "      <td>-1.331143</td>\n",
       "      <td>good</td>\n",
       "      <td>-1.433779</td>\n",
       "      <td>one</td>\n",
       "    </tr>\n",
       "    <tr>\n",
       "      <th>22</th>\n",
       "      <td>-1.290394</td>\n",
       "      <td>great</td>\n",
       "      <td>-1.230000</td>\n",
       "      <td>product</td>\n",
       "    </tr>\n",
       "    <tr>\n",
       "      <th>23</th>\n",
       "      <td>-1.260391</td>\n",
       "      <td>like</td>\n",
       "      <td>-1.091453</td>\n",
       "      <td>like</td>\n",
       "    </tr>\n",
       "    <tr>\n",
       "      <th>24</th>\n",
       "      <td>-1.218704</td>\n",
       "      <td>tast</td>\n",
       "      <td>-1.044889</td>\n",
       "      <td>tast</td>\n",
       "    </tr>\n",
       "  </tbody>\n",
       "</table>\n",
       "</div>"
      ],
      "text/plain": [
       "    Positive Values Positive Words  Negative Values Negative Words\n",
       "0         -2.184276          littl        -2.246080         realli\n",
       "1         -2.172237           much        -2.224705         bought\n",
       "2         -2.168022           dont        -2.203778         amazon\n",
       "3         -2.148927         amazon        -2.200823           love\n",
       "4         -2.133233            tea        -2.200823     disappoint\n",
       "5         -2.123463          would        -2.186182           food\n",
       "6         -2.095041         realli        -2.174621           time\n",
       "7         -2.065504           also        -2.151893            box\n",
       "8         -2.032521            buy        -2.105245            eat\n",
       "9         -2.028244            eat        -2.081403           make\n",
       "10        -2.025505           find        -2.063244           much\n",
       "11        -2.001183           time        -1.979451           even\n",
       "12        -1.876404           best        -1.915356            use\n",
       "13        -1.808826            get        -1.884786           dont\n",
       "14        -1.663737           make        -1.871965          order\n",
       "15        -1.611565        product        -1.788499            get\n",
       "16        -1.602764            tri        -1.698887            buy\n",
       "17        -1.573907            use        -1.681187         flavor\n",
       "18        -1.535006            one        -1.577934           good\n",
       "19        -1.459915         flavor        -1.542188            tri\n",
       "20        -1.369199           love        -1.542188          would\n",
       "21        -1.331143           good        -1.433779            one\n",
       "22        -1.290394          great        -1.230000        product\n",
       "23        -1.260391           like        -1.091453           like\n",
       "24        -1.218704           tast        -1.044889           tast"
      ]
     },
     "execution_count": 549,
     "metadata": {},
     "output_type": "execute_result"
    }
   ],
   "source": [
    "top_25_features(nb_optimal,ngram_vect)"
   ]
  },
  {
   "cell_type": "markdown",
   "metadata": {},
   "source": [
    "### Word2Vec - Bernoulli NB"
   ]
  },
  {
   "cell_type": "code",
   "execution_count": 138,
   "metadata": {},
   "outputs": [
    {
     "data": {
      "text/plain": [
       "420113    sho like serious realli good quit cheesi mix p...\n",
       "163143    first loos leaf tea ever tri direct said teasp...\n",
       "355051    youv ever eaten indian food good restaur india...\n",
       "421880    purchas birthday gift friend hoot hit natur ch...\n",
       "17807     disappoint qualiti product smell stale tast su...\n",
       "Name: Cleaned_Text, dtype: object"
      ]
     },
     "execution_count": 138,
     "metadata": {},
     "output_type": "execute_result"
    }
   ],
   "source": [
    "x_train, x_test, y_train, y_test = train_test_split(nb_data['Cleaned_Text'] ,nb_data['Score'], test_size=0.3, random_state=0)\n",
    "x_train.head()"
   ]
  },
  {
   "cell_type": "code",
   "execution_count": 139,
   "metadata": {},
   "outputs": [],
   "source": [
    "list_of_sent = []\n",
    "for sent in x_train.values:\n",
    "    list_of_sent.append(sent.split())"
   ]
  },
  {
   "cell_type": "code",
   "execution_count": 140,
   "metadata": {},
   "outputs": [],
   "source": [
    "w2v_model = Word2Vec(list_of_sent,min_count=5,workers=4,size=100)"
   ]
  },
  {
   "cell_type": "code",
   "execution_count": 141,
   "metadata": {},
   "outputs": [],
   "source": [
    "w2v_words = list(w2v_model.wv.vocab)"
   ]
  },
  {
   "cell_type": "code",
   "execution_count": 142,
   "metadata": {},
   "outputs": [],
   "source": [
    "sent_vectors = []; # the avg-w2v for each sentence/review is stored in this list\n",
    "for sent in list_of_sent: # for each review/sentence\n",
    "    sent_vec = np.zeros(100) # as word vectors are of zero length\n",
    "    cnt_words =0; # num of words with a valid vector in the sentence/review\n",
    "    for word in sent: # for each word in a review/sentence\n",
    "        if word in w2v_words:\n",
    "            vec = w2v_model.wv[word]\n",
    "            sent_vec += vec\n",
    "            #print(sent_vec)\n",
    "            cnt_words += 1\n",
    "            #print(cnt_words)\n",
    "    if cnt_words != 0:\n",
    "        sent_vec /= cnt_words\n",
    "    sent_vectors.append(sent_vec)"
   ]
  },
  {
   "cell_type": "code",
   "execution_count": 143,
   "metadata": {},
   "outputs": [],
   "source": [
    "sent_vectors_arr = np.asarray(sent_vectors)"
   ]
  },
  {
   "cell_type": "code",
   "execution_count": 144,
   "metadata": {},
   "outputs": [],
   "source": [
    "sent_vectors_normalize = normalize(sent_vectors_arr)"
   ]
  },
  {
   "cell_type": "code",
   "execution_count": 145,
   "metadata": {},
   "outputs": [],
   "source": [
    "x_train, x_test, y_train, y_test = train_test_split(sent_vectors_normalize ,y_train, test_size=0.3, random_state=0)"
   ]
  },
  {
   "cell_type": "code",
   "execution_count": 148,
   "metadata": {},
   "outputs": [
    {
     "name": "stdout",
     "output_type": "stream",
     "text": [
      "Fitting 5 folds for each of 15 candidates, totalling 75 fits\n"
     ]
    },
    {
     "name": "stderr",
     "output_type": "stream",
     "text": [
      "[Parallel(n_jobs=1)]: Done  75 out of  75 | elapsed:    4.1s finished\n"
     ]
    },
    {
     "data": {
      "text/plain": [
       "GridSearchCV(cv=TimeSeriesSplit(max_train_size=None, n_splits=5),\n",
       "       error_score='raise',\n",
       "       estimator=BernoulliNB(alpha=1.0, binarize=0.0, class_prior=None, fit_prior=True),\n",
       "       fit_params=None, iid=True, n_jobs=1,\n",
       "       param_grid={'alpha': [0.0005, 0.0001, 0.005, 0.001, 0.05, 0.01, 0.5, 0.1, 0, 1, 10, 50, 100, 500, 1000]},\n",
       "       pre_dispatch='2*n_jobs', refit=True, return_train_score='warn',\n",
       "       scoring=None, verbose=1)"
      ]
     },
     "execution_count": 148,
     "metadata": {},
     "output_type": "execute_result"
    }
   ],
   "source": [
    "nb = BernoulliNB()\n",
    "time_split_cv = TimeSeriesSplit(n_splits = 5)\n",
    "alpha_list = [0.0005,0.0001,0.005,0.001,0.05,0.01,0.5,0.1,0,1,10,50,100,500,1000]\n",
    "param_grid = {'alpha':alpha_list}\n",
    "grid_search = GridSearchCV(nb,param_grid,cv=time_split_cv,verbose=1)\n",
    "grid_search.fit(x_train,y_train)"
   ]
  },
  {
   "cell_type": "code",
   "execution_count": 149,
   "metadata": {},
   "outputs": [],
   "source": [
    "save_data(grid_search.cv_results_,'w2v_grid_search_nb_2')"
   ]
  },
  {
   "cell_type": "code",
   "execution_count": 150,
   "metadata": {},
   "outputs": [
    {
     "data": {
      "image/png": "[encoded data removed]",
      "text/plain": [
       "<Figure size 432x288 with 1 Axes>"
      ]
     },
     "metadata": {},
     "output_type": "display_data"
    }
   ],
   "source": [
    "acc_vs_kvalue_plot(grid_search.cv_results_['mean_test_score']*100)"
   ]
  },
  {
   "cell_type": "code",
   "execution_count": 151,
   "metadata": {},
   "outputs": [
    {
     "name": "stdout",
     "output_type": "stream",
     "text": [
      "Best Alpha-Value  1000\n",
      "Best Accuracy 88.352725%\n"
     ]
    }
   ],
   "source": [
    "print('Best Alpha-Value ',grid_search.best_params_.get('alpha'))\n",
    "print('Best Accuracy %f% %'%(grid_search.best_score_*100))"
   ]
  },
  {
   "cell_type": "code",
   "execution_count": 152,
   "metadata": {},
   "outputs": [],
   "source": [
    "nb_optimal = BernoulliNB(alpha = grid_search.best_params_.get('alpha'))\n",
    "nb_optimal.fit(x_train, y_train)\n",
    "pred = nb_optimal.predict(x_test)\n",
    "acc = accuracy_score(y_test, pred) * 100"
   ]
  },
  {
   "cell_type": "code",
   "execution_count": 153,
   "metadata": {},
   "outputs": [
    {
     "data": {
      "text/html": [
       "<div>\n",
       "<style scoped>\n",
       "    .dataframe tbody tr th:only-of-type {\n",
       "        vertical-align: middle;\n",
       "    }\n",
       "\n",
       "    .dataframe tbody tr th {\n",
       "        vertical-align: top;\n",
       "    }\n",
       "\n",
       "    .dataframe thead th {\n",
       "        text-align: right;\n",
       "    }\n",
       "</style>\n",
       "<table border=\"1\" class=\"dataframe\">\n",
       "  <thead>\n",
       "    <tr style=\"text-align: right;\">\n",
       "      <th></th>\n",
       "      <th>Accuracy</th>\n",
       "      <th>Precision score</th>\n",
       "      <th>Recall score</th>\n",
       "      <th>F1 score</th>\n",
       "    </tr>\n",
       "  </thead>\n",
       "  <tbody>\n",
       "    <tr>\n",
       "      <th>0</th>\n",
       "      <td>87.345238</td>\n",
       "      <td>0.898744</td>\n",
       "      <td>0.966685</td>\n",
       "      <td>0.931477</td>\n",
       "    </tr>\n",
       "  </tbody>\n",
       "</table>\n",
       "</div>"
      ],
      "text/plain": [
       "    Accuracy  Precision score  Recall score  F1 score\n",
       "0  87.345238         0.898744      0.966685  0.931477"
      ]
     },
     "execution_count": 153,
     "metadata": {},
     "output_type": "execute_result"
    }
   ],
   "source": [
    "metric_scores(y_test,pred)"
   ]
  },
  {
   "cell_type": "code",
   "execution_count": 154,
   "metadata": {},
   "outputs": [
    {
     "name": "stdout",
     "output_type": "stream",
     "text": [
      "True Positive 7225\n",
      "True Negative 112\n",
      "False Positive 814\n",
      "False Negative 249\n"
     ]
    },
    {
     "data": {
      "image/png": "[encoded data removed]",
      "text/plain": [
       "<Figure size 432x288 with 2 Axes>"
      ]
     },
     "metadata": {},
     "output_type": "display_data"
    }
   ],
   "source": [
    "confusion_matrix_plot(y_test,pred)"
   ]
  },
  {
   "cell_type": "markdown",
   "metadata": {},
   "source": [
    "### Tfidf - Multinomial NB"
   ]
  },
  {
   "cell_type": "code",
   "execution_count": 550,
   "metadata": {},
   "outputs": [
    {
     "data": {
      "text/plain": [
       "420113    sho like serious realli good quit cheesi mix p...\n",
       "163143    first loos leaf tea ever tri direct said teasp...\n",
       "355051    youv ever eaten indian food good restaur india...\n",
       "421880    purchas birthday gift friend hoot hit natur ch...\n",
       "17807     disappoint qualiti product smell stale tast su...\n",
       "Name: Cleaned_Text, dtype: object"
      ]
     },
     "execution_count": 550,
     "metadata": {},
     "output_type": "execute_result"
    }
   ],
   "source": [
    "x_train, x_test, y_train, y_test = train_test_split(nb_data['Cleaned_Text'] ,nb_data['Score'], test_size=0.3, random_state=0)\n",
    "x_train.head()"
   ]
  },
  {
   "cell_type": "code",
   "execution_count": 551,
   "metadata": {},
   "outputs": [],
   "source": [
    "tf_idf_vect = TfidfVectorizer(ngram_range=(1,2))\n",
    "x_train = tf_idf_vect.fit_transform(x_train)\n",
    "x_train = normalize(x_train)\n",
    "x_test = tf_idf_vect.transform(x_test)\n",
    "x_test = normalize(x_test)"
   ]
  },
  {
   "cell_type": "code",
   "execution_count": 320,
   "metadata": {},
   "outputs": [
    {
     "name": "stdout",
     "output_type": "stream",
     "text": [
      "Fitting 5 folds for each of 15 candidates, totalling 75 fits\n"
     ]
    },
    {
     "name": "stderr",
     "output_type": "stream",
     "text": [
      "[Parallel(n_jobs=1)]: Done  75 out of  75 | elapsed:    5.7s finished\n"
     ]
    },
    {
     "data": {
      "text/plain": [
       "GridSearchCV(cv=TimeSeriesSplit(max_train_size=None, n_splits=5),\n",
       "       error_score='raise',\n",
       "       estimator=MultinomialNB(alpha=1.0, class_prior=None, fit_prior=True),\n",
       "       fit_params=None, iid=True, n_jobs=1,\n",
       "       param_grid={'alpha': [0.0005, 0.0001, 0.005, 0.001, 0.05, 0.01, 0.5, 0.1, 0, 1, 10, 50, 100, 500, 1000]},\n",
       "       pre_dispatch='2*n_jobs', refit=True, return_train_score='warn',\n",
       "       scoring=None, verbose=1)"
      ]
     },
     "execution_count": 320,
     "metadata": {},
     "output_type": "execute_result"
    }
   ],
   "source": [
    "nb = MultinomialNB()\n",
    "time_split_cv = TimeSeriesSplit(n_splits = 5)\n",
    "alpha_list = [0.0005,0.0001,0.005,0.001,0.05,0.01,0.5,0.1,0,1,10,50,100,500,1000]\n",
    "param_grid = {'alpha':alpha_list}\n",
    "grid_search = GridSearchCV(nb,param_grid,cv=time_split_cv,verbose=1)\n",
    "grid_search.fit(x_train,y_train)"
   ]
  },
  {
   "cell_type": "code",
   "execution_count": 158,
   "metadata": {},
   "outputs": [],
   "source": [
    "save_data(grid_search.cv_results_,'tfidf_grid_search_nb')"
   ]
  },
  {
   "cell_type": "code",
   "execution_count": 159,
   "metadata": {},
   "outputs": [
    {
     "data": {
      "image/png": "[encoded data removed]",
      "text/plain": [
       "<Figure size 432x288 with 1 Axes>"
      ]
     },
     "metadata": {},
     "output_type": "display_data"
    }
   ],
   "source": [
    "acc_vs_kvalue_plot(grid_search.cv_results_['mean_test_score']*100)"
   ]
  },
  {
   "cell_type": "code",
   "execution_count": 160,
   "metadata": {},
   "outputs": [
    {
     "name": "stdout",
     "output_type": "stream",
     "text": [
      "Best Alpha-Value  0\n",
      "Best Accuracy 89.412773%\n"
     ]
    }
   ],
   "source": [
    "print('Best Alpha-Value ',grid_search.best_params_.get('alpha'))\n",
    "print('Best Accuracy %f% %'%(grid_search.best_score_*100))"
   ]
  },
  {
   "cell_type": "code",
   "execution_count": 161,
   "metadata": {},
   "outputs": [],
   "source": [
    "nb_optimal = MultinomialNB(alpha = grid_search.best_params_.get('alpha'))\n",
    "nb_optimal.fit(x_train, y_train)\n",
    "pred = nb_optimal.predict(x_test)\n",
    "acc = accuracy_score(y_test, pred) * 100"
   ]
  },
  {
   "cell_type": "code",
   "execution_count": 162,
   "metadata": {},
   "outputs": [
    {
     "data": {
      "text/html": [
       "<div>\n",
       "<style scoped>\n",
       "    .dataframe tbody tr th:only-of-type {\n",
       "        vertical-align: middle;\n",
       "    }\n",
       "\n",
       "    .dataframe tbody tr th {\n",
       "        vertical-align: top;\n",
       "    }\n",
       "\n",
       "    .dataframe thead th {\n",
       "        text-align: right;\n",
       "    }\n",
       "</style>\n",
       "<table border=\"1\" class=\"dataframe\">\n",
       "  <thead>\n",
       "    <tr style=\"text-align: right;\">\n",
       "      <th></th>\n",
       "      <th>Accuracy</th>\n",
       "      <th>Precision score</th>\n",
       "      <th>Recall score</th>\n",
       "      <th>F1 score</th>\n",
       "    </tr>\n",
       "  </thead>\n",
       "  <tbody>\n",
       "    <tr>\n",
       "      <th>0</th>\n",
       "      <td>89.4</td>\n",
       "      <td>0.895522</td>\n",
       "      <td>0.996902</td>\n",
       "      <td>0.943497</td>\n",
       "    </tr>\n",
       "  </tbody>\n",
       "</table>\n",
       "</div>"
      ],
      "text/plain": [
       "   Accuracy  Precision score  Recall score  F1 score\n",
       "0      89.4         0.895522      0.996902  0.943497"
      ]
     },
     "execution_count": 162,
     "metadata": {},
     "output_type": "execute_result"
    }
   ],
   "source": [
    "metric_scores(y_test,pred)"
   ]
  },
  {
   "cell_type": "code",
   "execution_count": 163,
   "metadata": {},
   "outputs": [
    {
     "name": "stdout",
     "output_type": "stream",
     "text": [
      "True Positive 10620\n",
      "True Negative 108\n",
      "False Positive 1239\n",
      "False Negative 33\n"
     ]
    },
    {
     "data": {
      "image/png": "[encoded data removed]",
      "text/plain": [
       "<Figure size 432x288 with 2 Axes>"
      ]
     },
     "metadata": {},
     "output_type": "display_data"
    }
   ],
   "source": [
    "confusion_matrix_plot(y_test,pred)"
   ]
  },
  {
   "cell_type": "markdown",
   "metadata": {},
   "source": [
    "### Tfidf BernoulliNB"
   ]
  },
  {
   "cell_type": "code",
   "execution_count": 552,
   "metadata": {},
   "outputs": [
    {
     "name": "stdout",
     "output_type": "stream",
     "text": [
      "Fitting 5 folds for each of 15 candidates, totalling 75 fits\n"
     ]
    },
    {
     "name": "stderr",
     "output_type": "stream",
     "text": [
      "[Parallel(n_jobs=1)]: Done  75 out of  75 | elapsed:    8.1s finished\n"
     ]
    },
    {
     "data": {
      "text/plain": [
       "GridSearchCV(cv=TimeSeriesSplit(max_train_size=None, n_splits=5),\n",
       "       error_score='raise',\n",
       "       estimator=BernoulliNB(alpha=1.0, binarize=0.0, class_prior=None, fit_prior=True),\n",
       "       fit_params=None, iid=True, n_jobs=1,\n",
       "       param_grid={'alpha': [0.0005, 0.0001, 0.005, 0.001, 0.05, 0.01, 0.5, 0.1, 0, 1, 10, 50, 100, 500, 1000]},\n",
       "       pre_dispatch='2*n_jobs', refit=True, return_train_score='warn',\n",
       "       scoring=None, verbose=1)"
      ]
     },
     "execution_count": 552,
     "metadata": {},
     "output_type": "execute_result"
    }
   ],
   "source": [
    "nb = BernoulliNB()\n",
    "time_split_cv = TimeSeriesSplit(n_splits = 5)\n",
    "alpha_list = [0.0005,0.0001,0.005,0.001,0.05,0.01,0.5,0.1,0,1,10,50,100,500,1000]\n",
    "param_grid = {'alpha':alpha_list}\n",
    "grid_search = GridSearchCV(nb,param_grid,cv=time_split_cv,verbose=1)\n",
    "grid_search.fit(x_train,y_train)"
   ]
  },
  {
   "cell_type": "code",
   "execution_count": 322,
   "metadata": {},
   "outputs": [],
   "source": [
    "save_data(grid_search.cv_results_,'tfidf_grid_search_nb_2')"
   ]
  },
  {
   "cell_type": "code",
   "execution_count": 323,
   "metadata": {},
   "outputs": [
    {
     "data": {
      "image/png": "[encoded data removed]",
      "text/plain": [
       "<Figure size 432x288 with 1 Axes>"
      ]
     },
     "metadata": {},
     "output_type": "display_data"
    }
   ],
   "source": [
    "acc_vs_kvalue_plot(grid_search.cv_results_['mean_test_score']*100)"
   ]
  },
  {
   "cell_type": "code",
   "execution_count": 553,
   "metadata": {},
   "outputs": [],
   "source": [
    "nb_optimal = BernoulliNB(alpha = grid_search.best_params_.get('alpha'))\n",
    "nb_optimal.fit(x_train, y_train)\n",
    "pred = nb_optimal.predict(x_test)\n",
    "acc = accuracy_score(y_test, pred) * 100"
   ]
  },
  {
   "cell_type": "code",
   "execution_count": 221,
   "metadata": {},
   "outputs": [
    {
     "data": {
      "text/html": [
       "<div>\n",
       "<style scoped>\n",
       "    .dataframe tbody tr th:only-of-type {\n",
       "        vertical-align: middle;\n",
       "    }\n",
       "\n",
       "    .dataframe tbody tr th {\n",
       "        vertical-align: top;\n",
       "    }\n",
       "\n",
       "    .dataframe thead th {\n",
       "        text-align: right;\n",
       "    }\n",
       "</style>\n",
       "<table border=\"1\" class=\"dataframe\">\n",
       "  <thead>\n",
       "    <tr style=\"text-align: right;\">\n",
       "      <th></th>\n",
       "      <th>Accuracy</th>\n",
       "      <th>Precision score</th>\n",
       "      <th>Recall score</th>\n",
       "      <th>F1 score</th>\n",
       "    </tr>\n",
       "  </thead>\n",
       "  <tbody>\n",
       "    <tr>\n",
       "      <th>0</th>\n",
       "      <td>89.45</td>\n",
       "      <td>0.896712</td>\n",
       "      <td>0.99587</td>\n",
       "      <td>0.943693</td>\n",
       "    </tr>\n",
       "  </tbody>\n",
       "</table>\n",
       "</div>"
      ],
      "text/plain": [
       "   Accuracy  Precision score  Recall score  F1 score\n",
       "0     89.45         0.896712       0.99587  0.943693"
      ]
     },
     "execution_count": 221,
     "metadata": {},
     "output_type": "execute_result"
    }
   ],
   "source": [
    "metric_scores(y_test,pred)"
   ]
  },
  {
   "cell_type": "code",
   "execution_count": 222,
   "metadata": {},
   "outputs": [
    {
     "name": "stdout",
     "output_type": "stream",
     "text": [
      "True Positive 10609\n",
      "True Negative 125\n",
      "False Positive 1222\n",
      "False Negative 44\n"
     ]
    },
    {
     "data": {
      "image/png": "[encoded data removed]",
      "text/plain": [
       "<Figure size 432x288 with 2 Axes>"
      ]
     },
     "metadata": {},
     "output_type": "display_data"
    }
   ],
   "source": [
    "confusion_matrix_plot(y_test,pred)"
   ]
  },
  {
   "cell_type": "markdown",
   "metadata": {},
   "source": [
    "### Top 25 Important Features for both Positive and Negative Class"
   ]
  },
  {
   "cell_type": "code",
   "execution_count": 554,
   "metadata": {},
   "outputs": [
    {
     "data": {
      "text/html": [
       "<div>\n",
       "<style scoped>\n",
       "    .dataframe tbody tr th:only-of-type {\n",
       "        vertical-align: middle;\n",
       "    }\n",
       "\n",
       "    .dataframe tbody tr th {\n",
       "        vertical-align: top;\n",
       "    }\n",
       "\n",
       "    .dataframe thead th {\n",
       "        text-align: right;\n",
       "    }\n",
       "</style>\n",
       "<table border=\"1\" class=\"dataframe\">\n",
       "  <thead>\n",
       "    <tr style=\"text-align: right;\">\n",
       "      <th></th>\n",
       "      <th>Positive Values</th>\n",
       "      <th>Positive Words</th>\n",
       "      <th>Negative Values</th>\n",
       "      <th>Negative Words</th>\n",
       "    </tr>\n",
       "  </thead>\n",
       "  <tbody>\n",
       "    <tr>\n",
       "      <th>0</th>\n",
       "      <td>-2.184276</td>\n",
       "      <td>littl</td>\n",
       "      <td>-2.246080</td>\n",
       "      <td>realli</td>\n",
       "    </tr>\n",
       "    <tr>\n",
       "      <th>1</th>\n",
       "      <td>-2.172237</td>\n",
       "      <td>much</td>\n",
       "      <td>-2.224705</td>\n",
       "      <td>bought</td>\n",
       "    </tr>\n",
       "    <tr>\n",
       "      <th>2</th>\n",
       "      <td>-2.168022</td>\n",
       "      <td>dont</td>\n",
       "      <td>-2.203778</td>\n",
       "      <td>amazon</td>\n",
       "    </tr>\n",
       "    <tr>\n",
       "      <th>3</th>\n",
       "      <td>-2.148927</td>\n",
       "      <td>amazon</td>\n",
       "      <td>-2.200823</td>\n",
       "      <td>love</td>\n",
       "    </tr>\n",
       "    <tr>\n",
       "      <th>4</th>\n",
       "      <td>-2.133233</td>\n",
       "      <td>tea</td>\n",
       "      <td>-2.200823</td>\n",
       "      <td>disappoint</td>\n",
       "    </tr>\n",
       "    <tr>\n",
       "      <th>5</th>\n",
       "      <td>-2.123463</td>\n",
       "      <td>would</td>\n",
       "      <td>-2.186182</td>\n",
       "      <td>food</td>\n",
       "    </tr>\n",
       "    <tr>\n",
       "      <th>6</th>\n",
       "      <td>-2.095041</td>\n",
       "      <td>realli</td>\n",
       "      <td>-2.174621</td>\n",
       "      <td>time</td>\n",
       "    </tr>\n",
       "    <tr>\n",
       "      <th>7</th>\n",
       "      <td>-2.065504</td>\n",
       "      <td>also</td>\n",
       "      <td>-2.151893</td>\n",
       "      <td>box</td>\n",
       "    </tr>\n",
       "    <tr>\n",
       "      <th>8</th>\n",
       "      <td>-2.032521</td>\n",
       "      <td>buy</td>\n",
       "      <td>-2.105245</td>\n",
       "      <td>eat</td>\n",
       "    </tr>\n",
       "    <tr>\n",
       "      <th>9</th>\n",
       "      <td>-2.028244</td>\n",
       "      <td>eat</td>\n",
       "      <td>-2.081403</td>\n",
       "      <td>make</td>\n",
       "    </tr>\n",
       "    <tr>\n",
       "      <th>10</th>\n",
       "      <td>-2.025505</td>\n",
       "      <td>find</td>\n",
       "      <td>-2.063244</td>\n",
       "      <td>much</td>\n",
       "    </tr>\n",
       "    <tr>\n",
       "      <th>11</th>\n",
       "      <td>-2.001183</td>\n",
       "      <td>time</td>\n",
       "      <td>-1.979451</td>\n",
       "      <td>even</td>\n",
       "    </tr>\n",
       "    <tr>\n",
       "      <th>12</th>\n",
       "      <td>-1.876404</td>\n",
       "      <td>best</td>\n",
       "      <td>-1.915356</td>\n",
       "      <td>use</td>\n",
       "    </tr>\n",
       "    <tr>\n",
       "      <th>13</th>\n",
       "      <td>-1.808826</td>\n",
       "      <td>get</td>\n",
       "      <td>-1.884786</td>\n",
       "      <td>dont</td>\n",
       "    </tr>\n",
       "    <tr>\n",
       "      <th>14</th>\n",
       "      <td>-1.663737</td>\n",
       "      <td>make</td>\n",
       "      <td>-1.871965</td>\n",
       "      <td>order</td>\n",
       "    </tr>\n",
       "    <tr>\n",
       "      <th>15</th>\n",
       "      <td>-1.611565</td>\n",
       "      <td>product</td>\n",
       "      <td>-1.788499</td>\n",
       "      <td>get</td>\n",
       "    </tr>\n",
       "    <tr>\n",
       "      <th>16</th>\n",
       "      <td>-1.602764</td>\n",
       "      <td>tri</td>\n",
       "      <td>-1.698887</td>\n",
       "      <td>buy</td>\n",
       "    </tr>\n",
       "    <tr>\n",
       "      <th>17</th>\n",
       "      <td>-1.573907</td>\n",
       "      <td>use</td>\n",
       "      <td>-1.681187</td>\n",
       "      <td>flavor</td>\n",
       "    </tr>\n",
       "    <tr>\n",
       "      <th>18</th>\n",
       "      <td>-1.535006</td>\n",
       "      <td>one</td>\n",
       "      <td>-1.577934</td>\n",
       "      <td>good</td>\n",
       "    </tr>\n",
       "    <tr>\n",
       "      <th>19</th>\n",
       "      <td>-1.459915</td>\n",
       "      <td>flavor</td>\n",
       "      <td>-1.542188</td>\n",
       "      <td>tri</td>\n",
       "    </tr>\n",
       "    <tr>\n",
       "      <th>20</th>\n",
       "      <td>-1.369199</td>\n",
       "      <td>love</td>\n",
       "      <td>-1.542188</td>\n",
       "      <td>would</td>\n",
       "    </tr>\n",
       "    <tr>\n",
       "      <th>21</th>\n",
       "      <td>-1.331143</td>\n",
       "      <td>good</td>\n",
       "      <td>-1.433779</td>\n",
       "      <td>one</td>\n",
       "    </tr>\n",
       "    <tr>\n",
       "      <th>22</th>\n",
       "      <td>-1.290394</td>\n",
       "      <td>great</td>\n",
       "      <td>-1.230000</td>\n",
       "      <td>product</td>\n",
       "    </tr>\n",
       "    <tr>\n",
       "      <th>23</th>\n",
       "      <td>-1.260391</td>\n",
       "      <td>like</td>\n",
       "      <td>-1.091453</td>\n",
       "      <td>like</td>\n",
       "    </tr>\n",
       "    <tr>\n",
       "      <th>24</th>\n",
       "      <td>-1.218704</td>\n",
       "      <td>tast</td>\n",
       "      <td>-1.044889</td>\n",
       "      <td>tast</td>\n",
       "    </tr>\n",
       "  </tbody>\n",
       "</table>\n",
       "</div>"
      ],
      "text/plain": [
       "    Positive Values Positive Words  Negative Values Negative Words\n",
       "0         -2.184276          littl        -2.246080         realli\n",
       "1         -2.172237           much        -2.224705         bought\n",
       "2         -2.168022           dont        -2.203778         amazon\n",
       "3         -2.148927         amazon        -2.200823           love\n",
       "4         -2.133233            tea        -2.200823     disappoint\n",
       "5         -2.123463          would        -2.186182           food\n",
       "6         -2.095041         realli        -2.174621           time\n",
       "7         -2.065504           also        -2.151893            box\n",
       "8         -2.032521            buy        -2.105245            eat\n",
       "9         -2.028244            eat        -2.081403           make\n",
       "10        -2.025505           find        -2.063244           much\n",
       "11        -2.001183           time        -1.979451           even\n",
       "12        -1.876404           best        -1.915356            use\n",
       "13        -1.808826            get        -1.884786           dont\n",
       "14        -1.663737           make        -1.871965          order\n",
       "15        -1.611565        product        -1.788499            get\n",
       "16        -1.602764            tri        -1.698887            buy\n",
       "17        -1.573907            use        -1.681187         flavor\n",
       "18        -1.535006            one        -1.577934           good\n",
       "19        -1.459915         flavor        -1.542188            tri\n",
       "20        -1.369199           love        -1.542188          would\n",
       "21        -1.331143           good        -1.433779            one\n",
       "22        -1.290394          great        -1.230000        product\n",
       "23        -1.260391           like        -1.091453           like\n",
       "24        -1.218704           tast        -1.044889           tast"
      ]
     },
     "execution_count": 554,
     "metadata": {},
     "output_type": "execute_result"
    }
   ],
   "source": [
    "top_25_features(nb_optimal,tf_idf_vect)"
   ]
  },
  {
   "cell_type": "markdown",
   "metadata": {},
   "source": [
    "### Tfidf- Word2Vec BernoulliNB"
   ]
  },
  {
   "cell_type": "code",
   "execution_count": 178,
   "metadata": {},
   "outputs": [
    {
     "data": {
      "text/plain": [
       "346013    got excel servic movi arriv promis date qualit...\n",
       "59348     recepi box produc good muffin need add egg mak...\n",
       "2009      tast better look first thing said skeptic look...\n",
       "381644    look gluten free cereal sweet one tast like co...\n",
       "259086    navita natur certifi organ goji berri wonder s...\n",
       "Name: Cleaned_Text, dtype: object"
      ]
     },
     "execution_count": 178,
     "metadata": {},
     "output_type": "execute_result"
    }
   ],
   "source": [
    "x_train, x_test, y_train, y_test = train_test_split(nb_data['Cleaned_Text'] ,nb_data['Score'], test_size=0.3, random_state=0)\n",
    "x_test.head()"
   ]
  },
  {
   "cell_type": "code",
   "execution_count": 179,
   "metadata": {},
   "outputs": [],
   "source": [
    "tf_idf_vect = TfidfVectorizer(ngram_range=(1,2))\n",
    "x_train = tf_idf_vect.fit_transform(x_train)"
   ]
  },
  {
   "cell_type": "code",
   "execution_count": 180,
   "metadata": {},
   "outputs": [],
   "source": [
    "tfidf_feat= tf_idf_vect.get_feature_names()\n",
    "tfidf_sent_vectors = []\n",
    "row=0;\n",
    "for sent in list_of_sent: # for each review/sentence \n",
    "    sent_vec = np.zeros(100) # as word vectors are of zero length\n",
    "    weight_sum =0; # num of words with a valid vector in the sentence/review\n",
    "    for word in sent: # for each word in a review/sentence\n",
    "        if ((word in w2v_words) and (word in tfidf_feat)):\n",
    "            vec = w2v_model.wv[word]\n",
    "            # obtain the tf_idfidf of a word in a sentence/review\n",
    "            tf_idf = x_train[row, tfidf_feat.index(word)]\n",
    "            sent_vec += (vec * tf_idf)\n",
    "            weight_sum += tf_idf\n",
    "    if weight_sum != 0:\n",
    "        sent_vec /= weight_sum\n",
    "    tfidf_sent_vectors.append(sent_vec)\n",
    "    row += 1\n",
    "    if row == (x_train.shape[0]):\n",
    "        break"
   ]
  },
  {
   "cell_type": "code",
   "execution_count": 181,
   "metadata": {},
   "outputs": [],
   "source": [
    "tfidf_sent_vectors_arr = np.asarray(tfidf_sent_vectors)"
   ]
  },
  {
   "cell_type": "code",
   "execution_count": 182,
   "metadata": {},
   "outputs": [],
   "source": [
    "tfidf_sent_vectors_normalize = normalize(tfidf_sent_vectors_arr)"
   ]
  },
  {
   "cell_type": "code",
   "execution_count": 183,
   "metadata": {},
   "outputs": [],
   "source": [
    "tfidf_sent_vectors_normalize.shape\n",
    "df_scores = nb_data['Score'].head(tfidf_sent_vectors_normalize.shape[0])"
   ]
  },
  {
   "cell_type": "code",
   "execution_count": 184,
   "metadata": {},
   "outputs": [
    {
     "data": {
      "text/plain": [
       "(19600,)"
      ]
     },
     "execution_count": 184,
     "metadata": {},
     "output_type": "execute_result"
    }
   ],
   "source": [
    "x_train, x_test, y_train, y_test = train_test_split(tfidf_sent_vectors_normalize ,df_scores, test_size=0.3, random_state=0)\n",
    "y_train.shape"
   ]
  },
  {
   "cell_type": "code",
   "execution_count": 187,
   "metadata": {},
   "outputs": [
    {
     "name": "stdout",
     "output_type": "stream",
     "text": [
      "Fitting 5 folds for each of 15 candidates, totalling 75 fits\n"
     ]
    },
    {
     "name": "stderr",
     "output_type": "stream",
     "text": [
      "[Parallel(n_jobs=1)]: Done  75 out of  75 | elapsed:    3.6s finished\n"
     ]
    },
    {
     "data": {
      "text/plain": [
       "GridSearchCV(cv=TimeSeriesSplit(max_train_size=None, n_splits=5),\n",
       "       error_score='raise',\n",
       "       estimator=BernoulliNB(alpha=1.0, binarize=0.0, class_prior=None, fit_prior=True),\n",
       "       fit_params=None, iid=True, n_jobs=1,\n",
       "       param_grid={'alpha': [0.0005, 0.0001, 0.005, 0.001, 0.05, 0.01, 0.5, 0.1, 0, 1, 10, 50, 100, 500, 1000]},\n",
       "       pre_dispatch='2*n_jobs', refit=True, return_train_score='warn',\n",
       "       scoring=None, verbose=1)"
      ]
     },
     "execution_count": 187,
     "metadata": {},
     "output_type": "execute_result"
    }
   ],
   "source": [
    "nb = BernoulliNB()\n",
    "time_split_cv = TimeSeriesSplit(n_splits = 5)\n",
    "alpha_list = [0.0005,0.0001,0.005,0.001,0.05,0.01,0.5,0.1,0,1,10,50,100,500,1000]\n",
    "param_grid = {'alpha':alpha_list}\n",
    "grid_search = GridSearchCV(nb,param_grid,cv=time_split_cv,verbose=1)\n",
    "grid_search.fit(x_train,y_train)"
   ]
  },
  {
   "cell_type": "code",
   "execution_count": 194,
   "metadata": {},
   "outputs": [],
   "source": [
    "save_data(grid_search.cv_results_,'tfidf_w2v_grid_search_nb_2')"
   ]
  },
  {
   "cell_type": "code",
   "execution_count": 189,
   "metadata": {},
   "outputs": [
    {
     "data": {
      "image/png": "[encoded data removed]",
      "text/plain": [
       "<Figure size 432x288 with 1 Axes>"
      ]
     },
     "metadata": {},
     "output_type": "display_data"
    }
   ],
   "source": [
    "acc_vs_kvalue_plot(grid_search.cv_results_['mean_test_score']*100)"
   ]
  },
  {
   "cell_type": "code",
   "execution_count": 190,
   "metadata": {},
   "outputs": [
    {
     "name": "stdout",
     "output_type": "stream",
     "text": [
      "Best Alpha-Value  0.0005\n",
      "Best Accuracy 88.720147%\n"
     ]
    }
   ],
   "source": [
    "print('Best Alpha-Value ',grid_search.best_params_.get('alpha'))\n",
    "print('Best Accuracy %f% %'%(grid_search.best_score_*100))"
   ]
  },
  {
   "cell_type": "code",
   "execution_count": 191,
   "metadata": {},
   "outputs": [],
   "source": [
    "nb_optimal = BernoulliNB(alpha = grid_search.best_params_.get('alpha'))\n",
    "nb_optimal.fit(x_train, y_train)\n",
    "pred = nb_optimal.predict(x_test)\n",
    "acc = accuracy_score(y_test, pred) * 100"
   ]
  },
  {
   "cell_type": "code",
   "execution_count": 192,
   "metadata": {},
   "outputs": [
    {
     "data": {
      "text/html": [
       "<div>\n",
       "<style scoped>\n",
       "    .dataframe tbody tr th:only-of-type {\n",
       "        vertical-align: middle;\n",
       "    }\n",
       "\n",
       "    .dataframe tbody tr th {\n",
       "        vertical-align: top;\n",
       "    }\n",
       "\n",
       "    .dataframe thead th {\n",
       "        text-align: right;\n",
       "    }\n",
       "</style>\n",
       "<table border=\"1\" class=\"dataframe\">\n",
       "  <thead>\n",
       "    <tr style=\"text-align: right;\">\n",
       "      <th></th>\n",
       "      <th>Accuracy</th>\n",
       "      <th>Precision score</th>\n",
       "      <th>Recall score</th>\n",
       "      <th>F1 score</th>\n",
       "    </tr>\n",
       "  </thead>\n",
       "  <tbody>\n",
       "    <tr>\n",
       "      <th>0</th>\n",
       "      <td>89.261905</td>\n",
       "      <td>0.892619</td>\n",
       "      <td>1.0</td>\n",
       "      <td>0.943263</td>\n",
       "    </tr>\n",
       "  </tbody>\n",
       "</table>\n",
       "</div>"
      ],
      "text/plain": [
       "    Accuracy  Precision score  Recall score  F1 score\n",
       "0  89.261905         0.892619           1.0  0.943263"
      ]
     },
     "execution_count": 192,
     "metadata": {},
     "output_type": "execute_result"
    }
   ],
   "source": [
    "metric_scores(y_test,pred)"
   ]
  },
  {
   "cell_type": "code",
   "execution_count": 193,
   "metadata": {},
   "outputs": [
    {
     "name": "stdout",
     "output_type": "stream",
     "text": [
      "True Positive 7498\n",
      "True Negative 0\n",
      "False Positive 902\n",
      "False Negative 0\n"
     ]
    },
    {
     "data": {
      "image/png": "[encoded data removed]",
      "text/plain": [
       "<Figure size 432x288 with 2 Axes>"
      ]
     },
     "metadata": {},
     "output_type": "display_data"
    }
   ],
   "source": [
    "confusion_matrix_plot(y_test,pred)"
   ]
  },
  {
   "cell_type": "markdown",
   "metadata": {},
   "source": [
    "### Summary of the various Naive Bayes Algorithm"
   ]
  },
  {
   "cell_type": "code",
   "execution_count": 200,
   "metadata": {},
   "outputs": [
    {
     "name": "stdout",
     "output_type": "stream",
     "text": [
      "+--------------+----------------+------------+-------------------+\n",
      "|    Model     |   Algorithm    | Best Alpha |   Best Accuracy   |\n",
      "+--------------+----------------+------------+-------------------+\n",
      "|     BOW      | Multinomial NB |   0.005    |  90.0685812258894 |\n",
      "|     BOW      |  Bernoulli NB  |    0.1     | 89.78568366909559 |\n",
      "|   Trigram    | Multinomial NB |     0      | 89.65709387055294 |\n",
      "|   Trigram    |  Bernouli NB   |     0      | 89.21560222888985 |\n",
      "|    Tf-Idf    | Multinomial NB |     0      |  89.4127732533219 |\n",
      "|    Tf-Idf    |  Bernoulli NB  |     0      | 89.45992284612088 |\n",
      "|     W2V      |  Bernoulli NB  |    1000    | 88.35272504592774 |\n",
      "| Tf-Idf - W2v |  Bernoulli NB  |   0.0005   | 88.72014696876913 |\n",
      "+--------------+----------------+------------+-------------------+\n"
     ]
    }
   ],
   "source": [
    "summary_of_scores()"
   ]
  }
 ],
 "metadata": {
  "kernelspec": {
   "display_name": "Python 3",
   "language": "python",
   "name": "python3"
  },
  "language_info": {
   "codemirror_mode": {
    "name": "ipython",
    "version": 3
   },
   "file_extension": ".py",
   "mimetype": "text/x-python",
   "name": "python",
   "nbconvert_exporter": "python",
   "pygments_lexer": "ipython3",
   "version": "3.6.5"
  }
 },
 "nbformat": 4,
 "nbformat_minor": 2
}
